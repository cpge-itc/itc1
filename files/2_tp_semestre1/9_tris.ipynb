{
 "cells": [
  {
   "cell_type": "markdown",
   "metadata": {},
   "source": [
    "# <center><a href='https://mybinder.org/v2/gh/fortierq/itc-binder/main?urlpath=git-pull%3Frepo%3Dhttps%253A%252F%252Fgithub.com%252Ffortierq%252Fitc1%26urlpath%3Dlab%252Ftree%252Fitc1%252Ffiles%252F2_tp_semestre1%252F9_tris.ipynb%26branch%3Dmaster'>TP 9 : Algorithmes de tri <img src=https://mybinder.org/badge.svg></a></center>\n",
    "\n",
    "On souhaite trier une liste `L` c'est-à-dire réarranger ses éléments pour qu'ils soient rangés dans l'ordre croissant.  \n",
    "Par exemple, si `L = [5, 1, -4, 2, -8, 7]` alors un algorithme de tri doit permettre d'obtenir la liste `[-8, -4, 1, 2, 5, 7]`.  \n",
    "Dans ce TP, nous étudions plusieurs algorithmes de tri. **Pensez à bien tester toutes vos fonctions**."
   ]
  },
  {
   "cell_type": "markdown",
   "metadata": {},
   "source": [
    "## Tri par sélection\n",
    "\n",
    "Le tri par sélection consiste à chercher le minimum que l'on met en 1ère position de la liste, puis le 2ème plus petit élément en 2ème position..."
   ]
  },
  {
   "cell_type": "markdown",
   "metadata": {
    "tags": [
     "exo"
    ]
   },
   "source": [
    "**Exercice** : Écrire une fonction `minimum(L, i)` qui renvoie **l'indice du minimum** de la liste `L` à partir de la position `i`.  \n",
    "Par exemple, si `L = [5, 1, -8, 2, -4, 7]`, `minimum(L, 0)` doit renvoyer `2` (correspondant à `L[2] = -8`) et `minimum([5, 1, -8, 2, -4, 7], 3)` doit renvoyer `4` (correspondant à `L[4] = -4`)."
   ]
  },
  {
   "cell_type": "markdown",
   "metadata": {
    "tags": [
     "exo"
    ]
   },
   "source": [
    "**Exercice** : Écrire une fonction `tri_selection(L)` qui trie une liste `L` en utilisant le tri par sélection. On pourra compléter le code suivant :\n",
    "```python\n",
    "def tri_selection(L):\n",
    "    for i in range(len(L)):\n",
    "        m = minimum(L, i)\n",
    "        # échanger L[i] et L[m]\n",
    "```"
   ]
  },
  {
   "cell_type": "markdown",
   "metadata": {},
   "source": [
    "\n",
    "## Tri par insertion\n",
    "\n",
    "Le tri par insertion consiste à trier progressivement la liste `L`, de gauche à droite. Plus précisément, à l'étape $i$, les $i$ premiers de `L` sont triés et on fait en sorte d'insérer le $i+1$ème élément `L[i]` au bon endroit pour que les $i + 1$ premiers éléments soient triés.  \n",
    "Voici les étapes du tri par insertion pour la liste `L = [5, 1, -4, 2, -8, 7]` :\n",
    "- `i = 0` : on insère `L[0] = 5` de façon à ce que le 1er élément de `L` soit trié (il n'y a rien à faire : un élément seul est toujours trié). `L` vaut [**5**, 1, -4, 2, -8, 7]  (on met en gras la partie de `L` déjà triée).  \n",
    "- `i = 1` : on insère `L[1] = 1` au bon endroit, ce qui donne [**1, 5**, -4, 2, -8, 7]\n",
    "- `i = 2` : on insère `L[2] = -4` au bon endroit, ce qui donne [**-4, 1, 5**, 2, -8, 7]\n",
    "- `i = 3` : on insère `L[3] = 2` au bon endroit, ce qui donne [**-4, 1, 2, 5**, -8, 7]\n",
    "- `i = 4` : on insère `L[4] = -8` au bon endroit, ce qui donne [**-8, -4, 1, 2, 5**, 7]\n",
    "- `i = 5` : on insère `L[5] = 7` au bon endroit, ce qui donne [**-8, -4, 1, 2, 5, 7**]  \n",
    "\n",
    "On a terminé, et la liste est bien triée.  "
   ]
  },
  {
   "cell_type": "markdown",
   "metadata": {
    "tags": [
     "exo"
    ]
   },
   "source": [
    "**Exercice** : Ecrire une fonction `position` telle que, si `L` est une liste, `i` un indice de `L` et `e` une valeur, `position(L, i, e)` renvoie le plus petit indice `j < i` tel que `L[j] > e`. S'il n'existe pas de tel indice `j`, on renverra `i`.  \n",
    "Exemple : `position([1, 5, -4, 2, -8, 7], 2, -4)` doit renvoyer `0`,  `position([-8, -4, 1, 2, 5, 7], 5, 7)` doit renvoyer `5`.  \n",
    "On pourra compléter le code suivant :\n",
    "```python\n",
    "def position(L, i, e):\n",
    "    for j in range(i):\n",
    "        if ...:\n",
    "            return ...\n",
    "    return i\n",
    "\n",
    "print(position([1, 5, -4, 2, -8, 7], 2, -4)) # test\n",
    "print(position([-8, -4, 1, 2, 5, 7], 5, 7)) # test\n",
    "```"
   ]
  },
  {
   "cell_type": "markdown",
   "metadata": {
    "tags": [
     "exo"
    ]
   },
   "source": [
    "**Exercice** : Écrire une fonction `decaler` telle que `decaler(L, i, j)` décale les éléments de la liste `L` d'une position vers la droite. Ainsi, la valeur de `L[i]` doit être mise dans `L[i + 1]`, `L[i + 1]` dans `L[i + 2]`, ..., `L[j - 1]` doit être mise dans `L[j]`.  \n",
    "Par exemple, après les instructions `L = [1, 3, 6, 9, 17]` et `decaler(L, 1, 3)`, `L` doit contenir `[1, 3, 3, 6, 17]` (`L[i]` n'est pas modifié)."
   ]
  },
  {
   "cell_type": "markdown",
   "metadata": {
    "tags": [
     "exo"
    ]
   },
   "source": [
    "**Exercice** : En utilisant `position` et `decaler`, écrire une fonction `tri_insertion` qui trie une liste en utilisant le tri par insertion. On pourra compléter le code suivant :\n",
    "```python\n",
    "def tri_insertion(L):\n",
    "    for i in range(len(L)):\n",
    "        p = ...\n",
    "        decaler(...)\n",
    "        ... # mettre l'anciennce valeur de L[i] dans L[p]\n",
    "```"
   ]
  },
  {
   "cell_type": "markdown",
   "metadata": {},
   "source": [
    "## Tri fusion (récursivement)\n",
    "\n",
    "Le tri fusion sur une liste `L` consiste à :\n",
    "- Séparer `L` en deux listes `L1` et `L2` de même taille.\n",
    "- Trier récursivement `L1` et `L2` pour obtenir des listes triées `L1'` et `L2'`.\n",
    "- Fusionner `L1'` et `L2'` pour avoir un tri de `L`.  \n",
    "Le tri fusion est donc récursif.\n",
    "\n",
    "Illustration du tri fusion sur `L = [5, 1, -4, 2, -8, 7]` :\n",
    "<center><img src=https://github.com/fortierq/tikz/blob/master/sort/merge/merge_ex.png?raw=true width=600></center>"
   ]
  },
  {
   "cell_type": "markdown",
   "metadata": {},
   "source": [
    "Dans l'exemple ci-dessus, on n'a pas détaillé l'exécution des appels récursifs.  \n",
    "Voici un exemple complètement détaillé du tri fusion sur `L = [39, 27, 43, 3, 9, 82, 10]`, où les divisions sont représentées par des flèches rouges et les fusions avec des flèches vertes :"
   ]
  },
  {
   "cell_type": "markdown",
   "metadata": {},
   "source": [
    "\n",
    "<center><img src=https://github.com/fortierq/tikz/blob/master/sort/merge/merge_entire.png?raw=true width=500></center>"
   ]
  },
  {
   "cell_type": "markdown",
   "metadata": {
    "tags": [
     "exo"
    ]
   },
   "source": [
    "**Exercice** : Écrire une fonction `division` telle que `division(L)` renvoie deux listes `L1` et `L2` qui séparent `L` en deux listes de même taille (à $\\pm 1$)."
   ]
  },
  {
   "cell_type": "markdown",
   "metadata": {
    "tags": [
     "exo"
    ]
   },
   "source": [
    "**Exercice** : Écrire une fonction `fusion` telle que `fusion(L1, L2)` renvoie une liste `L` qui est la fusion de `L1` et `L2`."
   ]
  },
  {
   "cell_type": "markdown",
   "metadata": {
    "tags": [
     "exo"
    ]
   },
   "source": [
    "**Exercice** : Écrire une fonction `tri_fusion` qui trie une liste en utilisant le tri fusion."
   ]
  }
 ],
 "metadata": {
  "interpreter": {
   "hash": "638d2bb0c3d5a654c8dabbf1e544957f030902e91031027a7993b713e9c17aba"
  },
  "kernelspec": {
   "display_name": "Python 3",
   "language": "python",
   "name": "python3"
  },
  "language_info": {
   "codemirror_mode": {
    "name": "ipython",
    "version": 3
   },
   "file_extension": ".py",
   "mimetype": "text/x-python",
   "name": "python",
   "nbconvert_exporter": "python",
   "pygments_lexer": "ipython3",
   "version": "3.9.6"
  }
 },
 "nbformat": 4,
 "nbformat_minor": 4
}
