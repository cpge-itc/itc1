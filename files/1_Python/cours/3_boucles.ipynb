{
 "cells": [
  {
   "cell_type": "markdown",
   "source": [
    "# <center><a href='https://mybinder.org/v2/gh/fortierq/itc-binder/main?urlpath=git-pull%3Frepo%3Dhttps%253A%252F%252Fgithub.com%252Ffortierq%252Fitc1%26urlpath%3Dlab%252Ftree%252Fitc1%252Ffiles%252F1_Python%252Fcours%252F3_boucles.ipynb%26branch%3Dmaster'>Boucle for <img src=https://mybinder.org/badge.svg></a></center>"
   ],
   "metadata": {}
  },
  {
   "cell_type": "markdown",
   "source": [
    "## Range"
   ],
   "metadata": {}
  },
  {
   "cell_type": "markdown",
   "source": [
    "Une boucle `for` permet de répéter des instructions un certain nombre de fois :"
   ],
   "metadata": {}
  },
  {
   "cell_type": "code",
   "execution_count": 1,
   "source": [
    "for i in range(5):\r\n",
    "    print(i)  # affiche i pour i variant de 0 à 4"
   ],
   "outputs": [
    {
     "output_type": "stream",
     "name": "stdout",
     "text": [
      "0\n",
      "1\n",
      "2\n",
      "3\n",
      "4\n"
     ]
    }
   ],
   "metadata": {}
  },
  {
   "cell_type": "markdown",
   "source": [
    "**Remarque** : on utilise souvent `i` comme nom de variable, mais on aurait pu l'appeler autrement. Par exemple le code suivant fait exactement la même chose :\n",
    "```python\n",
    "for variable in range(5):\n",
    "    print(variable)\n",
    "```    "
   ],
   "metadata": {}
  },
  {
   "cell_type": "markdown",
   "source": [
    "**Attention** : une boucle `for i in range(n)` commence à 0 et finit à $n - 1$ (l'indice de fin est toujours exclu en Python). "
   ],
   "metadata": {}
  },
  {
   "cell_type": "markdown",
   "source": [
    "**Exercice** : Combien de fois s'exécute une boucle `for i in range(n)`?"
   ],
   "metadata": {}
  },
  {
   "cell_type": "markdown",
   "source": [
    "L'exemple suivant permet de calculer la somme des 100 premiers entiers ($0 + 1 + 2 + ... + 99$) :"
   ],
   "metadata": {}
  },
  {
   "cell_type": "code",
   "execution_count": 15,
   "source": [
    "somme = 0\r\n",
    "for k in range(100):\r\n",
    "    somme += k  # même chose que somme = somme + k\r\n",
    "somme"
   ],
   "outputs": [
    {
     "output_type": "execute_result",
     "data": {
      "text/plain": [
       "4950"
      ]
     },
     "metadata": {},
     "execution_count": 15
    }
   ],
   "metadata": {}
  },
  {
   "cell_type": "markdown",
   "source": [
    "**Exercice** : Quelle formule connaissez-vous pour la somme précédente? L'utiliser pour vérifier votre résultat."
   ],
   "metadata": {}
  },
  {
   "cell_type": "markdown",
   "source": [
    "Une variante du `range` permet de parcourir les entiers de $a$ à $b - 1$ : `for i in range(a, b)`."
   ],
   "metadata": {}
  },
  {
   "cell_type": "code",
   "execution_count": 12,
   "source": [
    "for i in range(3, 6):\r\n",
    "    print(i)"
   ],
   "outputs": [
    {
     "output_type": "stream",
     "name": "stdout",
     "text": [
      "3\n",
      "4\n",
      "5\n"
     ]
    }
   ],
   "metadata": {}
  },
  {
   "cell_type": "markdown",
   "source": [
    "**Exercice** : Calculer $\\sum_{k = 5}^{20} \\sqrt{k}$  (= $\\sqrt{5} + \\sqrt{6} + ... + \\sqrt{20}$)."
   ],
   "metadata": {}
  },
  {
   "cell_type": "markdown",
   "source": [
    "**Exercice** : Écrire une fonction `fact` telle que `fact(n)` renvoie $n!$ ($n$ factorielle), c'est à dire $n\\times(n-1)\\times ... \\times 2 \\times1$."
   ],
   "metadata": {}
  },
  {
   "cell_type": "markdown",
   "source": [
    "Une boucle for est utile pour calculer les termes d'une suite récurrente $u_n$. Pour cela, on définie une variable `un` valant initialement $u_0$ que l'on remplace par la valeur suivante de la suite dans uen boucle `for`. Ainsi `un` prend la valeur de $u_0$, puis  $u_1$, $u_2$..."
   ],
   "metadata": {}
  },
  {
   "cell_type": "markdown",
   "source": [
    "**Exercice** : Calculer $u_{10}$, où $u_n$ est définie par $u_0 = 42$ et $u_{n+1} = \\sqrt{u_n} + 3u_n$."
   ],
   "metadata": {}
  },
  {
   "cell_type": "markdown",
   "source": [
    "**Exercice** Calculer $v_n$ défini par :\n",
    "$$v_0 = v_1 = 1$$\n",
    "$$v_{n + 2} = v_{n + 1} + v_{n}$$"
   ],
   "metadata": {}
  },
  {
   "cell_type": "markdown",
   "source": [
    "## for et liste\n",
    "\n",
    "Pour énumérer les éléments d'une listes, on peut parcourir ses indices :"
   ],
   "metadata": {}
  },
  {
   "cell_type": "code",
   "execution_count": 9,
   "source": [
    "L = [2, 3, 5, 7, 11]\r\n",
    "for i in range(len(L)):  # les indices de L vont de 0 à len(L) - 1\r\n",
    "    print(L[i])"
   ],
   "outputs": [
    {
     "output_type": "stream",
     "name": "stdout",
     "text": [
      "2\n",
      "3\n",
      "5\n",
      "7\n",
      "11\n"
     ]
    }
   ],
   "metadata": {}
  },
  {
   "cell_type": "markdown",
   "source": [
    "Lorsqu'on n'a pas besoin des indices, on peut utiliser `for e in L` (attention toutefois à ne pas confondre indice et élément):"
   ],
   "metadata": {}
  },
  {
   "cell_type": "code",
   "execution_count": 5,
   "source": [
    "for e in L:\r\n",
    "    print(e)"
   ],
   "outputs": [
    {
     "output_type": "stream",
     "name": "stdout",
     "text": [
      "2\n",
      "3\n",
      "5\n",
      "7\n",
      "11\n"
     ]
    }
   ],
   "metadata": {}
  },
  {
   "cell_type": "markdown",
   "source": [
    "**Exercice** : Écrire une fonction pour calculer la somme des éléments d'une liste."
   ],
   "metadata": {}
  },
  {
   "cell_type": "code",
   "execution_count": null,
   "source": [
    "def somme(L):\r\n",
    "    res = 0\r\n",
    "    for e in L:\r\n",
    "        res += e\r\n",
    "    return res"
   ],
   "outputs": [],
   "metadata": {}
  },
  {
   "cell_type": "markdown",
   "source": [
    "**Exercice** : Écrire une fonction `appartient` telle que `appartient(x, L)` renvoie `True` si `x` appartient à la liste `L`, `False` sinon."
   ],
   "metadata": {}
  },
  {
   "cell_type": "code",
   "execution_count": 1,
   "source": [
    "def appartient(x, L):\r\n",
    "    for e in L:\r\n",
    "        if x == e:\r\n",
    "            return True\r\n",
    "    return False"
   ],
   "outputs": [],
   "metadata": {}
  },
  {
   "cell_type": "markdown",
   "source": [
    "**Exercice** : \n",
    "1. Écrire une fonction pour déterminer si une liste est triée par ordre croissant.\n",
    "2. En déduire une fonction pour savoir si la liste est triée par ordre décroissant. On pourra utiliser `not` pour la négation."
   ],
   "metadata": {}
  },
  {
   "cell_type": "markdown",
   "source": [
    "Par défaut, une boucle `for i in range(n)` fait augmenter `i` de un à chaque passage. Il est possible de changer ce pas :"
   ],
   "metadata": {}
  },
  {
   "cell_type": "code",
   "execution_count": 23,
   "source": [
    "for i in range(0, 10, 2):  # entier de 0 à 9 en allant de 2 en 2\r\n",
    "    print(i)"
   ],
   "outputs": [
    {
     "output_type": "stream",
     "name": "stdout",
     "text": [
      "0\n",
      "2\n",
      "4\n",
      "6\n",
      "8\n"
     ]
    }
   ],
   "metadata": {}
  },
  {
   "cell_type": "markdown",
   "source": [
    "# Boucle while"
   ],
   "metadata": {}
  },
  {
   "cell_type": "markdown",
   "source": [
    "La boucle while répète des instructions tant qu'une condition est vraie :"
   ],
   "metadata": {}
  },
  {
   "cell_type": "code",
   "execution_count": 26,
   "source": [
    "i = 3\r\n",
    "while i >= 0:\r\n",
    "    print(i)\r\n",
    "    i -= 1"
   ],
   "outputs": [
    {
     "output_type": "stream",
     "name": "stdout",
     "text": [
      "3\n",
      "2\n",
      "1\n",
      "0\n"
     ]
    }
   ],
   "metadata": {}
  },
  {
   "cell_type": "markdown",
   "source": [
    "**Attention** : si la condition est toujours vraie, il y a \"boucle infinie\" et il faut l'arrêter avec le bouton stop : \n",
    "<center> width=300></center>"
   ],
   "metadata": {}
  },
  {
   "cell_type": "markdown",
   "source": [
    "**Exercice** : Définir un entier $n$ égal à 29568. Puis écrire une boucle `while` permettant de connaître la plus grande puissance de 2 divisant 29568, c'est à dire le plus grand $k$ tel que $2^k$ divise 29568.  \n",
    "```python\n",
    "n = 29568\n",
    "k = 0\n",
    "while ...:\n",
    "    ... # à compléter\n",
    "```"
   ],
   "metadata": {}
  },
  {
   "cell_type": "markdown",
   "source": [],
   "metadata": {}
  }
 ],
 "metadata": {
  "kernelspec": {
   "name": "python3",
   "display_name": "Python 3.9.1 64-bit ('base': conda)"
  },
  "language_info": {
   "codemirror_mode": {
    "name": "ipython",
    "version": 3
   },
   "file_extension": ".py",
   "mimetype": "text/x-python",
   "name": "python",
   "nbconvert_exporter": "python",
   "pygments_lexer": "ipython3",
   "version": "3.9.1"
  },
  "interpreter": {
   "hash": "80d9894a3b5815f7372610aa6642550cfc561afb6a89a6bb320ec4bc44e3d10c"
  }
 },
 "nbformat": 4,
 "nbformat_minor": 5
}