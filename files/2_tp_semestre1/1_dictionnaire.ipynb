{
 "cells": [
  {
   "cell_type": "markdown",
   "metadata": {},
   "source": [
    "# <center><a href='https://colab.research.google.com/github/cpge-itc/itc1/blob/main/files/2_tp_semestre1/1_dictionnaire.ipynb'>TP 1 : Dictionnaire et recherche séquentielle <img src=https://colab.research.google.com/assets/colab-badge.svg width=100></a></center>\n",
    "\n",
    "## Recherche séquentielle dans une liste"
   ]
  },
  {
   "cell_type": "markdown",
   "metadata": {
    "tags": [
     "exo"
    ]
   },
   "source": [
    "1. Ecrire une fonction `appartient` telle que `appartient(e, L)` renvoie `True` si `e` appartient à `L`, `False` sinon.  \n",
    "2. Ecrire une `maximum` renvoyant le maximum d'une liste.  \n",
    "3. Ecrire une fonction `maximum2` renvoyant le deuxième plus grand élément d'une liste. Par exemple `maximum2([2, 1, 3, 0, 5])` doit renvoyer 3. On supposera tous les éléments différents pour simplifier."
   ]
  },
  {
   "cell_type": "code",
   "execution_count": 1,
   "metadata": {
    "tags": [
     "cor"
    ]
   },
   "outputs": [
    {
     "data": {
      "text/plain": [
       "3"
      ]
     },
     "execution_count": 1,
     "metadata": {},
     "output_type": "execute_result"
    }
   ],
   "source": [
    "def appartient(e, L):\n",
    "    for i in range(len(L)):\n",
    "        if e == L[i]:\n",
    "            return True\n",
    "    return False\n",
    "\n",
    "def maximum(L):\n",
    "    m = L[0]\n",
    "    for i in range(1, len(L)):\n",
    "        if L[i] > m:\n",
    "            m = L[i]\n",
    "    return m\n",
    "\n",
    "def maximum2(L):\n",
    "    if L[0] > L[1]:\n",
    "        m, m2 = L[0], L[1]\n",
    "    else:\n",
    "        m, m2 = L[1], L[0]\n",
    "    # m est le maximum et m2 le 2ème maximum\n",
    "    for i in range(2, len(L)):\n",
    "        if L[i] > m2:\n",
    "            if L[i] > m:\n",
    "                m, m2 = L[i], m\n",
    "            else:\n",
    "                m2 = L[i]\n",
    "    return m2\n",
    "\n",
    "maximum2([2, 1, 3, 0, 5])"
   ]
  },
  {
   "cell_type": "markdown",
   "metadata": {},
   "source": [
    "## Dictionnaire\n",
    "\n",
    "Un dictionnaire permet de stocker des associations clés-valeurs : à chaque clé, le dictionnaire donne une valeur. C'est similaire à une liste qui possède une valeur à chaque indice (= clé) sauf que les clés d'un dictionnaire ne sont pas forcément des entiers consécutifs."
   ]
  },
  {
   "cell_type": "markdown",
   "metadata": {},
   "source": [
    "Exemple de définition d'un dictionnaire qui à 2 associe 4 et à 3 associe 6 :"
   ]
  },
  {
   "cell_type": "code",
   "execution_count": 1,
   "metadata": {},
   "outputs": [],
   "source": [
    "dictionnaire = {2: 4, 3: 6}"
   ]
  },
  {
   "cell_type": "markdown",
   "metadata": {},
   "source": [
    "Pour récupérer la valeur associée à 3 :"
   ]
  },
  {
   "cell_type": "code",
   "execution_count": 3,
   "metadata": {},
   "outputs": [
    {
     "data": {
      "text/plain": [
       "6"
      ]
     },
     "execution_count": 3,
     "metadata": {},
     "output_type": "execute_result"
    }
   ],
   "source": [
    "dictionnaire[3]  # comme pour une liste"
   ]
  },
  {
   "cell_type": "markdown",
   "metadata": {},
   "source": [
    "Pour ajouter une association de 4 vers 8 :"
   ]
  },
  {
   "cell_type": "code",
   "execution_count": 6,
   "metadata": {},
   "outputs": [],
   "source": [
    "dictionnaire[4] = 8"
   ]
  },
  {
   "cell_type": "markdown",
   "metadata": {},
   "source": [
    "Pour obtenir le nombre de clés d'un dictionnaire :"
   ]
  },
  {
   "cell_type": "code",
   "execution_count": 7,
   "metadata": {},
   "outputs": [
    {
     "data": {
      "text/plain": [
       "3"
      ]
     },
     "execution_count": 7,
     "metadata": {},
     "output_type": "execute_result"
    }
   ],
   "source": [
    "len(dictionnaire)"
   ]
  },
  {
   "cell_type": "markdown",
   "metadata": {},
   "source": [
    "Pour obtenir la liste des clés d'un dictionnaire :"
   ]
  },
  {
   "cell_type": "code",
   "execution_count": 9,
   "metadata": {},
   "outputs": [
    {
     "data": {
      "text/plain": [
       "dict_keys([2, 3, 4])"
      ]
     },
     "execution_count": 9,
     "metadata": {},
     "output_type": "execute_result"
    }
   ],
   "source": [
    "dictionnaire.keys()"
   ]
  },
  {
   "cell_type": "markdown",
   "metadata": {},
   "source": [
    "On peut parcourir les clés avec une boucles for :"
   ]
  },
  {
   "cell_type": "code",
   "execution_count": 10,
   "metadata": {},
   "outputs": [
    {
     "name": "stdout",
     "output_type": "stream",
     "text": [
      "la valeur associée à la clé 2 est la valeur 4\n",
      "la valeur associée à la clé 3 est la valeur 6\n",
      "la valeur associée à la clé 4 est la valeur 8\n"
     ]
    }
   ],
   "source": [
    "for cle in dictionnaire.keys():  # .keys() est optionnel\n",
    "    print(f\"la valeur associée à la clé {cle} est la valeur {dictionnaire[cle]}\")"
   ]
  },
  {
   "cell_type": "markdown",
   "metadata": {},
   "source": [
    "On peut aussi créer un dictionnaire vide :"
   ]
  },
  {
   "cell_type": "code",
   "execution_count": null,
   "metadata": {},
   "outputs": [],
   "source": [
    "d = {}  # dictionnaire vide\n",
    "d = dict()  # autre façon de définir un dictionnaire vide\n",
    "# on peut ensuite ajouter des éléments avec d"
   ]
  },
  {
   "cell_type": "markdown",
   "metadata": {
    "tags": [
     "exo"
    ]
   },
   "source": [
    "1. Définir un dictionnaire qui à 42 associe 5 et à 23 associe 13. Vérifier.  \n",
    "2. Définir un dictionnaire `d` associant aux chaînes de caractères \"hello\" et \"python\" leurs nombres de caractères (par exemple, il faut que `d[\"hello\"]`soit égal à 5 car `\"hello\"` contient 5 caractères)."
   ]
  },
  {
   "cell_type": "code",
   "execution_count": 3,
   "metadata": {
    "tags": [
     "cor"
    ]
   },
   "outputs": [
    {
     "name": "stdout",
     "output_type": "stream",
     "text": [
      "13\n"
     ]
    },
    {
     "data": {
      "text/plain": [
       "5"
      ]
     },
     "execution_count": 3,
     "metadata": {},
     "output_type": "execute_result"
    }
   ],
   "source": [
    "# 1\n",
    "d = {42 : 5, 23 : 13}\n",
    "print(d[23]) # donne 13\n",
    "\n",
    "# 2\n",
    "d = {\"hello\" : 5, \"python\" : 6}\n",
    "d[\"hello\"]"
   ]
  },
  {
   "cell_type": "markdown",
   "metadata": {
    "tags": []
   },
   "source": [
    "## Comptage avec un dictionnaire"
   ]
  },
  {
   "cell_type": "markdown",
   "metadata": {
    "tags": [
     "exo"
    ]
   },
   "source": [
    "1. Ecrire une fonction `compter` telle que `compter(L)` renvoie un dictionnaire `d` dont les clés sont les éléments de `L` et les valeurs sont les nombres d'apparitions de chaque éléments. Ainsi, `d[e]` est le nombre de fois que `L[e]` apparaît dans `L`. Par exemple, `compter([1, 7, 1, 1, 5, 7])` doit renvoyer `d` tel que `d[1] = 3` (1 apparaît 3 fois), `d[5] = 1` (5 apparaît 1 fois), `d[7] = 2` (7 apparaît 2 fois).  \n",
    "2. En déduire une fonction `majoritaire` telle que `majoritaire(L)` renvoie l'élément qui apparaît le plus souvent dans `L`. Par exemple, `majoritaire([1, 7, 1, 1, 5, 7])` doit renvoyer 1 (il apparaît plus de fois que n'importe quel autre élément)."
   ]
  },
  {
   "cell_type": "code",
   "execution_count": 6,
   "metadata": {
    "tags": [
     "cor"
    ]
   },
   "outputs": [
    {
     "name": "stdout",
     "output_type": "stream",
     "text": [
      "{1: 3, 7: 2, 5: 1}\n"
     ]
    },
    {
     "data": {
      "text/plain": [
       "1"
      ]
     },
     "execution_count": 6,
     "metadata": {},
     "output_type": "execute_result"
    }
   ],
   "source": [
    "# 1\n",
    "def compter(L):\n",
    "    d = {} # dictionnaire vide\n",
    "    for e in L:\n",
    "        if e not in d:\n",
    "            d[e] = 0\n",
    "        d[e] += 1 # augmente de 1 le nombre d'appartions de e\n",
    "    return d\n",
    "\n",
    "print(compter([1, 7, 1, 1, 5, 7]))\n",
    "\n",
    "# 2\n",
    "def majoritaire(L):\n",
    "    d = compter(L)\n",
    "    m = None # l'élément ayant apparu le plus de fois (None est juste là pour l'initialisation)\n",
    "    for k in d:\n",
    "        if m is None or d[k] > d[m]:\n",
    "            m = k # mise à jour de m\n",
    "    return m\n",
    "\n",
    "majoritaire([1, 7, 1, 1, 5, 7])    "
   ]
  },
  {
   "cell_type": "markdown",
   "metadata": {
    "tags": []
   },
   "source": [
    "## Suite de Syracuse"
   ]
  },
  {
   "cell_type": "markdown",
   "metadata": {
    "tags": [
     "exo"
    ]
   },
   "source": [
    "La suite de Syracuse d'un entier $a$ est définie par :  \n",
    "$$u_0 = a$$\n",
    "$$u_{n+1} =\n",
    "\\begin{cases} \n",
    "     \\frac{u_n}{2}, \\text{si } n \\text{ est pair}\\\\\n",
    "    3u_n + 1, \\text{sinon}\\\\\n",
    "\\end{cases}$$\n",
    "\n",
    "1. Écrire une fonction `syracuse` telle que `syracuse(a, n)` renvoie $u_n$.  \n",
    "2. Le temps de vol de $(u_n)$ est le plus petit entier $t$ tel que $u_t = 1$. Écrire une fonction `temps_vol` telle que `temps_vol(a)` renvoie $t$. "
   ]
  }
 ],
 "metadata": {
  "interpreter": {
   "hash": "638d2bb0c3d5a654c8dabbf1e544957f030902e91031027a7993b713e9c17aba"
  },
  "kernelspec": {
   "display_name": "Python 3 (ipykernel)",
   "language": "python",
   "name": "python3"
  },
  "language_info": {
   "codemirror_mode": {
    "name": "ipython",
    "version": 3
   },
   "file_extension": ".py",
   "mimetype": "text/x-python",
   "name": "python",
   "nbconvert_exporter": "python",
   "pygments_lexer": "ipython3",
   "version": "3.10.5"
  },
  "title": "Recherche séquentielle et dictionnaire"
 },
 "nbformat": 4,
 "nbformat_minor": 4
}
