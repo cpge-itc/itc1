{
 "cells": [
  {
   "cell_type": "markdown",
   "metadata": {},
   "source": [
    "# TP 2 : Complexité de la dichotomie et d'algorithmes de tri\n",
    "\n",
    "Dans ce TP, on revoit certains algorithmes vus au semestre en déterminant leur complexité. On compare ensuite cette complexité (théorique) avec le temps d'exécution constaté."
   ]
  },
  {
   "cell_type": "markdown",
   "metadata": {},
   "source": [
    "## Appartenance d'un élément à une liste"
   ]
  },
  {
   "cell_type": "markdown",
   "metadata": {
    "tags": [
     "exo"
    ]
   },
   "source": [
    "**Exercice** : \n",
    "1. Écrire une fonction `appartient(e, L)` qui retourne `True` si l'élément `e` appartient à la liste `L`, `False` sinon.\n",
    "2. Quelle est la complexité de `appartient`, pour une liste de taille $n$ ?\n",
    "3. Vérifier cette complexité en utilisant la fonction `benchmark_appartient` ci-dessous : Ecrire, par exemple, `benchmark_appartient(10000, appartient)` pour afficher le temps d'exécution pour des listes allant jusqu'à la taille `n` (on testera par exemple pour `n = 10000`)."
   ]
  },
  {
   "cell_type": "code",
   "execution_count": 1,
   "metadata": {
    "execution": {
     "iopub.execute_input": "2022-02-16T12:56:30.908320Z",
     "iopub.status.busy": "2022-02-16T12:56:30.907364Z",
     "iopub.status.idle": "2022-02-16T12:56:34.457720Z",
     "shell.execute_reply": "2022-02-16T12:56:34.457031Z"
    }
   },
   "outputs": [],
   "source": [
    "import matplotlib.pyplot as plt\n",
    "import random, time\n",
    "\n",
    "def benchmark_appartient(n, f):\n",
    "    times, X = [], []\n",
    "    n_sample = 200\n",
    "    for i in range(1, n, n//10):\n",
    "        t = 0\n",
    "        for _ in range(n_sample):\n",
    "            L = sorted([random.random() for _ in range(i)])\n",
    "            start = time.time()\n",
    "            f(random.random(), L)\n",
    "            t += time.time() - start\n",
    "        times.append(t/n_sample)\n",
    "        X.append(i)\n",
    "    plt.plot(X, times, label=f.__name__)\n",
    "    plt.legend()\n",
    "    plt.xlabel(\"Nombre d'éléments dans la liste\")\n",
    "    plt.ylabel(\"Temps d'exécution (en secondes)\")\n",
    "    plt.show()"
   ]
  },
  {
   "cell_type": "markdown",
   "metadata": {
    "tags": [
     "exo"
    ]
   },
   "source": [
    "**Exercice** : \n",
    "1. Compléter la fonction `dichotomie` ci-dessous qui prend en argument une liste triée et un élément et qui retourne `True` si l'élément appartient à la liste, `False` sinon. On pourra revoir le TP sur la dichotomie si besoin.\n",
    "2. Montrer que la boucle `while` de `dichotomie(e, L)` s'exécute au plus $log(n)$ fois, où $n$ est la taille de `L`.\n",
    "*Indice* : Au bout de $k$ passages dans le `while`, que vaut $j - i$ (c'est-à-dire la taille de l'intervalle $[i, j]$)?\n",
    "3. Vérifier cette complexité en appelant `benchmark_appartient(50000, dichotomie)` (ou des plus petites valeurs de `n` si cela prend trop de temps)."
   ]
  },
  {
   "cell_type": "code",
   "execution_count": 2,
   "metadata": {
    "execution": {
     "iopub.execute_input": "2022-02-16T12:56:34.462899Z",
     "iopub.status.busy": "2022-02-16T12:56:34.462311Z",
     "iopub.status.idle": "2022-02-16T12:56:34.466019Z",
     "shell.execute_reply": "2022-02-16T12:56:34.465578Z"
    }
   },
   "outputs": [],
   "source": [
    "def dichotomie(e, L):\n",
    "    i, j = 0, len(L) - 1  # i et j sont les indices de L entre lesquels on cherche e\n",
    "    while ...: # tant qu'il reste au moins 1 élément entre les indices i et j\n",
    "        m = ... # milieu de i et j\n",
    "        if e < L[m]:\n",
    "            ... # regarder dans la partie gauche\n",
    "        elif e > L[m]:\n",
    "            ... # regarder dans la partie droite\n",
    "        else:\n",
    "            ... # on a trouvé e\n",
    "    ... # e n'a pas été trouvé\n"
   ]
  },
  {
   "cell_type": "markdown",
   "metadata": {},
   "source": [
    "## Tris\n",
    "\n",
    "### Tri par insertion\n",
    "\n",
    "Le tri par insertion consiste à trier progressivement la liste `L`, de gauche à droite. Plus précisément, à l'étape $i$, les $i$ premiers de `L` sont triés et on fait en sorte d'insérer le $i+1$ème élément `L[i]` au bon endroit pour que les $i + 1$ premiers éléments soient triés.  \n",
    "Voici les étapes du tri par insertion pour la liste `L = [5, 1, -4, 2, -8, 7]` :\n",
    "- `i = 0` : on insère `L[0] = 5` de façon à ce que le 1er élément de `L` soit trié (il n'y a rien à faire : un élément seul est toujours trié). `L` vaut [**5**, 1, -4, 2, -8, 7]  (on met en gras la partie de `L` déjà triée).  \n",
    "- `i = 1` : on insère `L[1] = 1` au bon endroit, ce qui donne [**1, 5**, -4, 2, -8, 7]\n",
    "- `i = 2` : on insère `L[2] = -4` au bon endroit, ce qui donne [**-4, 1, 5**, 2, -8, 7]\n",
    "- `i = 3` : on insère `L[3] = 2` au bon endroit, ce qui donne [**-4, 1, 2, 5**, -8, 7]\n",
    "- `i = 4` : on insère `L[4] = -8` au bon endroit, ce qui donne [**-8, -4, 1, 2, 5**, 7]\n",
    "- `i = 5` : on insère `L[5] = 7` au bon endroit, ce qui donne [**-8, -4, 1, 2, 5, 7**]  \n",
    "\n",
    "On a terminé, et la liste est bien triée.  "
   ]
  },
  {
   "cell_type": "markdown",
   "metadata": {
    "tags": [
     "exo"
    ]
   },
   "source": [
    "**Exercice** : Ecrire une fonction `position` telle que, si `L` est une liste, `i` un indice de `L` et `e` une valeur, `position(L, i, e)` renvoie le plus petit indice `j < i` tel que `L[j] > e`. S'il n'existe pas de tel indice `j`, on renverra `i`.  \n",
    "Exemple : `position([1, 5, -4, 2, -8, 7], 2, -4)` doit renvoyer `0`,  `position([-8, -4, 1, 2, 5, 7], 5, 7)` doit renvoyer `5`.  \n",
    "On pourra compléter le code suivant :\n",
    "```python\n",
    "def position(L, i, e):\n",
    "    for j in range(i):\n",
    "        if ...:\n",
    "            return ...\n",
    "    return i\n",
    "\n",
    "print(position([1, 5, -4, 2, -8, 7], 2, -4)) # test\n",
    "print(position([-8, -4, 1, 2, 5, 7], 5, 7)) # test\n",
    "```"
   ]
  },
  {
   "cell_type": "markdown",
   "metadata": {
    "tags": [
     "exo"
    ]
   },
   "source": [
    "**Exercice** : Écrire une fonction `decaler` telle que `decaler(L, i, j)` décale les éléments de la liste `L` d'une position vers la droite. Ainsi, la valeur de `L[i]` doit être mise dans `L[i + 1]`, `L[i + 1]` dans `L[i + 2]`, ..., `L[j - 1]` doit être mise dans `L[j]`.  \n",
    "Par exemple, après les instructions `L = [1, 3, 6, 9, 17]` et `decaler(L, 1, 3)`, `L` doit contenir `[1, 3, 3, 6, 17]` (`L[i]` n'est pas modifié)."
   ]
  },
  {
   "cell_type": "markdown",
   "metadata": {
    "tags": [
     "exo"
    ]
   },
   "source": [
    "**Exercice** : En utilisant `position` et `decaler`, écrire une fonction `tri_insertion` qui trie une liste en utilisant le tri par insertion. On pourra compléter le code suivant :\n",
    "```python\n",
    "def tri_insertion(L):\n",
    "    for i in range(len(L)):\n",
    "        p = ...\n",
    "        decaler(...)\n",
    "        ... # mettre l'ancienne valeur de L[i] dans L[p]\n",
    "```"
   ]
  },
  {
   "cell_type": "markdown",
   "metadata": {
    "tags": [
     "exo"
    ]
   },
   "source": [
    "**Exercice** : \n",
    "1. Montrer que la complexité de `tri_insertion(L)` est O($n^2$) où $n$ est la taille de `L`.\n",
    "2. Vérifier avec `benchmark_tri(2000, tri_insertion)` où `benchmark_tri` est la fonction ci-dessous."
   ]
  },
  {
   "cell_type": "code",
   "execution_count": 3,
   "metadata": {
    "execution": {
     "iopub.execute_input": "2022-02-16T12:56:34.473415Z",
     "iopub.status.busy": "2022-02-16T12:56:34.471955Z",
     "iopub.status.idle": "2022-02-16T12:56:34.474084Z",
     "shell.execute_reply": "2022-02-16T12:56:34.475127Z"
    }
   },
   "outputs": [],
   "source": [
    "import matplotlib.pyplot as plt\n",
    "import random, time\n",
    "\n",
    "def benchmark_tri(n, *functions):\n",
    "    times, X = [], []\n",
    "    n_sample = 10\n",
    "    for f in functions:\n",
    "        for i in range(1, n, n//10):\n",
    "            t = 0\n",
    "            for _ in range(n_sample):\n",
    "                start = time.time()\n",
    "                f([random.random() for _ in range(i)])\n",
    "                t += time.time() - start\n",
    "            times.append(t/n_sample)\n",
    "            X.append(i)\n",
    "        plt.plot(X, times, label=f.__name__)\n",
    "        plt.legend()\n",
    "        plt.xlabel(\"Nombre d'éléments dans la liste\")\n",
    "        plt.ylabel(\"Temps d'exécution (en secondes)\")\n",
    "    plt.show()"
   ]
  },
  {
   "cell_type": "markdown",
   "metadata": {
    "tags": [
     "exo"
    ]
   },
   "source": [
    "**Exercice** : Vérifier graphiquement que le `tri_fusion(L)` ci-dessous est en complexité O($n\\log(n)$), où $n$ est la taille de `L`."
   ]
  }
 ],
 "metadata": {
  "interpreter": {
   "hash": "31f2aee4e71d21fbe5cf8b01ff0e069b9275f58929596ceb00d14d90e3e16cd6"
  },
  "kernelspec": {
   "display_name": "Python 3",
   "language": "python",
   "name": "python3"
  },
  "language_info": {
   "codemirror_mode": {
    "name": "ipython",
    "version": 3
   },
   "file_extension": ".py",
   "mimetype": "text/x-python",
   "name": "python",
   "nbconvert_exporter": "python",
   "pygments_lexer": "ipython3",
   "version": "3.9.6"
  }
 },
 "nbformat": 4,
 "nbformat_minor": 4
}
