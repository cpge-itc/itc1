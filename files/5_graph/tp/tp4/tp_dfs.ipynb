{
 "cells": [
  {
   "cell_type": "markdown",
   "metadata": {},
   "source": [
    "# TP 4 : Parcours en profondeur\n",
    "\n",
    "Dans ce TP, on pourra utiliser la fonction suivante pour afficher un graphe représenté par liste d'adjacence :"
   ]
  },
  {
   "cell_type": "code",
   "execution_count": 22,
   "metadata": {},
   "outputs": [],
   "source": [
    "import matplotlib.pyplot as plt\n",
    "import networkx as nx\n",
    "\n",
    "def draw(G):\n",
    "    G_ = nx.Graph()\n",
    "    G_.add_edges_from([(i, j) for i in range(len(G)) for j in G[i]])\n",
    "    plt.clf()\n",
    "    nx.draw(G_, node_size=700, font_size=20, node_color= \"white\", edgecolors=\"black\", with_labels=True)\n",
    "    plt.show()"
   ]
  },
  {
   "cell_type": "markdown",
   "metadata": {
    "tags": [
     "exo"
    ]
   },
   "source": [
    "**Exercice** : Définir une liste d'adjacence représentant le graphe `G_ex` ci-dessous et vérifier avec `draw`.  \n",
    "<center><img src=https://github.com/fortierq/itc1/raw/4be1ee8d9679ffae521c506ad54acb9e6099c614/files/5_graph/tp/tp2/g.png width=200></center>"
   ]
  },
  {
   "cell_type": "markdown",
   "metadata": {
    "tags": [
     "exo"
    ]
   },
   "source": [
    "**Exercice** : Écrire une fonction `dfs(G, s)` affiche les sommets de `G` suivant un parcours en profondeur depuis le sommet `s`. Vérifier sur le graphe `G_ex` précédent.  \n",
    "On essaierai de compléter le code ci-dessous. Ne regarder le cours que si cela est vraiment nécessaire."
   ]
  },
  {
   "cell_type": "code",
   "execution_count": null,
   "metadata": {},
   "outputs": [],
   "source": [
    "def dfs(G, s):\n",
    "    # définir une liste de booléens pour savoir si un sommet a été visité\n",
    "    def aux(u): # fonction récursive\n",
    "        # si u n'a pas été visité :\n",
    "            # afficher u\n",
    "            # marquer u comme visité\n",
    "            # pour chaque voisin v de u\n",
    "                # appeler aux(v)\n",
    "    aux(s)"
   ]
  },
  {
   "cell_type": "markdown",
   "metadata": {
    "tags": [
     "exo"
    ]
   },
   "source": [
    "**Exercice** : En utilisant un parcours en profondeur, écrire une fonction `connexe(G)` qui renvoie `True` si le graphe `G` est connexe, `False` sinon.  \n",
    "Vérifier sur `G_ex` (non connexe) et sur un graphe connexe de votre choix."
   ]
  },
  {
   "cell_type": "markdown",
   "metadata": {
    "tags": [
     "exo"
    ]
   },
   "source": [
    "**Exercice** : Écrire une fonction `composante_connexe(G, v)` qui renvoie la composante connexe du sommet `v` dans le graphe `G`, c'est-à-dire la liste des sommets (dans n'importe quel ordre) de `G` qui sont accessibles depuis `v`.  \n",
    "Par exemple, `composante_connexe(G_ex, 0)` peut renvoyer `[0, 6]` et `composante_connexe(G_ex, 1)` peut renvoyer `[3, 1, 4, 2, 5]`."
   ]
  },
  {
   "cell_type": "markdown",
   "metadata": {
    "tags": [
     "exo"
    ]
   },
   "source": [
    "**Exercice** : Écrire une fonction `composantes_connexes(G)` qui renvoie la liste des composantes connexes (dans n'importe quel ordre) du graphe `G`.  \n",
    "Par exemple, `composantes_connexes(G_ex)` peut renvoyer `[[0, 6], [3, 1, 4, 2, 5]]`."
   ]
  },
  {
   "cell_type": "markdown",
   "metadata": {
    "tags": [
     "exo"
    ]
   },
   "source": [
    "**Exercice** : Écrire une fonction `chemin(G, u, v)` renvoyant `True` s'il existe un chemin de `u` à `v` dans le graphe `G`, `False` sinon.  \n",
    "Par exemple, `chemin(G_ex, 0, 5)` doit renvoyer `False` et `chemin(G_ex, 3, 4)` doit renvoyer `False`."
   ]
  },
  {
   "cell_type": "markdown",
   "metadata": {
    "tags": [
     "exo"
    ]
   },
   "source": [
    "**Exercice** : Réécrire une fonction `chemin(G, u, v)` de façon à renvoyant la liste des sommets d'un chemin de `u` à `v` dans le graphe `G`. S'il n'y a pas de chemin, renvoyer une liste vide."
   ]
  }
 ],
 "metadata": {
  "interpreter": {
   "hash": "31f2aee4e71d21fbe5cf8b01ff0e069b9275f58929596ceb00d14d90e3e16cd6"
  },
  "kernelspec": {
   "display_name": "Python 3",
   "language": "python",
   "name": "python3"
  },
  "language_info": {
   "codemirror_mode": {
    "name": "ipython",
    "version": 3
   },
   "file_extension": ".py",
   "mimetype": "text/x-python",
   "name": "python",
   "nbconvert_exporter": "python",
   "pygments_lexer": "ipython3",
   "version": "3.8.10"
  }
 },
 "nbformat": 4,
 "nbformat_minor": 4
}
