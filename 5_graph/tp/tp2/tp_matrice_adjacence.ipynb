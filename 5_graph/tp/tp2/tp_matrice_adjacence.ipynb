{
 "cells": [
  {
   "cell_type": "markdown",
   "metadata": {},
   "source": [
    "# <center><a href='https://colab.research.google.com/github/cpge-itc/itc1/blob/main/5_graph/tp/tp2/tp_matrice_adjacence.ipynb'>TP : Représentation par matrice d'adjacence <img src=https://colab.research.google.com/assets/colab-badge.svg width=100></a></center>\n",
    "\n",
    "Si nécessaire, [revoir le cours sur les graphes](https://fortierq.github.io/itc1/files/5_graph/1_definition/1_graph) et notamment les notions de sommet, arête, voisin, degré, matrice d'adjacence..."
   ]
  },
  {
   "cell_type": "markdown",
   "metadata": {},
   "source": [
    "## Représentation par matrice d'adjacence\n",
    "\n",
    "Dans cette partie, on utilise uniquement des graphes non orientés."
   ]
  },
  {
   "cell_type": "markdown",
   "metadata": {
    "tags": [
     "exo"
    ]
   },
   "source": [
    "**Exercice** : Définir une fonction `make_matrix` telle que `make_matrix(n, p)` renvoie une matrice $n\\times p$ avec que des $0$. On rappelle qu'une matrice est définie par une liste de listes, où chaque sous-liste représente une ligne de la matrice."
   ]
  },
  {
   "cell_type": "code",
   "execution_count": 4,
   "metadata": {
    "tags": [
     "cor"
    ]
   },
   "outputs": [
    {
     "data": {
      "text/plain": [
       "[[0, 0, 0, 0], [0, 0, 0, 0], [0, 0, 0, 0]]"
      ]
     },
     "execution_count": 4,
     "metadata": {},
     "output_type": "execute_result"
    }
   ],
   "source": [
    "# version \"basique\" :\n",
    "def make_matrix(n, p):\n",
    "    M = []\n",
    "    for i in range(n):\n",
    "        L = [] # ième ligne\n",
    "        for i in range(p):\n",
    "            L.append(0)\n",
    "        M.append(L)\n",
    "    return M\n",
    "\n",
    "# version rapide :\n",
    "def make_matrix(n, p):\n",
    "    return [[0]*p for i in range(n)]\n",
    "\n",
    "make_matrix(3, 4)"
   ]
  },
  {
   "cell_type": "markdown",
   "metadata": {
    "tags": [
     "exo"
    ]
   },
   "source": [
    "**Exercice** : Ecrire une fonction `add_edge` telle que `add_edge(G, u, v)` ajoute l'arête entre les sommets `u` et `v` dans un graphe `G` non-orienté représenté par matrice d'adjacence."
   ]
  },
  {
   "cell_type": "code",
   "execution_count": 5,
   "metadata": {
    "tags": [
     "cor"
    ]
   },
   "outputs": [],
   "source": [
    "def add_edge(G, u, v):\n",
    "    G[u][v] = 1\n",
    "    G[v][u] = 1"
   ]
  },
  {
   "cell_type": "markdown",
   "metadata": {
    "tags": [
     "exo"
    ]
   },
   "source": [
    "**Exercice** : Définir dans une variable `G` la matrice d'adjacence du graphe suivant (on pourra éventuellement utiliser les fonctions précédentes) :\n",
    "<center><img src=https://github.com/fortierq/itc1/raw/4be1ee8d9679ffae521c506ad54acb9e6099c614/files/5_graph/tp/tp2/g.png width=200></center>"
   ]
  },
  {
   "cell_type": "code",
   "execution_count": 7,
   "metadata": {
    "tags": [
     "cor"
    ]
   },
   "outputs": [
    {
     "data": {
      "text/plain": [
       "[[0, 0, 0, 0, 0, 0, 1],\n",
       " [0, 0, 1, 1, 1, 0, 0],\n",
       " [0, 1, 0, 0, 1, 1, 0],\n",
       " [0, 1, 0, 0, 1, 0, 0],\n",
       " [0, 1, 1, 1, 0, 1, 0],\n",
       " [0, 0, 1, 0, 1, 0, 0],\n",
       " [1, 0, 0, 0, 0, 0, 0]]"
      ]
     },
     "execution_count": 7,
     "metadata": {},
     "output_type": "execute_result"
    }
   ],
   "source": [
    "G = make_matrix(7, 7)\n",
    "for u, v in [(3, 4), (3, 1), (1, 2), (4, 1), (4, 2), (2, 5), (4, 5), (0, 6)]:\n",
    "    add_edge(G, u, v)\n",
    "G"
   ]
  },
  {
   "cell_type": "markdown",
   "metadata": {
    "tags": [
     "exo"
    ]
   },
   "source": [
    "**Exercice** : Définir une fonction `voisins` telle que `voisins(G, v)` renvoie la liste des voisins du sommet `v`.  \n",
    "Vérifier que les voisins du sommet $2$ dans le graphe ci-dessus sont les sommets $1$, $4$, $5$."
   ]
  },
  {
   "cell_type": "code",
   "execution_count": 9,
   "metadata": {
    "tags": [
     "cor"
    ]
   },
   "outputs": [
    {
     "data": {
      "text/plain": [
       "[1, 4, 5]"
      ]
     },
     "execution_count": 9,
     "metadata": {},
     "output_type": "execute_result"
    }
   ],
   "source": [
    "def voisins(G, v):\n",
    "    L = []\n",
    "    for j in range(len(G[v])): # parcours de la ligne v\n",
    "        if G[v][j] == 1:\n",
    "              L.append(j)\n",
    "    return L\n",
    "\n",
    "voisins(G, 2)"
   ]
  },
  {
   "cell_type": "markdown",
   "metadata": {
    "tags": [
     "exo"
    ]
   },
   "source": [
    "**Exercice** : En déduire une fonction `deg` telle que `deg(G, v)` renvoie le degré du sommet `v`."
   ]
  },
  {
   "cell_type": "code",
   "execution_count": 10,
   "metadata": {
    "tags": [
     "cor"
    ]
   },
   "outputs": [
    {
     "data": {
      "text/plain": [
       "3"
      ]
     },
     "execution_count": 10,
     "metadata": {},
     "output_type": "execute_result"
    }
   ],
   "source": [
    "def deg(G, v):\n",
    "    return len(voisins(G, v))\n",
    "\n",
    "deg(G, 2)"
   ]
  },
  {
   "cell_type": "markdown",
   "metadata": {
    "tags": [
     "exo"
    ]
   },
   "source": [
    "**Exercice** : Écrire une fonction `n_aretes` pour calculer le nombre d'arêtes d'un graphe donné par matrice d'adjacence. Tester avec le graphe `G` précédent. On pourra soit réutiliser `deg`, soit deux boucles `for` pour parcourir les éléments de la matrice."
   ]
  },
  {
   "cell_type": "code",
   "execution_count": 12,
   "metadata": {
    "tags": [
     "cor"
    ]
   },
   "outputs": [
    {
     "data": {
      "text/plain": [
       "8"
      ]
     },
     "execution_count": 12,
     "metadata": {},
     "output_type": "execute_result"
    }
   ],
   "source": [
    "def n_aretes(G):\n",
    "    n = 0\n",
    "    for i in range(len(G)): # lignes\n",
    "        for j in range(len(G[0])): # colonnes\n",
    "            if G[i][j] == 1:\n",
    "                n += 1\n",
    "    return n//2 # chaque arête apparaît deux fois dans un graphe non-orienté\n",
    "\n",
    "n_aretes(G)"
   ]
  },
  {
   "cell_type": "markdown",
   "metadata": {},
   "source": [
    "## Puissance de la matrice d'adjacence"
   ]
  },
  {
   "cell_type": "markdown",
   "metadata": {
    "tags": [
     "exo"
    ]
   },
   "source": [
    "**Exercice** : Écrire une fonction `produit` telle que, si `A` et `B` sont deux matrices compatibles, `produit(A, B)` renvoie une matrice contenant le produit `AB` de `A` et `B`.  \n",
    "On rappelle que, si $A = (a_{i, k})$ est de taille $n\\times p$ et $B = (b_{k, j})$ de taille $p\\times q$ alors $AB$ est de taille $n\\times q$ et :\n",
    "$$AB = (c_{i, k}), ~\\text{ où } c_{i, k} = \\sum_{j = 0}^{p - 1} a_{i, j} b_{j, k}$$\n",
    "On pourra utiliser `make_matrix` pour créer la matrice du résultat et remplir ses éléments un par un.  \n",
    "Tester avec deux matrices $2\\times 3$ et $3\\times 2$ de votre choix et vérifier en faisant aussi le produit à la main."
   ]
  },
  {
   "cell_type": "code",
   "execution_count": 14,
   "metadata": {
    "tags": [
     "cor"
    ]
   },
   "outputs": [
    {
     "data": {
      "text/plain": [
       "[[6, 12], [15, 30]]"
      ]
     },
     "execution_count": 14,
     "metadata": {},
     "output_type": "execute_result"
    }
   ],
   "source": [
    "def produit(A, B):\n",
    "    n, p, q = len(A), len(B), len(B[0])\n",
    "    C = make_matrix(n, q)\n",
    "    for i in range(n):\n",
    "        for k in range(q):\n",
    "            for j in range(p):\n",
    "                C[i][k] += A[i][j]*B[j][k] # calcul de la somme\n",
    "    return C\n",
    "\n",
    "A = [[1, 2, 3], [4, 5, 6]]\n",
    "B = [[1, 2], [1, 2], [1, 2]]\n",
    "produit(A, B)"
   ]
  },
  {
   "cell_type": "markdown",
   "metadata": {
    "tags": [
     "exo"
    ]
   },
   "source": [
    "**Exercice** : En déduire une fonction `puissance` telle que `puissance(A, k)` renvoie $A^k$. Vérifier sur un exemple."
   ]
  },
  {
   "cell_type": "code",
   "execution_count": 18,
   "metadata": {
    "tags": [
     "cor"
    ]
   },
   "outputs": [
    {
     "data": {
      "text/plain": [
       "[[1, 4], [0, 1]]"
      ]
     },
     "execution_count": 18,
     "metadata": {},
     "output_type": "execute_result"
    }
   ],
   "source": [
    "def puissance(A, k):\n",
    "    M = A\n",
    "    for i in range(k - 1):\n",
    "        M = produit(M, A)\n",
    "    return M\n",
    "\n",
    "A = [[1, 1], [0, 1]]\n",
    "puissance(A, 4)"
   ]
  },
  {
   "cell_type": "markdown",
   "metadata": {
    "tags": [
     "exo"
    ]
   },
   "source": [
    "**Exercice** : Quelle est la complexité de `puissance(A, k)`, pour une matrice `A` de taille $n\\times n$ ?  \n",
    "M'appeler pour que je puisse vérifier."
   ]
  },
  {
   "cell_type": "markdown",
   "metadata": {
    "tags": [
     "cor"
    ]
   },
   "source": [
    "Si `A` est de taille $p\\times q$ et `B` de taille $q\\times n$, `produit(A, B)` est en O($pqn$). En effet, `produit(A, B)` doit remplir les $p\\times n$ cases de `C`, chaque case demandant le calcul d'une somme de $q$ éléments. Ici, les matrices sont carrés donc $n = p = q$.  \n",
    "Comme `puissance(A, k)` appelle $k$ fois `produit` sur deux matrices $n\\times n$, d'où une complexité $\\boxed{\\text{O}(kn^3)}$."
   ]
  },
  {
   "cell_type": "markdown",
   "metadata": {
    "tags": [
     "exo"
    ]
   },
   "source": [
    "**Exercice** : Soit $A = (a_{i, j})$ la matrice d'adjacence d'un graphe $G$ (orienté ou non). Soit $A^k = A\\times ... \\times A$. On note $a^k_{i, j}$ le coefficient ligne $i$, colonne $j$ de $A^k$.  \n",
    "Montrer par récurrence sur $k$ que $a^k_{i, j}$ est égal au nombre de chemins de longueur $k$ du graphe $G$.  \n",
    "On pourra commencer par donner une équation de récurrence sur $a^k_{i, j}$.  \n",
    "Merci de m'appeler pour que je vérifie votre raisonnement."
   ]
  },
  {
   "cell_type": "markdown",
   "metadata": {
    "tags": [
     "exo"
    ]
   },
   "source": [
    "**Exercice** : En utilisant la question précédente et la fonction `puissance`, trouver le nombre de chemins de longueur $100$ du sommet $0$ au sommet $2$ dans le graphe suivant :\n",
    "<center><img src=https://github.com/fortierq/itc1/raw/master/files/5_graph/tp/tp2/gdir.png width=230></center>"
   ]
  },
  {
   "cell_type": "code",
   "execution_count": 21,
   "metadata": {
    "tags": [
     "cor"
    ]
   },
   "outputs": [
    {
     "data": {
      "text/plain": [
       "[[1, 100, 4950], [0, 1, 100], [0, 0, 1]]"
      ]
     },
     "execution_count": 21,
     "metadata": {},
     "output_type": "execute_result"
    }
   ],
   "source": [
    "G = [[1, 1, 0], [0, 1, 1], [0, 0, 1]] # matrice d'adjacence\n",
    "puissance(G, 100) # le nombre de chemins est 4950"
   ]
  },
  {
   "cell_type": "markdown",
   "metadata": {
    "tags": [
     "exo"
    ]
   },
   "source": [
    "**Exercice** : Retrouver mathématiquement le résultat précédent, en utilisant seulement du dénombrement (pas de matrice d'adjacence)."
   ]
  },
  {
   "cell_type": "markdown",
   "metadata": {
    "tags": [
     "cor"
    ]
   },
   "source": [
    "Pour choisir un chemin de longueur $100$ de $0$ à $2$, il faut choisir les deux étapes parmi $100$ qui vont changer de sommets. Le nombre cherché est donc :$$\\boxed{\\binom{100}{2} = 4950}$$"
   ]
  },
  {
   "cell_type": "markdown",
   "metadata": {
    "tags": [
     "exo"
    ]
   },
   "source": [
    "**Exercice** : Réécrire `puissance(A, k)` de façon à avoir une complexité O($n^3\\log(k)$), où `A` est de taille $n\\times n$.  \n",
    "On pourra utiliser la technique de [l'exponentiation rapide du TP dichotomie du 1er semestre](https://fortierq.github.io/itc1/files/2_tp_semestre1/4_dichotomie/#exponentiation-rapide)."
   ]
  },
  {
   "cell_type": "markdown",
   "metadata": {
    "tags": [
     "exo"
    ]
   },
   "source": [
    "**Exercice** : Pour ceux qui auraient fini le TP, voici d'autres questions plus théoriques/difficiles :  \n",
    "1. Montrer que dans tout graphe avec au moins 2 sommets, il existe 2 sommets de même degré.  \n",
    "2. Si $G = (V, E)$ est un graphe on définit ${}^c G = (V, {}^c{E})$ (le graphe complémentaire, contenant les arêtes qui n'existent pas dans $G$). Montrer que $G$ ou ${}^c G$ est connexe. Est-il possible que les deux soient connexes?"
   ]
  }
 ],
 "metadata": {
  "interpreter": {
   "hash": "31f2aee4e71d21fbe5cf8b01ff0e069b9275f58929596ceb00d14d90e3e16cd6"
  },
  "kernelspec": {
   "display_name": "Python 3",
   "language": "python",
   "name": "python3"
  },
  "language_info": {
   "codemirror_mode": {
    "name": "ipython",
    "version": 3
   },
   "file_extension": ".py",
   "mimetype": "text/x-python",
   "name": "python",
   "nbconvert_exporter": "python",
   "pygments_lexer": "ipython3",
   "version": "3.8.10"
  }
 },
 "nbformat": 4,
 "nbformat_minor": 4
}
