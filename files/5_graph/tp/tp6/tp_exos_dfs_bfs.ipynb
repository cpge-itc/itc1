{
 "cells": [
  {
   "cell_type": "markdown",
   "metadata": {},
   "source": [
    "# Exercices DFS et BFS\n",
    "\n",
    "Les exercices à faire sont sur [LeetCode](https://leetcode.com).  \n",
    "Vous devez d'abord vous inscrire (Sign In). Vous pouvez pour cela vous connecter via Gmail, Github ou Facebook.\n",
    "\n",
    "Si besoin, on pourra revoir et s'inspirer de l'algorithme de BFS (parcours en largeur) vu en cours."
   ]
  },
  {
   "cell_type": "markdown",
   "metadata": {
    "tags": [
     "exo"
    ]
   },
   "source": [
    "**Exercice** : [Plus court chemin dans une matrice 0 - 1](https://leetcode.com/problems/shortest-path-in-binary-matrix)  \n",
    "Vous devez changer le langage pour choisir Python3 au lieu de C++. Vous devez remplir le code de la fonction à droite (ici `shortestPathBinaryMatrix`).  \n",
    "Puis lisez l'énoncé à gauche.  \n",
    "Ici on vous donne une matrice (dont les éléments sont $0$ ou $1$), qui correspond à l'argument `grid` de la fonction `shortestPathBinaryMatrix`.  \n",
    "On vous demande de renvoyer le nombre minimum de cases de la matrice qu'il faut parcourir pour aller de la case en haut à gauche à la case en bas à droite.  \n",
    "Les exemples (en bas à gauche) peuvent aider à mieux comprendre :\n",
    "```python\n",
    "Input: grid = [[0,1],[1,0]]\n",
    "Output: 2\n",
    "```\n",
    "Signifie que si votre fonction `shortestPathBinaryMatrix` est appelé avec `grid = [[0,1],[1,0]]`, il faut que votre fonction renvoie $2$.\n",
    "\n",
    "Pour tester votre code, cliquer sur Run Code en bas à droite. Quand les tests marchent, vous pouvez cliquer sur Submit."
   ]
  },
  {
   "cell_type": "markdown",
   "metadata": {
    "tags": [
     "exo"
    ]
   },
   "source": [
    "**Exercice** : [Périmètre d'une île](https://leetcode.com/problems/island-perimeter)  \n",
    "Vous pouvez utiliser un DFS (ou BFS) pour trouver la longueur du chemin qui fait le tour de l'île."
   ]
  },
  {
   "cell_type": "markdown",
   "metadata": {
    "tags": [
     "exo"
    ]
   },
   "source": [
    "**Exercice** : [Nombre d'îles](https://leetcode.com/problems/number-of-islands)  \n",
    "Il s'agit de trouver le nombre de composante connexes d'un graphe (avec DFS ou BFS)."
   ]
  },
  {
   "cell_type": "markdown",
   "metadata": {
    "tags": [
     "exo"
    ]
   },
   "source": [
    "**Exercice** : [Carrés parfaits](https://leetcode.com/problems/perfect-squares)\n",
    "\n",
    "Vous pouvez utiliser un BFS où les sommets sont des entiers et où il y a une arête d'un entier $n$ à un entier $p$ si $n - p$ est un carré parfait.  \n",
    "Il faut alors chercher la distance de $n$ à $0$.  \n",
    "Remarque : Il n'est pas nécessaire de construire le graphe en entier. On ne calcule les voisins d'un entier qu'au moment où on en a besoin."
   ]
  }
 ],
 "metadata": {
  "celltoolbar": "Tags",
  "interpreter": {
   "hash": "949777d72b0d2535278d3dc13498b2535136f6dfe0678499012e853ee9abcab1"
  },
  "kernelspec": {
   "display_name": "Python 3 (ipykernel)",
   "language": "python",
   "name": "python3"
  },
  "language_info": {
   "codemirror_mode": {
    "name": "ipython",
    "version": 3
   },
   "file_extension": ".py",
   "mimetype": "text/x-python",
   "name": "python",
   "nbconvert_exporter": "python",
   "pygments_lexer": "ipython3",
   "version": "3.10.4"
  }
 },
 "nbformat": 4,
 "nbformat_minor": 2
}
