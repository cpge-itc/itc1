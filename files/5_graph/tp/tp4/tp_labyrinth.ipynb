{
 "cells": [
  {
   "cell_type": "markdown",
   "metadata": {},
   "source": [
    "# <center><a href='https://notebook.basthon.fr/?from=https://raw.githubusercontent.com/fortierq/itc1/master/files/5_graph/tp/tp4/tp_labyrinth.ipynb'>TP Graphe 4 : Labyrinthe et parcours en profondeur <img src=https://framagit.org/uploads/-/system/project/avatar/55763/basthon_shadow.png width=100></a></center>"
   ]
  },
  {
   "cell_type": "code",
   "execution_count": 2,
   "metadata": {},
   "outputs": [],
   "source": [
    "import networkx as nx\n",
    "import random\n",
    "\n",
    "def generate_labyrinth(n, p):\n",
    "    G = nx.Graph()\n",
    "    G.add_nodes_from((i, j) for i in range(n) for j in range(p))\n",
    "    visited = [[False]*p for _ in range(n)]\n",
    "    def dfs(i, j):\n",
    "        visited[i][j] = True\n",
    "        neighbors = [(i+1, j), (i-1, j), (i, j+1), (i, j-1)]\n",
    "        random.shuffle(neighbors)\n",
    "        for x, y in neighbors:\n",
    "            if 0 <= x < n and 0 <= y < p and not visited[x][y]:\n",
    "                G.add_edge((i, j), (x, y))\n",
    "                dfs(x, y)\n",
    "    dfs(0, 0)\n",
    "    return G"
   ]
  },
  {
   "cell_type": "code",
   "execution_count": 3,
   "metadata": {},
   "outputs": [],
   "source": [
    "n = 10\n",
    "G = generate_labyrinth(n, n)"
   ]
  },
  {
   "cell_type": "code",
   "execution_count": 9,
   "metadata": {},
   "outputs": [
    {
     "data": {
      "image/png": "[encoded data removed]",
      "text/plain": [
       "<Figure size 432x288 with 1 Axes>"
      ]
     },
     "metadata": {},
     "output_type": "display_data"
    }
   ],
   "source": [
    "nx.draw(G, pos={p: p for p in G.nodes()}, node_size=20)"
   ]
  },
  {
   "cell_type": "code",
   "execution_count": 5,
   "metadata": {},
   "outputs": [],
   "source": [
    "def solve_labyrinth(G, n):\n",
    "    visited = [[False]*n for _ in range(n)]\n",
    "    path = []\n",
    "    for i,e in enumerate(G.edges):\n",
    "        G.edges[e]['index'] = i\n",
    "    def dfs(i, j):\n",
    "        if i == n - 1 == j:\n",
    "            return True\n",
    "        visited[i][j] = True\n",
    "        neighbors = [(i+1, j), (i-1, j), (i, j+1), (i, j-1)]\n",
    "        random.shuffle(neighbors)\n",
    "        for x, y in neighbors:\n",
    "            if 0 <= x < n and 0 <= y < n and (x, y) in G[(i, j)] and not visited[x][y]:\n",
    "                if dfs(x, y):\n",
    "                    path.append(G[(i, j)][(x, y)]['index'])\n",
    "                    return True\n",
    "        return False\n",
    "    dfs(0, 0)\n",
    "    return path"
   ]
  },
  {
   "cell_type": "code",
   "execution_count": 13,
   "metadata": {},
   "outputs": [
    {
     "data": {
      "image/png": "[encoded data removed]",
      "text/plain": [
       "<Figure size 432x288 with 1 Axes>"
      ]
     },
     "metadata": {},
     "output_type": "display_data"
    }
   ],
   "source": [
    "path = solve_labyrinth(G, n)\n",
    "widths = [4 if i in path else 1 for i in range(len(G.edges))]\n",
    "nx.draw(G, pos={p: p for p in G.nodes()}, width=widths, node_size=20)"
   ]
  }
 ],
 "metadata": {
  "interpreter": {
   "hash": "31f2aee4e71d21fbe5cf8b01ff0e069b9275f58929596ceb00d14d90e3e16cd6"
  },
  "kernelspec": {
   "display_name": "Python 3.7.3 64-bit",
   "language": "python",
   "name": "python3"
  },
  "language_info": {
   "codemirror_mode": {
    "name": "ipython",
    "version": 3
   },
   "file_extension": ".py",
   "mimetype": "text/x-python",
   "name": "python",
   "nbconvert_exporter": "python",
   "pygments_lexer": "ipython3",
   "version": "3.8.10"
  }
 },
 "nbformat": 4,
 "nbformat_minor": 2
}
