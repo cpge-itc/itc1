{
 "cells": [
  {
   "cell_type": "markdown",
   "id": "1f109f9f",
   "metadata": {},
   "source": [
    "# <center><a href='https://notebook.basthon.fr/?from=https://raw.githubusercontent.com/fortierq/itc1/master/files/1_Python/1_fonctions_cor.ipynb'><center><a href='https://mybinder.org/v2/gh/fortierq/itc-binder/main?urlpath=git-pull%3Frepo%3Dhttps%253A%252F%252Fgithub.com%252Ffortierq%252Fitc1%26urlpath%3Dlab%252Ftree%252Fitc1%252Ffiles%252F1_Python%252F1_fonctions_cor.ipynb%26branch%3Dmaster'>Fonctions <img src=https://mybinder.org/badge_logo.svg></a></center> <img src=https://framagit.org/uploads/-/system/project/avatar/55763/basthon_shadow.png width=100></a></center>\n",
    "\n",
    "## Définition\n",
    "\n",
    "Voici un exemple de définition de fonction avec Python :"
   ]
  },
  {
   "cell_type": "code",
   "execution_count": 1,
   "id": "b89ae14f",
   "metadata": {
    "execution": {
     "iopub.execute_input": "2021-11-12T18:57:58.709186Z",
     "iopub.status.busy": "2021-11-12T18:57:58.708345Z",
     "iopub.status.idle": "2021-11-12T18:57:58.713270Z",
     "shell.execute_reply": "2021-11-12T18:57:58.711961Z"
    }
   },
   "outputs": [],
   "source": [
    "def f(x):\n",
    "    return 2*x"
   ]
  },
  {
   "cell_type": "markdown",
   "id": "ad1fd4e9",
   "metadata": {},
   "source": [
    "- `f` est le **nom** de la fonction\n",
    "- `x` est l'**argument** (ou **entrée**) de `f`\n",
    "- `2*x` est la **valeur de retour** (ou **sortie**) de `f`\n",
    "\n",
    "Mathématiquement, `f` correspond à la fonction mathématiques $f : x \\longmapsto 2x$."
   ]
  },
  {
   "cell_type": "markdown",
   "id": "e12650eb",
   "metadata": {},
   "source": [
    "On utilise une fonction en écrivant son nom suivi d'une valeur pour ses arguments (on dit qu'on **appelle** `f`) :"
   ]
  },
  {
   "cell_type": "code",
   "execution_count": 2,
   "id": "c18fdda0",
   "metadata": {
    "execution": {
     "iopub.execute_input": "2021-11-12T18:57:58.723300Z",
     "iopub.status.busy": "2021-11-12T18:57:58.722589Z",
     "iopub.status.idle": "2021-11-12T18:57:58.728847Z",
     "shell.execute_reply": "2021-11-12T18:57:58.728352Z"
    }
   },
   "outputs": [
    {
     "data": {
      "text/plain": [
       "6"
      ]
     },
     "execution_count": 2,
     "metadata": {},
     "output_type": "execute_result"
    }
   ],
   "source": [
    "f(3) # calcule la valeur de retour de f avec x remplacé par 3"
   ]
  },
  {
   "cell_type": "markdown",
   "id": "2d839e20",
   "metadata": {},
   "source": [
    "La variable `x` dans `f` est **locale** : elle n'existe que dans `f` et ne peut pas être utilisée/modifiée en dehors. Par exemple :"
   ]
  },
  {
   "cell_type": "code",
   "execution_count": 3,
   "id": "76d000ba",
   "metadata": {
    "execution": {
     "iopub.execute_input": "2021-11-12T18:57:58.733102Z",
     "iopub.status.busy": "2021-11-12T18:57:58.732546Z",
     "iopub.status.idle": "2021-11-12T18:57:58.782072Z",
     "shell.execute_reply": "2021-11-12T18:57:58.781614Z"
    }
   },
   "outputs": [
    {
     "ename": "NameError",
     "evalue": "name 'x' is not defined",
     "output_type": "error",
     "traceback": [
      "\u001b[0;31m---------------------------------------------------------------------------\u001b[0m",
      "\u001b[0;31mNameError\u001b[0m                                 Traceback (most recent call last)",
      "\u001b[0;32m/tmp/ipykernel_191/3732946723.py\u001b[0m in \u001b[0;36m<module>\u001b[0;34m\u001b[0m\n\u001b[1;32m      2\u001b[0m     \u001b[0;32mreturn\u001b[0m \u001b[0mx\u001b[0m\u001b[0;34m\u001b[0m\u001b[0;34m\u001b[0m\u001b[0m\n\u001b[1;32m      3\u001b[0m \u001b[0;34m\u001b[0m\u001b[0m\n\u001b[0;32m----> 4\u001b[0;31m \u001b[0mprint\u001b[0m\u001b[0;34m(\u001b[0m\u001b[0mx\u001b[0m\u001b[0;34m)\u001b[0m \u001b[0;31m# x n'existe qu'à l'intérieur de f, il ne faut pas essayer de l'utiliser en dehors\u001b[0m\u001b[0;34m\u001b[0m\u001b[0;34m\u001b[0m\u001b[0m\n\u001b[0m",
      "\u001b[0;31mNameError\u001b[0m: name 'x' is not defined"
     ]
    }
   ],
   "source": [
    "def f(x):\n",
    "    return x\n",
    "\n",
    "print(x) # x n'existe qu'à l'intérieur de f, il ne faut pas essayer de l'utiliser en dehors"
   ]
  },
  {
   "cell_type": "markdown",
   "id": "5d0bcfbe",
   "metadata": {},
   "source": [
    "La variable `x` dans `f` est **muette** : de la même façon que la fonction mathématiques $f : x \\longmapsto 2x$ est équivalente à $f : y \\longmapsto 2y$, la fonction `f` ci-dessous est parfaitement équivalente à :"
   ]
  },
  {
   "cell_type": "code",
   "execution_count": 4,
   "id": "ba3112f4",
   "metadata": {
    "execution": {
     "iopub.execute_input": "2021-11-12T18:57:58.786897Z",
     "iopub.status.busy": "2021-11-12T18:57:58.786387Z",
     "iopub.status.idle": "2021-11-12T18:57:58.789405Z",
     "shell.execute_reply": "2021-11-12T18:57:58.789854Z"
    }
   },
   "outputs": [],
   "source": [
    "def f(y):\n",
    "    return 2*y"
   ]
  },
  {
   "cell_type": "markdown",
   "id": "05b7ca79",
   "metadata": {
    "tags": [
     "exo"
    ]
   },
   "source": [
    "**Exercice**\n",
    "1. Définir la fonction $g : z \\longmapsto \\sqrt z(z^2-1)$ en Python.\n",
    "2. Vérifier que $g(4) = 30$.\n",
    "3. En réutilisant `g`, définir $h : z \\longmapsto 3z + \\sqrt z(z^2-1)$ en Python. Vérifier que $h(4) = 42$."
   ]
  },
  {
   "cell_type": "code",
   "execution_count": 5,
   "id": "0b083e8e",
   "metadata": {
    "execution": {
     "iopub.execute_input": "2021-11-12T18:57:58.794932Z",
     "iopub.status.busy": "2021-11-12T18:57:58.792124Z",
     "iopub.status.idle": "2021-11-12T18:57:58.800163Z",
     "shell.execute_reply": "2021-11-12T18:57:58.799658Z"
    },
    "tags": [
     "cor"
    ]
   },
   "outputs": [
    {
     "name": "stdout",
     "output_type": "stream",
     "text": [
      "30.0\n"
     ]
    },
    {
     "data": {
      "text/plain": [
       "42.0"
      ]
     },
     "execution_count": 5,
     "metadata": {},
     "output_type": "execute_result"
    }
   ],
   "source": [
    "# 1.\n",
    "def g(z):\n",
    "    return (z**2 - 1)*z**0.5\n",
    "\n",
    "# 2.\n",
    "print(g(4))\n",
    "\n",
    "# 3.\n",
    "def h(x):\n",
    "    return 3*x + g(x)\n",
    "h(4)"
   ]
  },
  {
   "cell_type": "markdown",
   "id": "74883331",
   "metadata": {
    "tags": [
     "exo"
    ]
   },
   "source": [
    "**Exercice 2**\n",
    "1. Définir la fonction $inv : x \\longmapsto \\frac{1}{x}$ en Python.\n",
    "2. En réutilisant `inv`, définir $f : x \\longmapsto \\frac{1}{1+x^2}$ en Python. Vérifier que $f(2) = 0.2$."
   ]
  },
  {
   "cell_type": "code",
   "execution_count": 6,
   "id": "5d111a6f",
   "metadata": {
    "execution": {
     "iopub.execute_input": "2021-11-12T18:57:58.805200Z",
     "iopub.status.busy": "2021-11-12T18:57:58.804683Z",
     "iopub.status.idle": "2021-11-12T18:57:58.809816Z",
     "shell.execute_reply": "2021-11-12T18:57:58.809281Z"
    },
    "tags": [
     "cor"
    ]
   },
   "outputs": [
    {
     "data": {
      "text/plain": [
       "0.2"
      ]
     },
     "execution_count": 6,
     "metadata": {},
     "output_type": "execute_result"
    }
   ],
   "source": [
    "# 1.\n",
    "def inv(x):\n",
    "    return 1/x\n",
    "\n",
    "# 2.\n",
    "def f(x):\n",
    "    return inv(1 + x**2)\n",
    "f(2)"
   ]
  },
  {
   "cell_type": "markdown",
   "id": "0e484bc1",
   "metadata": {},
   "source": [
    "## Pourquoi écrire des fonctions?\n",
    "\n",
    "Les fonctions offrent au moins 2 intérêts majeurs :\n",
    "- Elles permettent de réutiliser du code : appeller une fonction plutôt que réécrire plein de fois la même portion de code. En évitant de répéter un long bloc de code, on économise des lignes de code et on gagne en lisibilité.\n",
    "- Elles permettent de mieux comprendre le code, en donnant un nom significatif à la fonction."
   ]
  },
  {
   "cell_type": "markdown",
   "id": "31114959",
   "metadata": {},
   "source": [
    "## Fonctions de plusieurs variables\n",
    "\n",
    "Pour l'instant, on a utilisé fonctions ayant un seul argument. De façon générale, une fonction (en Python ou en mathématiques) peut avoir n'importe quel nombre d'arguments. Par exemple :"
   ]
  },
  {
   "cell_type": "code",
   "execution_count": 7,
   "id": "bab8711d",
   "metadata": {
    "execution": {
     "iopub.execute_input": "2021-11-12T18:57:58.813654Z",
     "iopub.status.busy": "2021-11-12T18:57:58.813126Z",
     "iopub.status.idle": "2021-11-12T18:57:58.816943Z",
     "shell.execute_reply": "2021-11-12T18:57:58.816519Z"
    }
   },
   "outputs": [],
   "source": [
    "def somme(x, y): # cette fonction effectue la somme de deux nombres\n",
    "    return x + y"
   ]
  },
  {
   "cell_type": "markdown",
   "id": "e1cb0112",
   "metadata": {},
   "source": [
    "On utilise la fonction `somme` en donnant deux valeurs pour `x` et `y` (dans l'ordre), séparées par une virgule :"
   ]
  },
  {
   "cell_type": "code",
   "execution_count": 8,
   "id": "b83d75c1",
   "metadata": {
    "execution": {
     "iopub.execute_input": "2021-11-12T18:57:58.820936Z",
     "iopub.status.busy": "2021-11-12T18:57:58.820447Z",
     "iopub.status.idle": "2021-11-12T18:57:58.825379Z",
     "shell.execute_reply": "2021-11-12T18:57:58.825757Z"
    }
   },
   "outputs": [
    {
     "data": {
      "text/plain": [
       "7"
      ]
     },
     "execution_count": 8,
     "metadata": {},
     "output_type": "execute_result"
    }
   ],
   "source": [
    "somme(3, 4) # appelle somme en remplaçant x par 3 et y par 4"
   ]
  },
  {
   "cell_type": "markdown",
   "id": "6347e319",
   "metadata": {},
   "source": [
    "On peut bien sûr utiliser plus de variables : "
   ]
  },
  {
   "cell_type": "code",
   "execution_count": 9,
   "id": "37677e0e",
   "metadata": {
    "execution": {
     "iopub.execute_input": "2021-11-12T18:57:58.829903Z",
     "iopub.status.busy": "2021-11-12T18:57:58.829415Z",
     "iopub.status.idle": "2021-11-12T18:57:58.833724Z",
     "shell.execute_reply": "2021-11-12T18:57:58.833322Z"
    }
   },
   "outputs": [
    {
     "data": {
      "text/plain": [
       "6"
      ]
     },
     "execution_count": 9,
     "metadata": {},
     "output_type": "execute_result"
    }
   ],
   "source": [
    "def somme3(x, y, z):\n",
    "    return x + y + z\n",
    "somme3(1, 2, 3)"
   ]
  },
  {
   "cell_type": "markdown",
   "id": "4d3deb8d",
   "metadata": {
    "tags": [
     "exo"
    ]
   },
   "source": [
    "**Exercice** : Définir une fonction `delta` telle que `delta(a, b, c)` renvoie le discriminant de l'équation $ax^2 + bx + c = 0$. Vérifier que le discriminant de $x^2 + 2x + 3$ est $-8$."
   ]
  },
  {
   "cell_type": "code",
   "execution_count": 10,
   "id": "0ec83a13",
   "metadata": {
    "execution": {
     "iopub.execute_input": "2021-11-12T18:57:58.840786Z",
     "iopub.status.busy": "2021-11-12T18:57:58.839761Z",
     "iopub.status.idle": "2021-11-12T18:57:58.842569Z",
     "shell.execute_reply": "2021-11-12T18:57:58.843001Z"
    },
    "tags": [
     "cor"
    ]
   },
   "outputs": [
    {
     "data": {
      "text/plain": [
       "-8"
      ]
     },
     "execution_count": 10,
     "metadata": {},
     "output_type": "execute_result"
    }
   ],
   "source": [
    "def delta(a, b, c):\n",
    "    return b**2 - 4*a*c\n",
    "delta(1, 2, 3)"
   ]
  },
  {
   "cell_type": "markdown",
   "id": "90b06d54",
   "metadata": {},
   "source": [
    "# Fonctions prédéfinies\n",
    "Un **module** en Python est un ensemble de fonctions regroupées autour d'un même thème. Un des avantages de Python est son nombre de modules disponibles. Par exemple, NumPy contient de nombreuses fonctions mathématiques :"
   ]
  },
  {
   "cell_type": "code",
   "execution_count": 11,
   "id": "a81a7a5c",
   "metadata": {
    "execution": {
     "iopub.execute_input": "2021-11-12T18:57:58.846898Z",
     "iopub.status.busy": "2021-11-12T18:57:58.846384Z",
     "iopub.status.idle": "2021-11-12T18:57:58.937890Z",
     "shell.execute_reply": "2021-11-12T18:57:58.938469Z"
    }
   },
   "outputs": [
    {
     "data": {
      "text/plain": [
       "2.718281828459045"
      ]
     },
     "execution_count": 11,
     "metadata": {},
     "output_type": "execute_result"
    }
   ],
   "source": [
    "import numpy as np # importe le module NumPy, toutes les fonctions devant être préfixées par np. pour être utilisée\n",
    "\n",
    "np.exp(1) # fonction exponentielle de NumPy"
   ]
  },
  {
   "cell_type": "code",
   "execution_count": 12,
   "id": "85fd3525",
   "metadata": {
    "execution": {
     "iopub.execute_input": "2021-11-12T18:57:58.941117Z",
     "iopub.status.busy": "2021-11-12T18:57:58.940577Z",
     "iopub.status.idle": "2021-11-12T18:57:58.944986Z",
     "shell.execute_reply": "2021-11-12T18:57:58.945528Z"
    }
   },
   "outputs": [
    {
     "data": {
      "text/plain": [
       "0.0"
      ]
     },
     "execution_count": 12,
     "metadata": {},
     "output_type": "execute_result"
    }
   ],
   "source": [
    "np.log(1) # logarithme naturel (néperien) de NumPy"
   ]
  },
  {
   "cell_type": "markdown",
   "id": "bd22e26a",
   "metadata": {},
   "source": [
    "**Exercice** Définir la fonction sigmoïde $s : x \\longmapsto \\frac{1}{1+e^{-x}}$. En calculant $s(x)$ pour de grandes valeurs de $x$, conjecturer son comportement en $+\\infty$."
   ]
  },
  {
   "cell_type": "code",
   "execution_count": 13,
   "id": "c781895b",
   "metadata": {
    "execution": {
     "iopub.execute_input": "2021-11-12T18:57:58.948052Z",
     "iopub.status.busy": "2021-11-12T18:57:58.947511Z",
     "iopub.status.idle": "2021-11-12T18:57:58.952123Z",
     "shell.execute_reply": "2021-11-12T18:57:58.952653Z"
    }
   },
   "outputs": [
    {
     "data": {
      "text/plain": [
       "0.9999546021312976"
      ]
     },
     "execution_count": 13,
     "metadata": {},
     "output_type": "execute_result"
    }
   ],
   "source": [
    "def s(x):\n",
    "    return 1/(1 + np.exp(-x))\n",
    "s(10) # s a l'air de tendre vers 1 en l'infini"
   ]
  },
  {
   "cell_type": "markdown",
   "id": "474e1057",
   "metadata": {},
   "source": [
    "Si on veut gagner du temps ou si on ne se souvient pas du nom de la fonction que l'on souhaite utiliser, on peut utiliser la touche Tab pour compléter automatiquement ce qu'on est en train d'écrire. On peut ensuite sélectionner la bonne fonction avec la touche Entrée :\n",
    "\n",
    "<center><img src=img/completion.png width=300/></center>"
   ]
  },
  {
   "cell_type": "markdown",
   "id": "3f230fce",
   "metadata": {},
   "source": [
    "Il est possible d'obtenir de l'aide sur une fonction en cliquant dessus puis en appuyant sur les touches Shift+Tab (laisser appuyer sur Shift, puis appuyer sur Tab) :\n",
    "\n",
    "<center><img src=img/aide.png width=600/></center>\n"
   ]
  }
 ],
 "metadata": {
  "jupytext": {
   "cell_metadata_filter": "-all",
   "main_language": "python",
   "notebook_metadata_filter": "-all"
  },
  "kernelspec": {
   "display_name": "Python 3",
   "language": "python",
   "name": "python3"
  },
  "language_info": {
   "codemirror_mode": {
    "name": "ipython",
    "version": 3
   },
   "file_extension": ".py",
   "mimetype": "text/x-python",
   "name": "python",
   "nbconvert_exporter": "python",
   "pygments_lexer": "ipython3",
   "version": "3.9.6"
  }
 },
 "nbformat": 4,
 "nbformat_minor": 5
}
