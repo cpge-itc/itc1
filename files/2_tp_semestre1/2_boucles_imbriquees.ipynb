{
 "cells": [
  {
   "cell_type": "markdown",
   "id": "f63a5329-194c-40f2-9655-97e6da30d4ce",
   "metadata": {},
   "source": [
    "# <center><a href='https://notebook.basthon.fr/?from=https://raw.githubusercontent.com/fortierq/itc1/master/files/2_tp_semestre1/2_boucles_imbriquees.ipynb'><center><a href='https://notebook.basthon.fr/?from=https://raw.githubusercontent.com/fortierq/itc1/master/files/2_tp_semestre1/2_boucles_imbriquees.ipynb'>[TP 2 : Boucles imbriquées ![Binder](https://mybinder.org/badge.svg)](https://mybinder.org/v2/gh/fortierq/itc-binder/main?urlpath=git-pull%3Frepo%3Dhttps%253A%252F%252Fgithub.com%252Ffortierq%252Fitc1%26urlpath%3Dlab%252Ftree%252Fitc1%252Ffiles%252F2_tp_semestre1%252F2_boucles_imbriquees.ipynb%26branch%3Dmaster) <img src=https://framagit.org/uploads/-/system/project/avatar/55763/basthon_shadow.png width=100></a></center> <img src=https://framagit.org/uploads/-/system/project/avatar/55763/basthon_shadow.png width=100></a></center>\n",
    "\n",
    "Dans ce TP, on considère des algorithmes utilisant des boucles imbriquées (les unes dans les autres). Par exemple, dans le code suivant, `print(i, j)` est exécuté pour tous les `i` entre $0$ et $3$ et tous les `j` entre $0$ et $2$ :"
   ]
  },
  {
   "cell_type": "code",
   "execution_count": 1,
   "id": "a2a2cee2-6ffa-44fb-a716-10bad9912836",
   "metadata": {
    "execution": {
     "iopub.execute_input": "2021-12-06T15:37:30.437000Z",
     "iopub.status.busy": "2021-12-06T15:37:30.436367Z",
     "iopub.status.idle": "2021-12-06T15:37:30.451649Z",
     "shell.execute_reply": "2021-12-06T15:37:30.452596Z"
    }
   },
   "outputs": [
    {
     "name": "stdout",
     "output_type": "stream",
     "text": [
      "0 0\n",
      "0 1\n",
      "0 2\n",
      "1 0\n",
      "1 1\n",
      "1 2\n",
      "2 0\n",
      "2 1\n",
      "2 2\n",
      "3 0\n",
      "3 1\n",
      "3 2\n"
     ]
    }
   ],
   "source": [
    "for i in range(4):\n",
    "    for j in range(3):\n",
    "        print(i, j) # affiche i et j"
   ]
  },
  {
   "cell_type": "markdown",
   "id": "0d8c4c47-93aa-4850-b866-169a827d18e9",
   "metadata": {
    "tags": [
     "exo"
    ]
   },
   "source": [
    "**Exercice** : Deviner puis vérifier ce qui va être affiché par le code suivant :\n",
    "```python\n",
    "for i in range(4):\n",
    "    for j in range(i, 3):\n",
    "        print(i, j)\n",
    "```"
   ]
  },
  {
   "cell_type": "code",
   "execution_count": 2,
   "id": "f11a6436-dc54-4f51-b7f1-0a84b8959aee",
   "metadata": {
    "execution": {
     "iopub.execute_input": "2021-12-06T15:37:30.458908Z",
     "iopub.status.busy": "2021-12-06T15:37:30.457960Z",
     "iopub.status.idle": "2021-12-06T15:37:30.461040Z",
     "shell.execute_reply": "2021-12-06T15:37:30.461841Z"
    },
    "tags": [
     "cor"
    ]
   },
   "outputs": [
    {
     "name": "stdout",
     "output_type": "stream",
     "text": [
      "0 0\n",
      "0 1\n",
      "0 2\n",
      "1 1\n",
      "1 2\n",
      "2 2\n"
     ]
    }
   ],
   "source": [
    "for i in range(4):\n",
    "    for j in range(i, 3):\n",
    "        print(i, j)"
   ]
  },
  {
   "cell_type": "markdown",
   "id": "e4b3e4ba-29d6-45f2-b3b3-1f432f34d49f",
   "metadata": {},
   "source": [
    "## Facteur d'une chaîne de caractères\n",
    "\n",
    "Les chaînes de caractères (*string* en anglais) servent à stocker du texte, sous forme d'une suite de caractères (symboles). Contrairement aux listes, il n'est pas possible de modifier une chaîne de caractères (on dit que c'est un type immutable). Par exemple, il n'y a pas de `append` sur les chaînes de caractères."
   ]
  },
  {
   "cell_type": "code",
   "execution_count": 3,
   "id": "b2a9c312-70a9-46bd-91c3-6110ff681240",
   "metadata": {
    "execution": {
     "iopub.execute_input": "2021-12-06T15:37:30.466937Z",
     "iopub.status.busy": "2021-12-06T15:37:30.466299Z",
     "iopub.status.idle": "2021-12-06T15:37:30.471402Z",
     "shell.execute_reply": "2021-12-06T15:37:30.470828Z"
    }
   },
   "outputs": [
    {
     "name": "stdout",
     "output_type": "stream",
     "text": [
      "24\n",
      "i\n"
     ]
    }
   ],
   "source": [
    "s = \"l'informatique c'est fun\"  # définition d'une chaîne de caractères\n",
    "print(len(s))  # taille de s\n",
    "print(s[2])  # caractère d'indice 2 (c'est à dire en 3ème position)"
   ]
  },
  {
   "cell_type": "code",
   "execution_count": 4,
   "id": "3c72b6ff-e6d3-475f-9dac-a8c3910cb8d3",
   "metadata": {
    "execution": {
     "iopub.execute_input": "2021-12-06T15:37:30.476677Z",
     "iopub.status.busy": "2021-12-06T15:37:30.475891Z",
     "iopub.status.idle": "2021-12-06T15:37:30.535642Z",
     "shell.execute_reply": "2021-12-06T15:37:30.536168Z"
    }
   },
   "outputs": [
    {
     "ename": "TypeError",
     "evalue": "'str' object does not support item assignment",
     "output_type": "error",
     "traceback": [
      "\u001b[0;31m---------------------------------------------------------------------------\u001b[0m",
      "\u001b[0;31mTypeError\u001b[0m                                 Traceback (most recent call last)",
      "\u001b[0;32m/tmp/ipykernel_184/2090828810.py\u001b[0m in \u001b[0;36m<module>\u001b[0;34m\u001b[0m\n\u001b[0;32m----> 1\u001b[0;31m \u001b[0ms\u001b[0m\u001b[0;34m[\u001b[0m\u001b[0;36m0\u001b[0m\u001b[0;34m]\u001b[0m \u001b[0;34m=\u001b[0m \u001b[0;34m\"L\"\u001b[0m  \u001b[0;31m# ERREUR : on ne peut pas modifier un str\u001b[0m\u001b[0;34m\u001b[0m\u001b[0;34m\u001b[0m\u001b[0m\n\u001b[0m\u001b[1;32m      2\u001b[0m \u001b[0ms\u001b[0m\u001b[0;34m.\u001b[0m\u001b[0mappend\u001b[0m\u001b[0;34m(\u001b[0m\u001b[0;34m\"!\"\u001b[0m\u001b[0;34m)\u001b[0m  \u001b[0;31m# ERREUR : on ne peut pas modifier un str\u001b[0m\u001b[0;34m\u001b[0m\u001b[0;34m\u001b[0m\u001b[0m\n",
      "\u001b[0;31mTypeError\u001b[0m: 'str' object does not support item assignment"
     ]
    }
   ],
   "source": [
    "s[0] = \"L\"  # ERREUR : on ne peut pas modifier un str\n",
    "s.append(\"!\")  # ERREUR : on ne peut pas modifier un str"
   ]
  },
  {
   "cell_type": "markdown",
   "id": "09d78935-351e-402e-9e0e-5c7db0c7f5b3",
   "metadata": {
    "tags": [
     "exo"
    ]
   },
   "source": [
    "**Exercice** : Écrire une fonction permettant de savoir si une chaîne de caractères contient la lettre a."
   ]
  },
  {
   "cell_type": "code",
   "execution_count": 5,
   "id": "487e7d00-95fd-4eec-beeb-a26c83b9bcfb",
   "metadata": {
    "execution": {
     "iopub.execute_input": "2021-12-06T15:37:30.542605Z",
     "iopub.status.busy": "2021-12-06T15:37:30.541041Z",
     "iopub.status.idle": "2021-12-06T15:37:30.543278Z",
     "shell.execute_reply": "2021-12-06T15:37:30.543786Z"
    },
    "tags": [
     "cor"
    ]
   },
   "outputs": [],
   "source": [
    "def contient_a(s):\n",
    "    for i in range(len(s)):\n",
    "        if s[i] == \"a\":\n",
    "            return True\n",
    "    return False"
   ]
  },
  {
   "cell_type": "markdown",
   "id": "a25077dd-ef96-4c59-a786-3b7a24f76a79",
   "metadata": {},
   "source": [
    "Soit `s` et `m` deux chaînes de caractères. On dit que `m` est un **facteur** de `s` si `m` apparaît dans `s` (consécutivement).  \n",
    "Par exemple, `\"thm\"` est un facteur de `\"Algorithme\"` mais `\"rime\"` n'est pas un facteur de `\"Algorithme\"`.  "
   ]
  },
  {
   "cell_type": "markdown",
   "id": "471dd2ae-5a7b-4b12-94c6-bfd9693a9844",
   "metadata": {
    "tags": [
     "exo"
    ]
   },
   "source": [
    "**Exercice**\n",
    "1. Écrire une fonction `facteur_i` telle que `facteur_i(s, m, i)` détermine si `m` apparaît dans `s` à partir de l'indice `i`.  Dit autrement, il faut `s[i]` et `m[0]` soient égaux, que `s[i + 1]` et `m[1]` soient égaux...  \n",
    "Par exemple, `facteur_i(\"Algorithme\", \"go\", 2)` doit renvoyer `True` mais `facteur_i(\"Algorithme\", \"go\", 0)` doit renvoyer `False`.  \n",
    "2. En déduire une fonction `facteur` telle que `facteur(s, m)` détermine si `m` est un facteur de `s`."
   ]
  },
  {
   "cell_type": "code",
   "execution_count": 6,
   "id": "5e25690a-df9c-4f30-95a9-cc3ef84b7124",
   "metadata": {
    "execution": {
     "iopub.execute_input": "2021-12-06T15:37:30.551675Z",
     "iopub.status.busy": "2021-12-06T15:37:30.550135Z",
     "iopub.status.idle": "2021-12-06T15:37:30.552427Z",
     "shell.execute_reply": "2021-12-06T15:37:30.552904Z"
    },
    "tags": [
     "cor"
    ]
   },
   "outputs": [],
   "source": [
    "# 1.\n",
    "def facteur_i(s, m, i):\n",
    "    for j in range(len(m)):\n",
    "        if s[i + j] != m[j]:\n",
    "            return False\n",
    "    return True\n",
    "\n",
    "assert(facteur_i(\"Algorithme\", \"go\", 2) and not facteur_i(\"Algorithme\", \"go\", 0))\n",
    "\n",
    "# 2.\n",
    "def facteur(s, m):\n",
    "    for i in range(len(s) - len(m) + 1):\n",
    "        if facteur_i(s, m, i):\n",
    "            return True\n",
    "    return False\n",
    "\n",
    "assert(facteur(\"Algorithme\", \"go\") and not facteur(\"Algorithme\", \"lit\"))"
   ]
  },
  {
   "cell_type": "markdown",
   "id": "7edeca0e-eada-4c44-96cc-0cae996f0bb6",
   "metadata": {},
   "source": [
    "## Recherche des deux valeurs les plus proches\n",
    "\n",
    "On veut connaître, dans une liste, les deux valeurs les plus proches.  \n",
    "Par exemple, les deux valeurs les plus proches dans `[4, -1, 8, 2, 13]` sont `4` et `2`.  "
   ]
  },
  {
   "cell_type": "markdown",
   "id": "26ec5af1-a96b-4f6c-ac8e-9171d5d50055",
   "metadata": {
    "tags": [
     "exo"
    ]
   },
   "source": [
    "**Exercice** Écrire une fonction `plus_proches` renvoyant un couple des deux valeurs les plus proches dans une liste de nombres.  \n",
    "On pourra compléter le code suivant (en supposant la liste de taille au moins 2) :\n",
    "```python\n",
    "def plus_proches(L):\n",
    "    m = abs(L[1] - L[0]) # m contient la distance minimum entre 2 valeurs de L\n",
    "    res = (L[0], L[1]) # les deux valeurs les plus proches\n",
    "    for i in range(len(L)):\n",
    "        for j in range(..., len(L)): # on veut i différent de j\n",
    "            # si la distance de L[i] à L[j] est plus petite que m, mettre à jour m et res\n",
    "    return res\n",
    "```"
   ]
  },
  {
   "cell_type": "code",
   "execution_count": 7,
   "id": "2cd6bbf2-20ff-4ced-aba9-47d84dd21531",
   "metadata": {
    "execution": {
     "iopub.execute_input": "2021-12-06T15:37:30.566570Z",
     "iopub.status.busy": "2021-12-06T15:37:30.560763Z",
     "iopub.status.idle": "2021-12-06T15:37:30.569024Z",
     "shell.execute_reply": "2021-12-06T15:37:30.569538Z"
    },
    "tags": [
     "cor"
    ]
   },
   "outputs": [
    {
     "data": {
      "text/plain": [
       "(4, 2)"
      ]
     },
     "execution_count": 7,
     "metadata": {},
     "output_type": "execute_result"
    }
   ],
   "source": [
    "def plus_proches(L):\n",
    "    m = abs(L[1] - L[0]) # m contient la distance minimum entre 2 valeurs de L\n",
    "    res = (L[0], L[1]) # les deux valeurs les plus proches\n",
    "    for i in range(len(L)):\n",
    "        for j in range(i + 1, len(L)):\n",
    "            d = abs(L[i] - L[j])\n",
    "            if d < m:\n",
    "                m = d\n",
    "                res = (L[i], L[j])\n",
    "    return res\n",
    "\n",
    "plus_proches([4, -1, 8, 2, 13])"
   ]
  },
  {
   "cell_type": "markdown",
   "id": "6c4c8af1-9381-49f0-9c19-ae4c4222eadd",
   "metadata": {},
   "source": [
    "## Tri à bulle\n",
    "\n",
    "Le tri à bulle permet de trier une liste `L` de taille `n` par ordre croissant de la façon suivante :\n",
    "```\n",
    "Pour i variant de 0 à n - 1\n",
    "    Pour j variant de i + 1 à n - 1\n",
    "        Si L[i] > L[j]\n",
    "            Inverser L[i] et L[j]\n",
    "```"
   ]
  },
  {
   "cell_type": "markdown",
   "id": "e56eeef0-84e4-4a07-bb0f-950402007d41",
   "metadata": {
    "tags": [
     "exo"
    ]
   },
   "source": [
    "**Exercice** : Traduire ce pseudo-code en une fonction Python."
   ]
  },
  {
   "cell_type": "code",
   "execution_count": 8,
   "id": "31c52c29-8a92-4db2-8d17-7cd87780eabb",
   "metadata": {
    "execution": {
     "iopub.execute_input": "2021-12-06T15:37:30.579795Z",
     "iopub.status.busy": "2021-12-06T15:37:30.578725Z",
     "iopub.status.idle": "2021-12-06T15:37:30.581671Z",
     "shell.execute_reply": "2021-12-06T15:37:30.582166Z"
    },
    "tags": [
     "cor"
    ]
   },
   "outputs": [
    {
     "data": {
      "text/plain": [
       "[1, 2, 3, 4, 8]"
      ]
     },
     "execution_count": 8,
     "metadata": {},
     "output_type": "execute_result"
    }
   ],
   "source": [
    "def tri_bulle(L):\n",
    "    for i in range(len(L)):\n",
    "        for j in range(i + 1, len(L)):\n",
    "            if L[i] > L[j]:\n",
    "                L[i], L[j] = L[j], L[i]\n",
    "          \n",
    "L = [4, 1, 8, 2, 3]\n",
    "tri_bulle(L)\n",
    "L"
   ]
  }
 ],
 "metadata": {
  "kernelspec": {
   "display_name": "Python 3",
   "language": "python",
   "name": "python3"
  },
  "language_info": {
   "codemirror_mode": {
    "name": "ipython",
    "version": 3
   },
   "file_extension": ".py",
   "mimetype": "text/x-python",
   "name": "python",
   "nbconvert_exporter": "python",
   "pygments_lexer": "ipython3",
   "version": "3.9.6"
  }
 },
 "nbformat": 4,
 "nbformat_minor": 5
}
