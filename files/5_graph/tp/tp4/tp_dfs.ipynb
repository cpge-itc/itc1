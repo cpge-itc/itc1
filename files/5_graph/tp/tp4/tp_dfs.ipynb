{
 "cells": [
  {
   "cell_type": "markdown",
   "metadata": {},
   "source": [
    "# <center><a href='https://notebook.basthon.fr/?from=https://raw.githubusercontent.com/fortierq/itc1/master/files/5_graph/tp/tp4/tp_dfs.ipynb'>TP 4 : Parcours en profondeur <img src=https://framagit.org/uploads/-/system/project/avatar/55763/basthon_shadow.png width=100></a></center>\n",
    "\n",
    "Dans ce TP, on pourra utiliser la fonction suivante pour afficher un graphe représenté par liste d'adjacence :"
   ]
  },
  {
   "cell_type": "code",
   "execution_count": 1,
   "metadata": {},
   "outputs": [],
   "source": [
    "import matplotlib.pyplot as plt\n",
    "import networkx as nx\n",
    "\n",
    "def draw(G):\n",
    "    G_ = nx.Graph()\n",
    "    G_.add_edges_from([(i, j) for i in range(len(G)) for j in G[i]])\n",
    "    plt.clf()\n",
    "    nx.draw(G_, node_size=700, font_size=20, node_color= \"white\", edgecolors=\"black\", with_labels=True)\n",
    "    plt.show()"
   ]
  },
  {
   "cell_type": "markdown",
   "metadata": {
    "tags": [
     "exo"
    ]
   },
   "source": [
    "**Exercice** : Définir une liste d'adjacence représentant le graphe `G_ex` ci-dessous et vérifier avec `draw`.  \n",
    "<center><img src=https://github.com/fortierq/itc1/raw/4be1ee8d9679ffae521c506ad54acb9e6099c614/files/5_graph/tp/tp2/g.png width=200></center>"
   ]
  },
  {
   "cell_type": "code",
   "execution_count": 5,
   "metadata": {
    "tags": [
     "cor"
    ]
   },
   "outputs": [
    {
     "data": {
      "image/png": "[encoded data removed]",
      "text/plain": [
       "<Figure size 432x288 with 1 Axes>"
      ]
     },
     "metadata": {},
     "output_type": "display_data"
    }
   ],
   "source": [
    "G = [\n",
    "    [6],\n",
    "    [3, 4, 2],\n",
    "    [1, 4, 5],\n",
    "    [1, 4],\n",
    "    [3, 1, 2, 5],\n",
    "    [2, 4],\n",
    "    [0]\n",
    "]\n",
    "draw(G)"
   ]
  },
  {
   "cell_type": "markdown",
   "metadata": {
    "tags": [
     "exo"
    ]
   },
   "source": [
    "**Exercice** : Écrire une fonction `dfs(G, s)` renvoyant la liste des sommets de `G` suivant un parcours en profondeur depuis le sommet `s`. Vérifier sur le graphe `G_ex` précédent.  \n",
    "On essaierai de compléter le code ci-dessous. Ne regarder le cours que si cela est vraiment nécessaire."
   ]
  },
  {
   "cell_type": "code",
   "execution_count": 6,
   "metadata": {},
   "outputs": [
    {
     "ename": "IndentationError",
     "evalue": "expected an indented block (<ipython-input-6-86ba1a145e36>, line 9)",
     "output_type": "error",
     "traceback": [
      "\u001b[0;36m  File \u001b[0;32m\"<ipython-input-6-86ba1a145e36>\"\u001b[0;36m, line \u001b[0;32m9\u001b[0m\n\u001b[0;31m    aux(s)\u001b[0m\n\u001b[0m    ^\u001b[0m\n\u001b[0;31mIndentationError\u001b[0m\u001b[0;31m:\u001b[0m expected an indented block\n"
     ]
    }
   ],
   "source": [
    "def dfs(G, s):\n",
    "    # définir une liste de booléens pour savoir si un sommet a été visité\n",
    "    def aux(u): # fonction récursive\n",
    "        # si u n'a pas été visité :\n",
    "            # afficher u\n",
    "            # marquer u comme visité\n",
    "            # pour chaque voisin v de u\n",
    "                # appeler aux(v)\n",
    "    aux(s)"
   ]
  },
  {
   "cell_type": "code",
   "execution_count": 17,
   "metadata": {
    "tags": [
     "cor"
    ]
   },
   "outputs": [
    {
     "data": {
      "text/plain": [
       "[1, 3, 4, 2, 5]"
      ]
     },
     "execution_count": 17,
     "metadata": {},
     "output_type": "execute_result"
    }
   ],
   "source": [
    "def dfs(G, s):\n",
    "    visited = [False]*len(G)\n",
    "    L = []\n",
    "    def aux(u):\n",
    "        if not visited[u]:\n",
    "            L.append(u)\n",
    "            visited[u] = True\n",
    "            for v in G[u]:\n",
    "                aux(v)\n",
    "    aux(s)\n",
    "    return L # on pourra aussi renvoyer tous les sommets à True dans visited\n",
    "\n",
    "dfs(G, 1)"
   ]
  },
  {
   "cell_type": "markdown",
   "metadata": {
    "tags": [
     "exo"
    ]
   },
   "source": [
    "**Exercice** : En utilisant un parcours en profondeur, écrire une fonction `connexe(G)` qui renvoie `True` si le graphe `G` est connexe, `False` sinon.  \n",
    "Vérifier sur `G_ex` (non connexe) et sur un graphe connexe de votre choix."
   ]
  },
  {
   "cell_type": "code",
   "execution_count": 18,
   "metadata": {},
   "outputs": [
    {
     "data": {
      "text/plain": [
       "False"
      ]
     },
     "execution_count": 18,
     "metadata": {},
     "output_type": "execute_result"
    }
   ],
   "source": [
    "def connexe(G):\n",
    "    return len(dfs(G, 0)) == len(G) # teste si tous les sommets ont été visités\n",
    "\n",
    "connexe(G)"
   ]
  },
  {
   "cell_type": "markdown",
   "metadata": {
    "tags": [
     "exo"
    ]
   },
   "source": [
    "**Exercice** : Écrire une fonction `composante_connexe(G, v)` qui renvoie la composante connexe du sommet `v` dans le graphe `G`, c'est-à-dire la liste des sommets (dans n'importe quel ordre) de `G` qui sont accessibles depuis `v`.  \n",
    "Par exemple, `composante_connexe(G_ex, 0)` peut renvoyer `[0, 6]` et `composante_connexe(G_ex, 1)` peut renvoyer `[3, 1, 4, 2, 5]`."
   ]
  },
  {
   "cell_type": "code",
   "execution_count": 19,
   "metadata": {},
   "outputs": [],
   "source": [
    "def composante_connexe(G, v):\n",
    "    return dfs(G, v) # tout simplement..."
   ]
  },
  {
   "cell_type": "markdown",
   "metadata": {
    "tags": [
     "exo"
    ]
   },
   "source": [
    "**Exercice** : Écrire une fonction `composantes_connexes(G)` qui renvoie la liste des composantes connexes (dans n'importe quel ordre) du graphe `G`.  \n",
    "Par exemple, `composantes_connexes(G_ex)` peut renvoyer `[[0, 6], [3, 1, 4, 2, 5]]`."
   ]
  },
  {
   "cell_type": "code",
   "execution_count": 20,
   "metadata": {
    "tags": [
     "cor"
    ]
   },
   "outputs": [
    {
     "data": {
      "text/plain": [
       "[[0, 6], [1, 3, 4, 2, 5]]"
      ]
     },
     "execution_count": 20,
     "metadata": {},
     "output_type": "execute_result"
    }
   ],
   "source": [
    "# pour éviter d'avoir plusieurs fois la même composante connexe, \n",
    "# il est préférable d'utiliser la même liste visited dans tous les appels récursifs\n",
    "def dfs2(G, s, visited):\n",
    "    L = []\n",
    "    def aux(u):\n",
    "        if not visited[u]:\n",
    "            L.append(u)\n",
    "            visited[u] = True\n",
    "            for v in G[u]:\n",
    "                aux(v)\n",
    "    aux(s)\n",
    "    return L\n",
    "\n",
    "def composantes_connexes(G):\n",
    "    visited = [False]*len(G)\n",
    "    composantes = []\n",
    "    for v in range(len(G)):\n",
    "        L = dfs2(G, v, visited)\n",
    "        if len(L) > 0:\n",
    "            composantes.append(L)\n",
    "    return composantes\n",
    "\n",
    "composantes_connexes(G)"
   ]
  },
  {
   "cell_type": "markdown",
   "metadata": {
    "tags": [
     "exo"
    ]
   },
   "source": [
    "**Exercice** : Écrire une fonction `chemin(G, u, v)` renvoyant `True` s'il existe un chemin de `u` à `v` dans le graphe `G`, `False` sinon.  \n",
    "Par exemple, `chemin(G_ex, 0, 5)` doit renvoyer `False` et `chemin(G_ex, 3, 4)` doit renvoyer `False`."
   ]
  },
  {
   "cell_type": "code",
   "execution_count": 24,
   "metadata": {
    "tags": [
     "cor"
    ]
   },
   "outputs": [
    {
     "name": "stdout",
     "output_type": "stream",
     "text": [
      "False\n",
      "True\n"
     ]
    }
   ],
   "source": [
    "# on peut regarder si les 2 sommets appartiennent à la même composante connexe\n",
    "def chemin(G, u, v):\n",
    "    return v in dfs(G, u)\n",
    "\n",
    "print(chemin(G, 0, 1))\n",
    "print(chemin(G, 3, 1))\n",
    "\n",
    "# on peut aussi recoder le \"in\" :\n",
    "def chemin(G, u, v):\n",
    "    L = dfs(G, u)\n",
    "    for w in L:\n",
    "        if w == v:\n",
    "            return True\n",
    "    return False"
   ]
  },
  {
   "cell_type": "markdown",
   "metadata": {
    "tags": [
     "exo"
    ]
   },
   "source": [
    "**Exercice** : Réécrire une fonction `chemin(G, u, v)` de façon à renvoyant la liste des sommets d'un chemin de `u` à `v` dans le graphe `G`. S'il n'y a pas de chemin, renvoyer une liste vide."
   ]
  },
  {
   "cell_type": "code",
   "execution_count": 30,
   "metadata": {
    "tags": [
     "cor"
    ]
   },
   "outputs": [
    {
     "data": {
      "text/plain": [
       "[2, 3, 1]"
      ]
     },
     "execution_count": 30,
     "metadata": {},
     "output_type": "execute_result"
    }
   ],
   "source": [
    "# il faut réécrire dfs :\n",
    "def chemin(G, u, v):\n",
    "    visited = [False]*len(G)\n",
    "    L = [u]\n",
    "    def aux(u): # renvoie True ssi un chemin vers v a été trouvé\n",
    "        if u == v:\n",
    "            return True\n",
    "        if not visited[u]:\n",
    "            visited[u] = True\n",
    "            for w in G[u]:\n",
    "                if aux(w): # il y a un chemin vers v passant par w\n",
    "                    L.append(w)\n",
    "                    return True\n",
    "        return False\n",
    "    aux(u)\n",
    "    return L\n",
    "\n",
    "chemin(G, 2, 3)"
   ]
  }
 ],
 "metadata": {
  "interpreter": {
   "hash": "31f2aee4e71d21fbe5cf8b01ff0e069b9275f58929596ceb00d14d90e3e16cd6"
  },
  "kernelspec": {
   "display_name": "Python 3",
   "language": "python",
   "name": "python3"
  },
  "language_info": {
   "codemirror_mode": {
    "name": "ipython",
    "version": 3
   },
   "file_extension": ".py",
   "mimetype": "text/x-python",
   "name": "python",
   "nbconvert_exporter": "python",
   "pygments_lexer": "ipython3",
   "version": "3.8.10"
  }
 },
 "nbformat": 4,
 "nbformat_minor": 4
}
