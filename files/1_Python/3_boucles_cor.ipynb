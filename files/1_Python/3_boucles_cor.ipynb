{
 "cells": [
  {
   "cell_type": "markdown",
   "id": "9ee4445d-5a4b-4bbe-8bb4-d31dbba09556",
   "metadata": {},
   "source": [
    "# <center><a href='https://colab.research.google.com/github/fortierq/itc1/blob/master/files/1_Python/3_boucles_cor.ipynb'>Boucle for  <img src=https://colab.research.google.com/assets/colab-badge.svg width=100></a></center>"
   ]
  },
  {
   "cell_type": "markdown",
   "id": "4cf522b3-958a-4df0-b9ba-815d5d1e9d1e",
   "metadata": {
    "tags": []
   },
   "source": [
    "## Range"
   ]
  },
  {
   "cell_type": "markdown",
   "id": "551c1244-d2ed-4a93-9fa2-2f3bfb876050",
   "metadata": {},
   "source": [
    "Une boucle `for` permet de répéter des instructions un certain nombre de fois :"
   ]
  },
  {
   "cell_type": "code",
   "execution_count": 1,
   "id": "d13fd333-ad1e-4cf8-afa2-2059e086e498",
   "metadata": {
    "execution": {
     "iopub.execute_input": "2021-11-12T18:58:03.262610Z",
     "iopub.status.busy": "2021-11-12T18:58:03.261739Z",
     "iopub.status.idle": "2021-11-12T18:58:03.271641Z",
     "shell.execute_reply": "2021-11-12T18:58:03.271107Z"
    }
   },
   "outputs": [
    {
     "name": "stdout",
     "output_type": "stream",
     "text": [
      "0\n",
      "1\n",
      "2\n",
      "3\n",
      "4\n"
     ]
    }
   ],
   "source": [
    "for i in range(5):\n",
    "    print(i)  # affiche i pour i variant de 0 à 4"
   ]
  },
  {
   "cell_type": "markdown",
   "id": "51003439-a2de-4bf7-a7a5-b94e829f25b8",
   "metadata": {},
   "source": [
    "**Remarque** : on utilise souvent `i` comme nom de variable, mais on aurait pu l'appeler autrement. Par exemple le code suivant fait exactement la même chose :\n",
    "```python\n",
    "for variable in range(5):\n",
    "    print(variable)\n",
    "```    "
   ]
  },
  {
   "cell_type": "markdown",
   "id": "25456c9e-733c-4d35-8af0-40b0729f7935",
   "metadata": {},
   "source": [
    "**Attention** : une boucle `for i in range(n)` commence à 0 et finit à $n - 1$ (l'indice de fin est toujours exclu en Python). "
   ]
  },
  {
   "cell_type": "markdown",
   "id": "b32b2cc5-e929-499b-ab53-fe086eca74ed",
   "metadata": {
    "tags": [
     "exo"
    ]
   },
   "source": [
    "**Exercice** : Combien de fois s'exécute une boucle `for i in range(n)`?"
   ]
  },
  {
   "cell_type": "markdown",
   "id": "f3d0a0cd-f0c1-4351-a9f6-8e0072ccff54",
   "metadata": {
    "tags": [
     "cor"
    ]
   },
   "source": [
    "$n$ fois (c'est aussi le nombre d'entiers dans $\\{0, ..., n - 1\\}$."
   ]
  },
  {
   "cell_type": "markdown",
   "id": "6cebe150-c963-4bc8-83bb-6805f4c8aaea",
   "metadata": {},
   "source": [
    "L'exemple suivant permet de calculer la somme des 100 premiers entiers ($0 + 1 + 2 + ... + 99$) :"
   ]
  },
  {
   "cell_type": "code",
   "execution_count": 2,
   "id": "dce6b7fd-9eb3-41fe-992e-ff767f1910e1",
   "metadata": {
    "execution": {
     "iopub.execute_input": "2021-11-12T18:58:03.283375Z",
     "iopub.status.busy": "2021-11-12T18:58:03.282420Z",
     "iopub.status.idle": "2021-11-12T18:58:03.286160Z",
     "shell.execute_reply": "2021-11-12T18:58:03.285703Z"
    }
   },
   "outputs": [
    {
     "data": {
      "text/plain": [
       "4950"
      ]
     },
     "execution_count": 2,
     "metadata": {},
     "output_type": "execute_result"
    }
   ],
   "source": [
    "somme = 0\n",
    "for k in range(100):\n",
    "    somme += k  # même chose que somme = somme + k\n",
    "somme"
   ]
  },
  {
   "cell_type": "markdown",
   "id": "b0684916-9bf4-428c-904c-25014aa236ae",
   "metadata": {
    "tags": [
     "exo"
    ]
   },
   "source": [
    "**Exercice** : Quelle formule connaissez-vous pour la somme précédente? L'utiliser pour vérifier votre résultat."
   ]
  },
  {
   "cell_type": "code",
   "execution_count": 3,
   "id": "7aa61e6f-f86c-4da8-93fe-7c809abafac9",
   "metadata": {
    "execution": {
     "iopub.execute_input": "2021-11-12T18:58:03.291356Z",
     "iopub.status.busy": "2021-11-12T18:58:03.290576Z",
     "iopub.status.idle": "2021-11-12T18:58:03.293151Z",
     "shell.execute_reply": "2021-11-12T18:58:03.293559Z"
    },
    "tags": [
     "cor"
    ]
   },
   "outputs": [
    {
     "data": {
      "text/plain": [
       "4950.0"
      ]
     },
     "execution_count": 3,
     "metadata": {},
     "output_type": "execute_result"
    }
   ],
   "source": [
    "n = 100\n",
    "n*(n-1)/2  # formule de Gauss"
   ]
  },
  {
   "cell_type": "markdown",
   "id": "8c528612-8fda-44be-b151-c3587ba54337",
   "metadata": {},
   "source": [
    "Une variante du `range` permet de parcourir les entiers de $a$ à $b - 1$ : `for i in range(a, b)`."
   ]
  },
  {
   "cell_type": "code",
   "execution_count": 4,
   "id": "4481ea36-17ca-414c-8532-0ac8b200f0b9",
   "metadata": {
    "execution": {
     "iopub.execute_input": "2021-11-12T18:58:03.298300Z",
     "iopub.status.busy": "2021-11-12T18:58:03.297688Z",
     "iopub.status.idle": "2021-11-12T18:58:03.299864Z",
     "shell.execute_reply": "2021-11-12T18:58:03.300354Z"
    }
   },
   "outputs": [
    {
     "name": "stdout",
     "output_type": "stream",
     "text": [
      "3\n",
      "4\n",
      "5\n"
     ]
    }
   ],
   "source": [
    "for i in range(3, 6):\n",
    "    print(i)"
   ]
  },
  {
   "cell_type": "markdown",
   "id": "ca97cc18-360c-4d44-a1a2-896cd904242d",
   "metadata": {
    "tags": [
     "exo"
    ]
   },
   "source": [
    "**Exercice** : Calculer $\\sum_{k = 5}^{20} \\sqrt{k}$  (= $\\sqrt{5} + \\sqrt{6} + ... + \\sqrt{20}$)."
   ]
  },
  {
   "cell_type": "code",
   "execution_count": 5,
   "id": "39fae656-b2eb-4d41-8447-1f4510ad8336",
   "metadata": {
    "execution": {
     "iopub.execute_input": "2021-11-12T18:58:03.305119Z",
     "iopub.status.busy": "2021-11-12T18:58:03.304617Z",
     "iopub.status.idle": "2021-11-12T18:58:03.309838Z",
     "shell.execute_reply": "2021-11-12T18:58:03.309366Z"
    },
    "tags": [
     "cor"
    ]
   },
   "outputs": [
    {
     "data": {
      "text/plain": [
       "55.519713441477826"
      ]
     },
     "execution_count": 5,
     "metadata": {},
     "output_type": "execute_result"
    }
   ],
   "source": [
    "somme_racine = 0\n",
    "for i in range(5, 21):\n",
    "    somme_racine += i**0.5\n",
    "somme_racine"
   ]
  },
  {
   "cell_type": "markdown",
   "id": "0db61e3d-dccb-4e83-bce4-a0730a262268",
   "metadata": {
    "tags": [
     "exo"
    ]
   },
   "source": [
    "**Exercice** : Écrire une fonction `fact` telle que `fact(n)` renvoie $n!$ ($n$ factorielle), c'est à dire $n\\times(n-1)\\times ... \\times 2 \\times1$."
   ]
  },
  {
   "cell_type": "code",
   "execution_count": 6,
   "id": "27896cfd-b474-4d5a-9bb3-66aa0b495d65",
   "metadata": {
    "execution": {
     "iopub.execute_input": "2021-11-12T18:58:03.316920Z",
     "iopub.status.busy": "2021-11-12T18:58:03.313833Z",
     "iopub.status.idle": "2021-11-12T18:58:03.318755Z",
     "shell.execute_reply": "2021-11-12T18:58:03.318302Z"
    },
    "tags": [
     "cor"
    ]
   },
   "outputs": [
    {
     "data": {
      "text/plain": [
       "720"
      ]
     },
     "execution_count": 6,
     "metadata": {},
     "output_type": "execute_result"
    }
   ],
   "source": [
    "def fact(n):\n",
    "    res = 1\n",
    "    for i in range(2, n+1):\n",
    "        res *= i  # pareil que res = res * i\n",
    "    return res\n",
    "\n",
    "fact(6)"
   ]
  },
  {
   "cell_type": "markdown",
   "id": "98a40cc1-01e2-4eb3-a65d-8fab32e5e788",
   "metadata": {},
   "source": [
    "Une boucle for est utile pour calculer les termes d'une suite récurrente $u_n$. Pour cela, on définie une variable `un` valant initialement $u_0$ que l'on remplace par la valeur suivante de la suite dans uen boucle `for`. Ainsi `un` prend la valeur de $u_0$, puis  $u_1$, $u_2$..."
   ]
  },
  {
   "cell_type": "markdown",
   "id": "91b98e4d-1daf-4993-9e49-92d079e76399",
   "metadata": {
    "tags": [
     "exo"
    ]
   },
   "source": [
    "**Exercice** : Calculer $u_{10}$, où $u_n$ est définie par $u_0 = 42$ et $u_{n+1} = \\sqrt{u_n} + 3u_n$."
   ]
  },
  {
   "cell_type": "code",
   "execution_count": 7,
   "id": "e836b883-e014-4061-a0af-5964bf3bba01",
   "metadata": {
    "execution": {
     "iopub.execute_input": "2021-11-12T18:58:03.323139Z",
     "iopub.status.busy": "2021-11-12T18:58:03.322623Z",
     "iopub.status.idle": "2021-11-12T18:58:03.325940Z",
     "shell.execute_reply": "2021-11-12T18:58:03.325475Z"
    },
    "tags": [
     "cor"
    ]
   },
   "outputs": [
    {
     "data": {
      "text/plain": [
       "2787204.895558157"
      ]
     },
     "execution_count": 7,
     "metadata": {},
     "output_type": "execute_result"
    }
   ],
   "source": [
    "un = 42\n",
    "for _ in range(10):\n",
    "    un = un**.5 + 3*un\n",
    "un"
   ]
  },
  {
   "cell_type": "markdown",
   "id": "ed091166-4da8-42ed-964c-ca395eb227dd",
   "metadata": {
    "tags": [
     "exo"
    ]
   },
   "source": [
    "**Exercice** Calculer $v_n$ défini par :\n",
    "$$v_0 = v_1 = 1$$\n",
    "$$v_{n + 2} = v_{n + 1} + v_{n}$$"
   ]
  },
  {
   "cell_type": "markdown",
   "id": "73d941f1-944b-4554-aefa-a22dcda73bfb",
   "metadata": {},
   "source": [
    "## for et liste\n",
    "\n",
    "Pour énumérer les éléments d'une listes, on peut parcourir ses indices :"
   ]
  },
  {
   "cell_type": "code",
   "execution_count": 8,
   "id": "5fbd68e7-18e2-4fa7-a24b-e3c312c9a897",
   "metadata": {
    "execution": {
     "iopub.execute_input": "2021-11-12T18:58:03.330403Z",
     "iopub.status.busy": "2021-11-12T18:58:03.329823Z",
     "iopub.status.idle": "2021-11-12T18:58:03.332885Z",
     "shell.execute_reply": "2021-11-12T18:58:03.332373Z"
    }
   },
   "outputs": [
    {
     "name": "stdout",
     "output_type": "stream",
     "text": [
      "2\n",
      "3\n",
      "5\n",
      "7\n",
      "11\n"
     ]
    }
   ],
   "source": [
    "L = [2, 3, 5, 7, 11]\n",
    "for i in range(len(L)):  # les indices de L vont de 0 à len(L) - 1\n",
    "    print(L[i])"
   ]
  },
  {
   "cell_type": "markdown",
   "id": "0fa2cd6e-3cdf-43d1-bd9b-942954fd54e5",
   "metadata": {},
   "source": [
    "Lorsqu'on n'a pas besoin des indices, on peut utiliser `for e in L` (attention toutefois à ne pas confondre indice et élément):"
   ]
  },
  {
   "cell_type": "code",
   "execution_count": 9,
   "id": "5f0955a9-8a4a-4a52-a85d-625df5285bbc",
   "metadata": {
    "execution": {
     "iopub.execute_input": "2021-11-12T18:58:03.338021Z",
     "iopub.status.busy": "2021-11-12T18:58:03.337011Z",
     "iopub.status.idle": "2021-11-12T18:58:03.339501Z",
     "shell.execute_reply": "2021-11-12T18:58:03.339915Z"
    }
   },
   "outputs": [
    {
     "name": "stdout",
     "output_type": "stream",
     "text": [
      "2\n",
      "3\n",
      "5\n",
      "7\n",
      "11\n"
     ]
    }
   ],
   "source": [
    "for e in L:\n",
    "    print(e)"
   ]
  },
  {
   "cell_type": "markdown",
   "id": "183cf533-3a84-4ac0-bc6c-7ed68e482c0d",
   "metadata": {
    "tags": [
     "exo"
    ]
   },
   "source": [
    "**Exercice** : Écrire une fonction pour calculer la somme des éléments d'une liste."
   ]
  },
  {
   "cell_type": "code",
   "execution_count": 10,
   "id": "7e593b30-cd35-49c2-a60d-1070ee246d0c",
   "metadata": {
    "execution": {
     "iopub.execute_input": "2021-11-12T18:58:03.342798Z",
     "iopub.status.busy": "2021-11-12T18:58:03.341990Z",
     "iopub.status.idle": "2021-11-12T18:58:03.346853Z",
     "shell.execute_reply": "2021-11-12T18:58:03.346261Z"
    },
    "tags": [
     "cor"
    ]
   },
   "outputs": [],
   "source": [
    "def somme(L):\n",
    "    res = 0\n",
    "    for e in L:\n",
    "        res += e\n",
    "    return res"
   ]
  },
  {
   "cell_type": "markdown",
   "id": "5c337a3f-25e4-484b-91c8-c5d00d3e14b1",
   "metadata": {
    "tags": [
     "exo"
    ]
   },
   "source": [
    "**Exercice** : Écrire une fonction `appartient` telle que `appartient(x, L)` renvoie `True` si `x` appartient à la liste `L`, `False` sinon."
   ]
  },
  {
   "cell_type": "code",
   "execution_count": 11,
   "id": "c3d1d1bf-315c-42ef-ac84-757ead864253",
   "metadata": {
    "execution": {
     "iopub.execute_input": "2021-11-12T18:58:03.351376Z",
     "iopub.status.busy": "2021-11-12T18:58:03.350811Z",
     "iopub.status.idle": "2021-11-12T18:58:03.354331Z",
     "shell.execute_reply": "2021-11-12T18:58:03.353836Z"
    },
    "tags": [
     "cor"
    ]
   },
   "outputs": [],
   "source": [
    "def appartient(x, L):\n",
    "    for e in L:\n",
    "        if x == e:\n",
    "            return True\n",
    "    return False"
   ]
  },
  {
   "cell_type": "markdown",
   "id": "6785aee7-7015-4026-be80-c11ce5725bc1",
   "metadata": {
    "tags": [
     "exo"
    ]
   },
   "source": [
    "**Exercice** : \n",
    "1. Écrire une fonction pour déterminer si une liste est triée par ordre croissant.\n",
    "2. En déduire une fonction pour savoir si la liste est triée par ordre décroissant. On pourra utiliser `not` pour la négation."
   ]
  },
  {
   "cell_type": "code",
   "execution_count": 12,
   "id": "7d011306-a4f2-4711-a55c-32855ee1b1a2",
   "metadata": {
    "execution": {
     "iopub.execute_input": "2021-11-12T18:58:03.359990Z",
     "iopub.status.busy": "2021-11-12T18:58:03.358803Z",
     "iopub.status.idle": "2021-11-12T18:58:03.360558Z",
     "shell.execute_reply": "2021-11-12T18:58:03.360973Z"
    },
    "tags": [
     "cor"
    ]
   },
   "outputs": [],
   "source": [
    "# <center><a href='https://mybinder.org/v2/gh/fortierq/itc-binder/main?urlpath=git-pull%3Frepo%3Dhttps%253A%252F%252Fgithub.com%252Ffortierq%252Fitc1%26urlpath%3Dlab%252Ftree%252Fitc1%252Ffiles%252F1_Python%252F3_boucles_cor.ipynb%26branch%3Dmaster'>1. <img src=https://mybinder.org/badge_logo.svg></a></center>\n",
    "def croissant(L):\n",
    "    for i in range(len(L) - 1): # ici on est obligé de parcourir les indices pour comparer 2 éléments consécutifs\n",
    "        if L[i] > L[i+1]:\n",
    "            return False\n",
    "    return True\n",
    "\n",
    "# 2.\n",
    "def decroissant(L):\n",
    "    return not croissant(L)"
   ]
  },
  {
   "cell_type": "markdown",
   "id": "2d095508-b12f-42e4-9ae7-1a5224b9fdfa",
   "metadata": {},
   "source": [
    "Par défaut, une boucle `for i in range(n)` fait augmenter `i` de un à chaque passage. Il est possible de changer ce pas :"
   ]
  },
  {
   "cell_type": "code",
   "execution_count": 13,
   "id": "3e4e2759-5ff0-457c-9c16-0151e5ed5ea9",
   "metadata": {
    "execution": {
     "iopub.execute_input": "2021-11-12T18:58:03.364871Z",
     "iopub.status.busy": "2021-11-12T18:58:03.364237Z",
     "iopub.status.idle": "2021-11-12T18:58:03.367178Z",
     "shell.execute_reply": "2021-11-12T18:58:03.366761Z"
    }
   },
   "outputs": [
    {
     "name": "stdout",
     "output_type": "stream",
     "text": [
      "0\n",
      "2\n",
      "4\n",
      "6\n",
      "8\n"
     ]
    }
   ],
   "source": [
    "for i in range(0, 10, 2):  # entier de 0 à 9 en allant de 2 en 2\n",
    "    print(i)"
   ]
  },
  {
   "cell_type": "markdown",
   "id": "08fa36be-379c-4039-9e6d-2a4ba62adeda",
   "metadata": {},
   "source": [
    "# Boucle while"
   ]
  },
  {
   "cell_type": "markdown",
   "id": "3dd7c079-957c-4582-a083-260c702f014a",
   "metadata": {},
   "source": [
    "La boucle while répète des instructions tant qu'une condition est vraie :"
   ]
  },
  {
   "cell_type": "code",
   "execution_count": 14,
   "id": "1b1eb68f-1523-4000-94f4-053b3caade0e",
   "metadata": {
    "execution": {
     "iopub.execute_input": "2021-11-12T18:58:03.371142Z",
     "iopub.status.busy": "2021-11-12T18:58:03.370625Z",
     "iopub.status.idle": "2021-11-12T18:58:03.373268Z",
     "shell.execute_reply": "2021-11-12T18:58:03.372832Z"
    }
   },
   "outputs": [
    {
     "name": "stdout",
     "output_type": "stream",
     "text": [
      "3\n",
      "2\n",
      "1\n",
      "0\n"
     ]
    }
   ],
   "source": [
    "i = 3\n",
    "while i >= 0:\n",
    "    print(i)\n",
    "    i -= 1"
   ]
  },
  {
   "cell_type": "markdown",
   "id": "dec7674c",
   "metadata": {},
   "source": [
    "**Attention** : si la condition est toujours vraie, il y a \"boucle infinie\" et il faut l'arrêter avec le bouton stop : \n",
    "<center><img src='data:image/png;base64,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' width=300></center>"
   ]
  },
  {
   "cell_type": "markdown",
   "id": "67a41c9b",
   "metadata": {},
   "source": [
    "**Attention** : si la condition est toujours vraie, il y a \"boucle infinie\" et il faut l'arrêter avec le bouton stop : \n",
    "<center><img src=img/stop.png width=300></center>"
   ]
  },
  {
   "cell_type": "markdown",
   "id": "b8e5f06b-3eee-4b71-ab40-ed59da7a181f",
   "metadata": {
    "tags": [
     "exo"
    ]
   },
   "source": [
    "**Exercice** : Définir un entier $n$ égal à 29568. Puis écrire une boucle `while` permettant de connaître la plus grande puissance de 2 divisant 29568, c'est à dire le plus grand $k$ tel que $2^k$ divise 29568.  \n",
    "```python\n",
    "n = 29568\n",
    "k = 0\n",
    "while ...:\n",
    "    ... # à compléter\n",
    "```"
   ]
  }
 ],
 "metadata": {
  "interpreter": {
   "hash": "80d9894a3b5815f7372610aa6642550cfc561afb6a89a6bb320ec4bc44e3d10c"
  },
  "kernelspec": {
   "display_name": "Python 3",
   "language": "python",
   "name": "python3"
  },
  "language_info": {
   "codemirror_mode": {
    "name": "ipython",
    "version": 3
   },
   "file_extension": ".py",
   "mimetype": "text/x-python",
   "name": "python",
   "nbconvert_exporter": "python",
   "pygments_lexer": "ipython3",
   "version": "3.9.6"
  }
 },
 "nbformat": 4,
 "nbformat_minor": 5
}
