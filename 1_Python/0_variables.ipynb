{
 "cells": [
  {
   "cell_type": "markdown",
   "id": "944c1e79",
   "metadata": {
    "id": "5bd539ce"
   },
   "source": [
    "# <center><a href='https://colab.research.google.com/github/cpge-itc/itc1/blob/main/1_Python/0_variables.ipynb'>Variables et types <img src=https://colab.research.google.com/assets/colab-badge.svg width=100></a></center>\n",
    "\n",
    "## Affectation\n",
    "\n",
    "Une variable en informatique possède 3 caractéristiques :\n",
    "- un **nom** (par exemple `a`)\n",
    "- une **valeur** (par exemple 42)\n",
    "- un **type** (par exemple `int`, entier)\n",
    "\n",
    "Par exemple, l'instruction suivante permet de définir une variable nommée `a`, de valeur 42 et de type entier :"
   ]
  },
  {
   "cell_type": "code",
   "execution_count": null,
   "id": "0e3897bb",
   "metadata": {
    "id": "46f4dfa5"
   },
   "outputs": [],
   "source": [
    "a = 42  # définition d'une variable a"
   ]
  },
  {
   "cell_type": "markdown",
   "id": "07df19ca",
   "metadata": {
    "id": "4a6ccfb5"
   },
   "source": [
    "Lorsque l'on définit une variable de cette façon, la valeur 42 est stockée dans la mémoire RAM et peut être récupérée en écrivant le nom de la variable :"
   ]
  },
  {
   "cell_type": "code",
   "execution_count": null,
   "id": "22233e22",
   "metadata": {
    "colab": {
     "base_uri": "https://localhost:8080/"
    },
    "id": "e61f2cb6",
    "outputId": "2a0c27e2-cc3e-49c4-dfca-dee8bacc03eb"
   },
   "outputs": [],
   "source": [
    "a"
   ]
  },
  {
   "cell_type": "markdown",
   "id": "9742816a",
   "metadata": {
    "id": "111ceb40"
   },
   "source": [
    "Python remplace `a` par sa valeur et donne le résultat.  \n",
    "On peut aussi modifier la valeur de `a` :"
   ]
  },
  {
   "cell_type": "code",
   "execution_count": null,
   "id": "2ca2763e",
   "metadata": {
    "id": "9cfc31ae"
   },
   "outputs": [],
   "source": [
    "a = -4  # modification de a\n",
    "a"
   ]
  },
  {
   "cell_type": "markdown",
   "id": "555dc530",
   "metadata": {
    "id": "757d3a7b"
   },
   "source": [
    "De manière générale, une affectation s'écrit sous la forme suivante :\n",
    "```python\n",
    "a = expression\n",
    "```\n",
    "**Cette affectation a pour effet de calculer la valeur de l'expression et de mettre cette valeur dans `a`.**\n",
    "\n",
    "Considérons par exemple les lignes suivantes :"
   ]
  },
  {
   "cell_type": "code",
   "execution_count": null,
   "id": "dd8f4583",
   "metadata": {
    "colab": {
     "base_uri": "https://localhost:8080/"
    },
    "id": "08972b4c",
    "outputId": "e7a9d247-843b-40e7-df78-a1a8b9a47920"
   },
   "outputs": [],
   "source": [
    "x = 2  # x est défini en prenant la valeur 2\n",
    "y = 3  # y est défini en prenant la valeur 3\n",
    "x = x + y*4  # x + y*4 est calculé et sa valeur (14) est mise dans x\n",
    "print(x)"
   ]
  },
  {
   "cell_type": "markdown",
   "id": "6d6f2dba",
   "metadata": {
    "tags": [
     "exo"
    ]
   },
   "source": [
    "**Exercice** Que valent $a$ et $b$ après avoir exécuté les lignes suivantes? Quel est l'intérêt de ce bout de code?"
   ]
  },
  {
   "cell_type": "code",
   "execution_count": null,
   "id": "e96e346e",
   "metadata": {},
   "outputs": [],
   "source": [
    "a = 7\n",
    "b = 42\n",
    "a = a + b\n",
    "b = a - b\n",
    "a = a - b"
   ]
  },
  {
   "cell_type": "code",
   "execution_count": null,
   "id": "c8ce14cd",
   "metadata": {
    "tags": [
     "cor"
    ]
   },
   "outputs": [],
   "source": [
    "a, b # a vaut 42 et b vaut 7 : le code ci-dessus échange les valeurs de a et b (mais il y a une technique plus efficace pour faire ça que nous allons voir ensuite)"
   ]
  },
  {
   "cell_type": "markdown",
   "id": "d77f0c07",
   "metadata": {
    "id": "29656743",
    "tags": []
   },
   "source": [
    "## Types de base\n",
    "\n",
    "Voici les principaux types qui vont nous intéresser en Python :\n",
    "\n",
    "| Type | Description | Exemple |\n",
    "| --- | --- | --- |\n",
    "| `int` | entier | `0`, `42`, `-7` |\n",
    "| `float` | nombre à virgule | `3.14`, `-2.718` |\n",
    "| `bool` | booléen (vrai ou faux) | `True`, `False` |\n",
    "| `tuple` | $n$-uplet | `(1, 2, 3)`, `(3.14, \"chaine\", [1, 0])` |\n",
    "| `list` | liste | `[1, 2, 3]`, `[3.14, \"chaine\", [1, 0]]` |\n",
    "| `str` | chaîne de caractères | `\"blabla\"`, `\"\"`, `\"info\"` |\n",
    "\n",
    "### Types numériques : `int`, `float`\n",
    "\n",
    "* `int` est utilisé pour les entiers (naturels : positif ou négatif).\n",
    "* `float` est utilisé pour les nombres à virgule.\n",
    "\n",
    "Python utilise en fait des points pour les nombres à virgules. Les virgules sont utilisées pour séparer des éléments, par exemple dans des `tuple` ou `list` :"
   ]
  },
  {
   "cell_type": "code",
   "execution_count": null,
   "id": "78b15a1d",
   "metadata": {
    "colab": {
     "base_uri": "https://localhost:8080/"
    },
    "id": "83f7142e",
    "outputId": "16a56c2b-7928-44d3-83fd-c68c81e121d6"
   },
   "outputs": [],
   "source": [
    "e = 2,718\n",
    "print(e)  # on a défini un couple et non pas un float !\n",
    "e = 2.718\n",
    "print(e)  # cette fois, on a bien un float"
   ]
  },
  {
   "cell_type": "markdown",
   "id": "c2070642",
   "metadata": {
    "id": "df3fd2c7"
   },
   "source": [
    "Voici les opérations que l'on peut effectuer sur les `int` et `float` :\n",
    "\n",
    "| Opérateur | Signification | Exemple |\n",
    "| --- | --- | --- |\n",
    "| `+` | addition | `2 + 3` vaut `5` |\n",
    "| `-` | soustraction | `2 - 3` vaut `-1` |\n",
    "| `*` | multiplication | `2*3` vaut `6` |\n",
    "| `**` | puissance | `2**3` vaut `8` |\n",
    "| `/` | division (dans $\\mathbb{Q}$) | `5/2` vaut `2.5` |\n",
    "| `//` | division **entière** (**quotient** de la division euclidienne) | `5//2` vaut `2`  |\n",
    "| `%` | modulo (**reste** de la division euclidienne) | `5%2` vaut `1`  |"
   ]
  },
  {
   "cell_type": "markdown",
   "id": "bc1a94c3-9e65-48d2-911d-0992b9112261",
   "metadata": {},
   "source": [
    "Une racine peut être calculée avec `**`. Par exemple, $\\sqrt{2} = 2^{\\frac{1}{2}}$ :"
   ]
  },
  {
   "cell_type": "code",
   "execution_count": null,
   "id": "694812f9",
   "metadata": {
    "id": "ea5988f9"
   },
   "outputs": [],
   "source": [
    "2**0.5"
   ]
  },
  {
   "cell_type": "markdown",
   "id": "b1eb9090",
   "metadata": {
    "id": "b95fa959",
    "tags": [
     "exo"
    ]
   },
   "source": [
    "**Exercice** : stocker dans une variable `nombre_or` la valeur (approximative) du nombre d'or $\\phi = \\frac{1 + \\sqrt{5}}{2}$\n"
   ]
  },
  {
   "cell_type": "code",
   "execution_count": null,
   "id": "8534d032",
   "metadata": {
    "colab": {
     "base_uri": "https://localhost:8080/",
     "height": 178
    },
    "id": "e645338c",
    "outputId": "70ac2fba-695d-48b8-a04c-9ac93f86227a",
    "tags": [
     "cor"
    ]
   },
   "outputs": [],
   "source": [
    "nombre_or = (1 + 5**0.5)/2\n",
    "nombre_or"
   ]
  },
  {
   "cell_type": "markdown",
   "id": "291b3a3d-a5a7-4bda-b444-c03a5f4ad98f",
   "metadata": {},
   "source": [
    "On rappelle que la [division euclidienne](https://fr.wikipedia.org/wiki/Division_euclidienne) de $a$ par $b$ consiste à décomposer $a = bq + r$ avec $q$ le quotient (obtenu par `a // b` en Python) et $r$ le reste (obtenu par `a % b`)."
   ]
  },
  {
   "cell_type": "markdown",
   "id": "5c918175-b0e4-4a6a-9327-be830dc3dbaf",
   "metadata": {
    "tags": [
     "exo"
    ]
   },
   "source": [
    "**Exercice** : Calculer le quotient $q$ et le reste $r$ de la division euclidienne de 573 par 18. Vérifier que $573 = 18\\times q + r$."
   ]
  },
  {
   "cell_type": "code",
   "execution_count": 1,
   "id": "0f6661e3-f5c1-466b-8760-1c18aef3e23b",
   "metadata": {
    "tags": [
     "cor"
    ]
   },
   "outputs": [
    {
     "name": "stdout",
     "output_type": "stream",
     "text": [
      "31 15\n"
     ]
    },
    {
     "data": {
      "text/plain": [
       "True"
      ]
     },
     "execution_count": 1,
     "metadata": {},
     "output_type": "execute_result"
    }
   ],
   "source": [
    "q = 573 // 18\n",
    "r = 573 % 18\n",
    "print(q, r)\n",
    "\n",
    "573 == 18*q + r"
   ]
  },
  {
   "cell_type": "markdown",
   "id": "8d9ba4bc-d659-46b1-864b-f31681432247",
   "metadata": {},
   "source": [
    "`%` permet aussi de tester la divisibilité : \n",
    "$$b \\text{ divise } a$$\n",
    "$$\\Longleftrightarrow \\exists d, a = b\\times d$$\n",
    "$$\\Longleftrightarrow \\exists d, a = b\\times d + 0$$\n",
    "$$\\Longleftrightarrow \\text{le reste de la division de } a \\text{ par } b \\text{ est } 0$$\n",
    "$$\\Longleftrightarrow a \\% b == 0$$"
   ]
  },
  {
   "cell_type": "markdown",
   "id": "f467c059-840d-41b8-a1c7-15a13695120d",
   "metadata": {
    "tags": [
     "exo"
    ]
   },
   "source": [
    "**Exercice** : Est-ce que $86082823925$ est divisible par $179723$?"
   ]
  },
  {
   "cell_type": "code",
   "execution_count": 9,
   "id": "4adb90bf-6101-4429-8d9a-2ece40402707",
   "metadata": {
    "tags": [
     "cor"
    ]
   },
   "outputs": [
    {
     "data": {
      "text/plain": [
       "0"
      ]
     },
     "execution_count": 9,
     "metadata": {},
     "output_type": "execute_result"
    }
   ],
   "source": [
    "86082823925 % 179723  # le reste est 0 donc la réponse est oui "
   ]
  },
  {
   "cell_type": "markdown",
   "id": "1fb13beb",
   "metadata": {
    "id": "e02ddf3b"
   },
   "source": [
    "On peut comparer des `int`/`float` avec les opérateurs suivants :  \n",
    "\n",
    "| Symbole | Signification | Exemple |\n",
    "| --- | --- | --- |\n",
    "| `==` | égal | `0 == 0` vaut `True`, `0 == 1` vaut `False` |\n",
    "| `<` | inférieur strictement | `1 < 2` vaut `True`, `3.14 < 3.14` vaut `False` |\n",
    "| `>` | supérieur strictement | `1 > 2` vaut `False`, `3.14 > 3.14` vaut `False` |\n",
    "| `<=` | inférieur ou égal | `1 <= 2` vaut `True`, `3.14 <= 3.14` vaut `True` |\n",
    "| `>=` | supérieur ou égal | `1 >= 2` vaut `False`, `3.14 >= 3.14` vaut `True` |\n",
    "| `!=` | différent | `1 != 2` vaut `True`, `0 != 1` vaut `True` |\n",
    "\n",
    "**Attention** : ne pas confondre `a = b`, qui permet de mettre la valeur de `b` dans `a`, et `a == b` qui permet de tester si `a` et `b` ont la même valeur.  \n",
    "\n",
    "Il est possible d'utiliser plusieurs `<` à la suite :"
   ]
  },
  {
   "cell_type": "code",
   "execution_count": null,
   "id": "b9d6400f",
   "metadata": {},
   "outputs": [],
   "source": [
    "1 < 2 < 3"
   ]
  },
  {
   "cell_type": "markdown",
   "id": "c096e11c",
   "metadata": {
    "tags": [
     "exo"
    ]
   },
   "source": [
    "**Exercice** : Vérifier que le nombre d'or est compris entre 1 et 2."
   ]
  },
  {
   "cell_type": "code",
   "execution_count": null,
   "id": "f2be744b",
   "metadata": {
    "colab": {
     "base_uri": "https://localhost:8080/"
    },
    "id": "46a326bc",
    "outputId": "441a2c8d-814a-4bd1-a845-86271bd1620c",
    "tags": [
     "cor"
    ]
   },
   "outputs": [],
   "source": [
    "1 < (1 + 5**0.5)/2 < 2"
   ]
  },
  {
   "cell_type": "markdown",
   "id": "07f2d9f0",
   "metadata": {
    "id": "0GxkjEykx0ou"
   },
   "source": [
    "### Calcul approché des flottants\n",
    "\n",
    "À cause de la représentation binaire des données sur un ordinateur, les flottants sont stockés de façon approchée et non pas exact. Par exemple `0.1 + 0.2` ne donne pas exactement `0.3` :"
   ]
  },
  {
   "cell_type": "code",
   "execution_count": null,
   "id": "22ac542a",
   "metadata": {
    "colab": {
     "base_uri": "https://localhost:8080/"
    },
    "id": "6LErgmRFyzUj",
    "outputId": "41852847-7763-4017-ad3b-d05087392eda"
   },
   "outputs": [],
   "source": [
    "0.1 + 0.2  # ne vaut pas 0.3"
   ]
  },
  {
   "cell_type": "code",
   "execution_count": null,
   "id": "545bdf45",
   "metadata": {
    "id": "2ydfxnw4y7Ef"
   },
   "outputs": [],
   "source": [
    "0.1 + 0.2 == 0.3  # donne False !"
   ]
  },
  {
   "cell_type": "markdown",
   "id": "da517767",
   "metadata": {
    "id": "dd77xQaozFgt"
   },
   "source": [
    "On retiendra qu'il faut éviter de comparer deux flottants avec `==` (regarder si la différence est inférieure à 0.01 par exemple) et que les calculs sur les flottants se font avec des erreurs.  \n",
    "Par contre les calculs sur les entiers se font de façon exacte."
   ]
  },
  {
   "cell_type": "markdown",
   "id": "b5beb274-7dac-43c6-957d-d311974398cb",
   "metadata": {
    "id": "e114c39d",
    "tags": []
   },
   "source": [
    "### Booléens\n",
    "\n",
    "Un booléen est soit vrai (`True`) soit faux (`False`). On peut utiliser les opérations booléennes suivantes :\n",
    "\n",
    "| Opérateur | Signification | Exemple |\n",
    "| --- | --- | --- |\n",
    "| `or` | ou | `0 == 0 or 3.14 == 3` vaut `True` |\n",
    "| `and` | et | `0 == 0 and 3.14 == 3` vaut `False` |\n",
    "| `not` | négation | `not 0 < 1` vaut `False` |"
   ]
  },
  {
   "cell_type": "markdown",
   "id": "7389a8c2-bdec-4526-b3ce-91b97a19e2db",
   "metadata": {
    "id": "e114c39d",
    "tags": [
     "exo"
    ]
   },
   "source": [
    "**Exercice** : calculer de tête la valeur de l'expression suivante et vérifier avec Python.\n",
    "```python\n",
    "not (1 <= 1 and (1 == 2 or 0 != 1))\n",
    "```"
   ]
  },
  {
   "cell_type": "code",
   "execution_count": null,
   "id": "9c78a33d",
   "metadata": {
    "tags": [
     "cor"
    ]
   },
   "outputs": [],
   "source": [
    "not (1 <= 1 and (1 == 2 or 0 != 1))"
   ]
  },
  {
   "cell_type": "markdown",
   "id": "cb11089a",
   "metadata": {
    "id": "39797cf1"
   },
   "source": [
    "### Listes\n",
    "\n",
    "Une liste sert à stocker plusieurs éléments. Par exemple, pour définir une liste contenant l'entier 1, le booléen `True` et le flottant `3.14` :"
   ]
  },
  {
   "cell_type": "code",
   "execution_count": null,
   "id": "ba7908c6",
   "metadata": {
    "colab": {
     "base_uri": "https://localhost:8080/"
    },
    "id": "59a96c3b",
    "outputId": "eba4af7a-8bec-4510-b698-599392c7ff2a",
    "tags": []
   },
   "outputs": [],
   "source": [
    "L = [1, True, 3.14]  # L est une liste contenant 1, True et 3.14\n",
    "L"
   ]
  },
  {
   "cell_type": "markdown",
   "id": "bb989960",
   "metadata": {
    "id": "5ab7034b"
   },
   "source": [
    "| Python | Signification | Exemple |\n",
    "|---|---|---|\n",
    "| `[..., ..., ...]` | Création d'une liste | `[1, True, 3.14]` <br> `[]` (liste vide) |\n",
    "| `len(L)` | Taille d'une liste `L` | `len([1, True, 3.14])` vaut 3 |\n",
    "| `L[i]` | Élement d'indice `i` d'une liste `L` | Si `L` vaut `[1, True, 3.14]`, <br>`L[2]` vaut `3.14` |\n",
    "| `L.append(e)` | Ajoute un élément `e` à une liste `L` | `L.append(42)` |\n",
    "\n",
    "**Attention** : les indices commencent toujours à 0 en informatique. Le dernier indice d'une liste `L` est `len(L) - 1`.\n",
    "\n",
    "`L[-1]` est un raccourci permettant d'accéder au dernier élément d'une liste. De même, `L[-2]` accède à l'avant dernier élément...\n",
    "\n",
    "Essayer d'accéder à un élément qui n'existe pas produit une erreur :"
   ]
  },
  {
   "cell_type": "code",
   "execution_count": null,
   "id": "12ee3f95",
   "metadata": {
    "colab": {
     "base_uri": "https://localhost:8080/",
     "height": 212
    },
    "id": "d1f0463f",
    "outputId": "3ba6fb3d-fe13-448c-8778-7c3d7a74fd10",
    "tags": [
     "hide-output"
    ]
   },
   "outputs": [],
   "source": [
    "L = [3, 2, 4]\n",
    "print(L[1])  # donne 2\n",
    "print(L[3])  # ERREUR"
   ]
  },
  {
   "cell_type": "markdown",
   "id": "deaf827e",
   "metadata": {
    "id": "510f2d71"
   },
   "source": [
    "L'opération de **slicing** `L[i:j]` permet d'extraire une sous liste de `L` contenant les éléments de l'indice `i` inclu à `j` **exclu** :"
   ]
  },
  {
   "cell_type": "code",
   "execution_count": null,
   "id": "eb15dc61",
   "metadata": {
    "colab": {
     "base_uri": "https://localhost:8080/"
    },
    "id": "cfd2bd1b",
    "outputId": "dff1b3c4-d5f3-4b32-8928-dd05e45d675a"
   },
   "outputs": [],
   "source": [
    "L = [-3, 0, 42, 7, 5]\n",
    "L[1:3]  # extrait une nouvelle liste contenant L[1] et L[2]"
   ]
  },
  {
   "cell_type": "markdown",
   "id": "60885025",
   "metadata": {
    "id": "3e4915c0"
   },
   "source": [
    "Dans un slicing, il est possible d'ommettre l'indice de début (auquel cas la liste ext extraite à partir du début) ou l'indice de fin (auquel cas la liste ext extraite jusqu'à la fin)."
   ]
  },
  {
   "cell_type": "code",
   "execution_count": null,
   "id": "27e6d571",
   "metadata": {
    "colab": {
     "base_uri": "https://localhost:8080/"
    },
    "id": "1fdcbfc5",
    "outputId": "b1337f9f-415b-4536-a190-e4ac98a799ce"
   },
   "outputs": [],
   "source": [
    "print(L[:3])  # sous-liste du 1er au 3ème élément\n",
    "print(L[-2:])  # sous-liste de l'avant-dernier au dernier élément"
   ]
  },
  {
   "cell_type": "markdown",
   "id": "3cc1650a",
   "metadata": {
    "id": "5720998a"
   },
   "source": [
    "### Chaînes de caractères\n",
    "\n",
    "Les chaînes de caractères (string en anglais) servent à stocker du texte, sous forme d'une suite de caractères (symboles). Contrairement aux listes, il n'est pas possible de modifier une chaîne de caractères (on dit que c'est un type immutable)). Par exemple, il n'y a pas de `append` sur les chaîne de caractères."
   ]
  },
  {
   "cell_type": "code",
   "execution_count": null,
   "id": "896bd631",
   "metadata": {
    "colab": {
     "base_uri": "https://localhost:8080/",
     "height": 246
    },
    "id": "795daef3",
    "outputId": "68d2ddc3-0940-41fe-aa5b-97f7d0126222",
    "tags": [
     "hide-output"
    ]
   },
   "outputs": [],
   "source": [
    "s = \"l'informatique c'est fun\"  # définition d'une chaîne de caractères\n",
    "print(len(s))  # taille de s\n",
    "print(s[2])  # caractère d'indice 2 (c'est à dire en 3ème position)\n",
    "s[0] = \"L\"  # ERREUR : on ne peut pas modifier un str\n",
    "s.append(\"!\")  # ERREUR : on ne peut pas modifier un str"
   ]
  },
  {
   "cell_type": "markdown",
   "id": "ed6f3bba",
   "metadata": {
    "id": "e9a46a7b"
   },
   "source": [
    "### Tuples\n",
    "\n",
    "Les tuples (ou $n$-uplets) sont la généralisation des couples, triplets... Ils ressemblent beaucoup aux chaînes de caractères (en particulier, ils sont immutables) mais servent à stocker autre chose que du texte."
   ]
  },
  {
   "cell_type": "code",
   "execution_count": null,
   "id": "74cd8ed1",
   "metadata": {
    "colab": {
     "base_uri": "https://localhost:8080/",
     "height": 246
    },
    "id": "54bf420a",
    "outputId": "9db04783-c3d3-428c-e6dc-bef5fd4ddb4c",
    "tags": [
     "hide-output"
    ]
   },
   "outputs": [],
   "source": [
    "t = (2, 3, 4, 5)\n",
    "print(t[1])  # donne 3\n",
    "print(len(t))  # donne 4\n",
    "t[1] = 6  # ERREUR : on ne peut pas modifier un tuple\n",
    "t.append(6)  # ERREUR : on ne peut pas modifier un tuple"
   ]
  }
 ],
 "metadata": {
  "kernelspec": {
   "display_name": "Python 3",
   "language": "python",
   "name": "python3"
  },
  "language_info": {
   "codemirror_mode": {
    "name": "ipython",
    "version": 3
   },
   "file_extension": ".py",
   "mimetype": "text/x-python",
   "name": "python",
   "nbconvert_exporter": "python",
   "pygments_lexer": "ipython3",
   "version": "3.8.10"
  }
 },
 "nbformat": 4,
 "nbformat_minor": 5
}
