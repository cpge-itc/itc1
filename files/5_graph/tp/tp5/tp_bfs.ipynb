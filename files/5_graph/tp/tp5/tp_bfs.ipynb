{
 "cells": [
  {
   "cell_type": "markdown",
   "metadata": {},
   "source": [
    "# TP : Parcours en largeur"
   ]
  },
  {
   "cell_type": "markdown",
   "metadata": {},
   "source": [
    "## File\n",
    "\n",
    "On rappelle l'utilisation d'une file en Python, avec la classe `deque` :"
   ]
  },
  {
   "cell_type": "code",
   "execution_count": 1,
   "metadata": {},
   "outputs": [
    {
     "data": {
      "text/plain": [
       "7"
      ]
     },
     "execution_count": 1,
     "metadata": {},
     "output_type": "execute_result"
    }
   ],
   "source": [
    "from collections import deque\n",
    "\n",
    "q = deque() # file vide\n",
    "q.appendleft(4) # ajoute 4 au début\n",
    "q.appendleft(7)\n",
    "q.pop() # supprime et renvoie le dernier élément (4)\n",
    "q.appendleft(-5)\n",
    "q.pop() # supprime et renvoie le dernier élément (7)"
   ]
  },
  {
   "cell_type": "markdown",
   "metadata": {
    "tags": [
     "exo"
    ]
   },
   "source": [
    "**Exercice** : Deviner ce que renvoie la dernière instruction du code suivant, puis vérifier.\n",
    "\n",
    "```python\n",
    "q = deque()\n",
    "q.appendleft(2)\n",
    "q.appendleft(3)\n",
    "q.pop()\n",
    "q.appendleft(5)\n",
    "q.appendleft(7)\n",
    "q.pop()\n",
    "q.pop()\n",
    "q.appendleft(11)\n",
    "q.pop()\n",
    "q.appendleft(13)\n",
    "q.pop()\n",
    "```"
   ]
  },
  {
   "cell_type": "markdown",
   "metadata": {},
   "source": [
    "## Implémentation du parcours en largeur"
   ]
  },
  {
   "cell_type": "markdown",
   "metadata": {},
   "source": [
    "\n",
    "Voici un graphe `G_ex` représenté par liste d'adjacence que vous pourrez utiliser dans ce TP pour tester vos fonctions (vous pouvez réexecuter cette case pour générer un nouveau graphe aléatoire) :"
   ]
  },
  {
   "cell_type": "code",
   "execution_count": 1,
   "metadata": {},
   "outputs": [
    {
     "data": {
      "image/png": "[encoded data removed]",
      "text/plain": [
       "<Figure size 432x288 with 1 Axes>"
      ]
     },
     "metadata": {},
     "output_type": "display_data"
    }
   ],
   "source": [
    "import networkx as nx\n",
    "\n",
    "options = {\"font_size\": 20, \"node_size\": 700, \"edgecolors\": \"black\"}\n",
    "G_ex = nx.fast_gnp_random_graph(10, 0.35)\n",
    "nx.draw(G_ex, with_labels= True, node_color= \"white\", **options)"
   ]
  },
  {
   "cell_type": "markdown",
   "metadata": {
    "tags": [
     "exo"
    ]
   },
   "source": [
    "**Exercice** : Écrire une fonction `bfs(G, s)` affichant les sommets du graphe `G` lors d'un parcours en largeur depuis le sommet `s`. Vérifier sur le graphe `G_ex` précédent.  \n",
    "*Indice* : Essayer de compléter le code ci-dessous. Ne regarder le cours que si vous ne voyez pas du tout comment faire."
   ]
  },
  {
   "cell_type": "code",
   "execution_count": null,
   "metadata": {},
   "outputs": [],
   "source": [
    "from collections import deque\n",
    "\n",
    "def bfs(G, s):\n",
    "    # définir une file q contenant s\n",
    "    # définir une liste visited contenant n False, où n est le nombre de sommets\n",
    "    # tant que q est non vide\n",
    "        # extraire le dernier élément de q dans une variable u\n",
    "        # si u n'a pas été visité:\n",
    "            # afficher u\n",
    "            # mettre True dans visited[u]\n",
    "            # pour chaque voisin v de u\n",
    "                # ajouter v au début de q "
   ]
  },
  {
   "cell_type": "markdown",
   "metadata": {},
   "source": [
    "## Calcul de distance"
   ]
  },
  {
   "cell_type": "markdown",
   "metadata": {
    "tags": [
     "exo"
    ]
   },
   "source": [
    "**Exercice** : Écrire une fonction `distances(G, s)` qui renvoie une liste `dist` telle que `dist[v]` soit la distance (en nombre d'arêtes) du sommet `s` au sommet `v`. Vérifier sur le graphe `G_ex` précédent.  \n",
    "*Indice* : Définir une liste `dist` avec que des `-1` initialement. Stocker des couples (sommet, distance) dans la file `q`. À chaque fois qu'un couple `(u, d)` est retiré, mettre `d` dans `dist[u]` et ajouter `(v, d + 1)` à la file `q`, pour tout voisin `v` de `u`."
   ]
  },
  {
   "cell_type": "markdown",
   "metadata": {},
   "source": [
    "## Plus court chemin dans une matrice 0 - 1\n",
    "\n",
    "Résoudre [ce problème sur LeetCode (site de programmation)](https://leetcode.com/problems/shortest-path-in-binary-matrix).  \n",
    "Vous devez vous inscrire, sélectionner \"Python\" comme langage et écrire le code puis vérifier directement sur ce site."
   ]
  },
  {
   "cell_type": "markdown",
   "metadata": {},
   "source": [
    "## Calcul de plus court chemin"
   ]
  },
  {
   "cell_type": "markdown",
   "metadata": {
    "tags": [
     "exo"
    ]
   },
   "source": [
    "**Exercice** : Écrire une fonction `predecessors(G, s)` qui effectue un BFS sur `G` en partant de `s` et qui renvoie une liste `pred` telle que `pred[v]` soit le sommet prédécesseur de `v` dans le parcours en largeur."
   ]
  },
  {
   "cell_type": "markdown",
   "metadata": {
    "tags": [
     "exo"
    ]
   },
   "source": [
    "**Exercice** : En déduire une fonction `shortest_path(G, s, t)` qui renvoie une liste correspondant aux sommets d'un plus court chemin de `s` à `t` dans `G`."
   ]
  }
 ],
 "metadata": {
  "celltoolbar": "Tags",
  "interpreter": {
   "hash": "949777d72b0d2535278d3dc13498b2535136f6dfe0678499012e853ee9abcab1"
  },
  "kernelspec": {
   "display_name": "Python 3 (ipykernel)",
   "language": "python",
   "name": "python3"
  },
  "language_info": {
   "codemirror_mode": {
    "name": "ipython",
    "version": 3
   },
   "file_extension": ".py",
   "mimetype": "text/x-python",
   "name": "python",
   "nbconvert_exporter": "python",
   "pygments_lexer": "ipython3",
   "version": "3.10.4"
  }
 },
 "nbformat": 4,
 "nbformat_minor": 4
}
