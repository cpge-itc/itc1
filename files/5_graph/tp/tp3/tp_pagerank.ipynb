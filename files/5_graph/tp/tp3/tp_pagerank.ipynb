{
 "cells": [
  {
   "cell_type": "markdown",
   "metadata": {},
   "source": [
    "# <center><a href='https://notebook.basthon.fr/?from=https://raw.githubusercontent.com/fortierq/itc1/master/files/5_graph/tp/tp3/tp_pagerank.ipynb'>TP Graphe 3 : algorithme PageRank de Google <img src=https://framagit.org/uploads/-/system/project/avatar/55763/basthon_shadow.png width=100></a></center>\n",
    "\n",
    "> Pour savoir dans quel ordre afficher les résultats d'une recherche, Google utilise l'algorithme PageRank. Celui-ci consiste à faire une marche aléatoire sur le graphe du Web, dont les sommets sont les pages Internet et les arêtes sont les liens URL d'une page à une autre.\n",
    "\n",
    "<center><img src=https://github.com/fortierq/itc1/blob/master/files/5_graph/tp/tp3/pagerank.png?raw=true width=650></center>\n",
    "\n",
    "## Graphes aléatoires\n",
    "\n",
    "Pour pouvoir tester notre algorithme, nous allons commencer par générer des graphes aléatoirement. Pour cela, on utilisera `random.random()` qui renvoie un réel choisi uniformément au hasard entre $0$ et $1$ :"
   ]
  },
  {
   "cell_type": "code",
   "execution_count": 1,
   "metadata": {},
   "outputs": [
    {
     "data": {
      "text/plain": [
       "0.10483878084511566"
      ]
     },
     "execution_count": 1,
     "metadata": {},
     "output_type": "execute_result"
    }
   ],
   "source": [
    "import random\n",
    "\n",
    "random.random()"
   ]
  },
  {
   "cell_type": "markdown",
   "metadata": {
    "tags": [
     "exo"
    ]
   },
   "source": [
    "**Exercice** : Écrire une fonction `bernouilli` telle que, si `p` est un `float` entre $0$ et $1$, `bernouilli(p)` renvoie $1$ avec probabilité `p`, $0$ sinon.  \n",
    "Indice : On pourra commencer avec `p` = $\\frac{1}{2}$ (même probabilité d'obtenir un $1$ et un $0$)."
   ]
  },
  {
   "cell_type": "markdown",
   "metadata": {
    "tags": [
     "exo"
    ]
   },
   "source": [
    "**Exercice** : Écrire une fonction `random_graph(n, p)` qui renvoie un graphe orienté représenté par liste d'adjacence, avec `n` sommets et une probabilité `p` d'avoir une arête entre deux sommets."
   ]
  },
  {
   "cell_type": "markdown",
   "metadata": {},
   "source": [
    "Pour afficher le graphe obtenu, on pourra utiliser la fonction suivante :"
   ]
  },
  {
   "cell_type": "code",
   "execution_count": 14,
   "metadata": {},
   "outputs": [],
   "source": [
    "import networkx as nx\n",
    "import matplotlib.pyplot as plt\n",
    "\n",
    "plt.rcParams[\"figure.figsize\"] = (15,8)\n",
    "def draw_graph(G):\n",
    "    plt.clf()\n",
    "    G_ = nx.DiGraph()\n",
    "    for i in range(len(G)):\n",
    "        for j in G[i]:\n",
    "            G_.add_edge(i, j)\n",
    "    nx.draw_networkx(G_, font_color =\"w\", node_color=\"black\", node_size=600, arrowsize=35, font_size=16)\n",
    "    plt.show()"
   ]
  },
  {
   "cell_type": "markdown",
   "metadata": {
    "tags": [
     "exo"
    ]
   },
   "source": [
    "**Exercice** : Écrire une fonction `number_edges` pour calculer le nombre d'arêtes d'un graphe orienté représenté par liste d'adjacence."
   ]
  },
  {
   "cell_type": "markdown",
   "metadata": {
    "tags": [
     "exo"
    ]
   },
   "source": [
    "**Exercice** : En utilisant `number_edges` sur des graphes aléatoires, estimer le nombre moyen d'arêtes d'un graphe aléatoire obtenu par `random_graph(n, p)`, en fonction de `n` et de `p`.  \n",
    "Retrouver ce résultats mathématiquement."
   ]
  },
  {
   "cell_type": "markdown",
   "metadata": {},
   "source": [
    "## PageRank\n",
    "\n",
    "On considère un graphe où les sommets (numérotés à partir de $0$) représentent des pages Internet, et les arêtes représentent les liens URL d'une page à une autre. Pour classer les pages Web par ordre d'importance, l'algorithme PageRank effectue une marche aléatoire en se déplaçant à chaque fois vers un voisin pris au hasard. Plus la fréquence de passage sur un sommet est haute, plus la page Web correspondante se retrouvera en haut des résultats de recherche Google."
   ]
  },
  {
   "cell_type": "markdown",
   "metadata": {
    "tags": [
     "exo"
    ]
   },
   "source": [
    "**Exercice** : Écrire une fonction `step(G, u)` renvoyant un voisin de `u` choisi aléatoirement dans le graphe `G` représenté par liste d'adjacence.  \n",
    "**Remarque** : Pour tester cette fonction, il faut que `u` possède au moins un voisin... Essayer donc avec un `random_graph(n, p)` avec `p` au moins égal à $0.3$, ou essayez plusieurs fois."
   ]
  },
  {
   "cell_type": "markdown",
   "metadata": {
    "tags": [
     "exo"
    ]
   },
   "source": [
    "**Exercice** : Écrire une fonction `pagerank(G, k)` qui part du sommet $0$ et effectue `k` déplacements au hasard (en utilisant `step`).  \n",
    "Cette fonction doit renvoyer une liste `count` donnant le nombre de passages dans chaque sommet : `count[i]` doit être le nombre de passages sur le sommet `i`."
   ]
  },
  {
   "cell_type": "markdown",
   "metadata": {
    "tags": [
     "exo"
    ]
   },
   "source": [
    "**Exercice** : Écrire une fonction `add_index` telle que `add_index(L)` renvoie une liste `L2` de même taille que `L` telle que `L2[i]` contienne le couple `(L[i], i)`."
   ]
  },
  {
   "cell_type": "markdown",
   "metadata": {
    "tags": [
     "exo"
    ]
   },
   "source": [
    "**Exercice** : En déduire une fonction `rank` ayant en argument la liste `count` renvoyée par `pagerank` et qui renvoie la liste des sommets par valeur de `count` décroissante.  \n",
    "Pour cela, on utilisera `L.sort(reverse=True)` qui trie une liste `L` en ordre décroissant, et le fait que l'on puisse trier une liste de couples (auquel cas la liste est triée suivant le premier élément de chaque couple)"
   ]
  },
  {
   "cell_type": "markdown",
   "metadata": {
    "tags": [
     "exo"
    ]
   },
   "source": [
    "**Exercice** : Vérifier sur des graphes aléatoires que la liste renvoyée par `rank` a l'air correcte, en affichant le graphe avec la fonction suivante, où la taille d'un sommet est proportionnelle à son rang."
   ]
  },
  {
   "cell_type": "code",
   "execution_count": 74,
   "metadata": {
    "tags": []
   },
   "outputs": [],
   "source": [
    "def draw_count(G, rank):\n",
    "    G_ = nx.DiGraph()\n",
    "    G_.add_nodes_from(range(len(G)))\n",
    "    for i in range(len(G)):\n",
    "        for j in G[i]:\n",
    "            G_.add_edge(i, j)\n",
    "    r = [0]*len(rank)\n",
    "    for i, e in enumerate(rank):\n",
    "        r[e] = i + 1\n",
    "    max_size = 5000\n",
    "    a = (max_size - 500)/(1 - len(rank))\n",
    "    node_sizes= [int(r[i]*a + max_size - a) for i in range(len(r))]\n",
    "    nx.draw_networkx(G_, font_color =\"w\", node_color=\"black\", node_size=node_sizes, arrowsize=35, font_size=16)\n",
    "    plt.show()"
   ]
  }
 ],
 "metadata": {
  "interpreter": {
   "hash": "31f2aee4e71d21fbe5cf8b01ff0e069b9275f58929596ceb00d14d90e3e16cd6"
  },
  "kernelspec": {
   "display_name": "Python 3",
   "language": "python",
   "name": "python3"
  },
  "language_info": {
   "codemirror_mode": {
    "name": "ipython",
    "version": 3
   },
   "file_extension": ".py",
   "mimetype": "text/x-python",
   "name": "python",
   "nbconvert_exporter": "python",
   "pygments_lexer": "ipython3",
   "version": "3.9.7"
  }
 },
 "nbformat": 4,
 "nbformat_minor": 4
}
