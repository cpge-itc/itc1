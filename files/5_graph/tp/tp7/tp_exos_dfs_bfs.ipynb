{
 "cells": [
  {
   "cell_type": "markdown",
   "metadata": {},
   "source": [
    "# Exercices DFS et BFS\n",
    "\n",
    "Les exercices à faire sont sur [LeetCode](https://leetcode.com).  \n",
    "Vous devez d'abord vous inscrire (Sign In). Vous pouvez pour cela vous connecter via Gmail, Github ou Facebook.\n",
    "\n",
    "Si besoin, on pourra revoir et s'inspirer de l'algorithme de BFS (parcours en largeur) vu en cours."
   ]
  },
  {
   "cell_type": "markdown",
   "metadata": {
    "tags": [
     "exo"
    ]
   },
   "source": [
    "**Exercice** : [**Plus court chemin dans une matrice 0 - 1**](https://leetcode.com/problems/shortest-path-in-binary-matrix)  \n",
    "Vous devez changer le langage pour choisir Python3 au lieu de C++. Vous devez remplir le code de la fonction à droite (ici `shortestPathBinaryMatrix`).  \n",
    "Puis lisez l'énoncé à gauche.  \n",
    "Ici on vous donne une matrice (dont les éléments sont $0$ ou $1$), qui correspond à l'argument `grid` de la fonction `shortestPathBinaryMatrix`.  \n",
    "On vous demande de renvoyer le nombre minimum de cases de la matrice qu'il faut parcourir pour aller de la case en haut à gauche à la case en bas à droite.  \n",
    "Les exemples (en bas à gauche) peuvent aider à mieux comprendre :\n",
    "```python\n",
    "Input: grid = [[0,1],[1,0]]\n",
    "Output: 2\n",
    "```\n",
    "Signifie que si votre fonction `shortestPathBinaryMatrix` est appelé avec `grid = [[0,1],[1,0]]`, il faut que votre fonction renvoie $2$.\n",
    "\n",
    "Pour tester votre code, cliquer sur Run Code en bas à droite. Quand les tests marchent, vous pouvez cliquer sur Submit.  \n",
    "\n",
    "Pour vous aider, vous pouvez compléter le code suivant :"
   ]
  },
  {
   "cell_type": "code",
   "execution_count": null,
   "metadata": {},
   "outputs": [],
   "source": [
    "from collections import deque\n",
    "\n",
    "class Solution:\n",
    "    def shortestPathBinaryMatrix(self, grid) -> int:\n",
    "        q = deque([(0, 0, 1)]) \n",
    "        # on met dans q des triplets (i, j, d) où (i, j) est une case de grid\n",
    "        # et d est sa distance à la case en haut à gauche\n",
    "        while q:\n",
    "            i, j, d = q.popleft() # on parcourt la case ligne i, colonne j\n",
    "            if ...: # tester si la grille vaut 0 en (i, j)\n",
    "                if ...: # tester si (i, j) est en fait la case en bas à droite (l'arrivée)\n",
    "                    return d\n",
    "                \n",
    "                # parcours des voisins de (i, j)\n",
    "                for k in [-1, 0, 1]:\n",
    "                    for l in [-1, 0, 1]:\n",
    "                        # tester si (i + k, j + l) est une case de la grille (ne dépasse pas)\n",
    "                        # si oui, on ajoute (i + k, j + l, d + 1) dans q\n",
    "                        # et on marque (i + k, j + l) comme visité (en mettant 1 dans grid, par exemple)\n",
    "        return -1 # si on ne trouve pas de chemin, on renvoie -1"
   ]
  },
  {
   "cell_type": "code",
   "execution_count": null,
   "metadata": {
    "tags": [
     "cor"
    ]
   },
   "outputs": [],
   "source": [
    "from collections import deque\n",
    "\n",
    "class Solution:\n",
    "    def shortestPathBinaryMatrix(self, grid) -> int:\n",
    "        q = deque([(0, 0, 1)]) \n",
    "        # on met dans q des triplets (i, j, d) où (i, j) est une case de grid\n",
    "        # et d est sa distance à la case en haut à gauche\n",
    "        n = len(grid)\n",
    "        while q:\n",
    "            i, j, d = q.popleft()\n",
    "            if grid[i][j] == 0:\n",
    "                if (i, j) == (n - 1, n - 1): # on a trouvé l'arrivée\n",
    "                    return d\n",
    "                for k in [-1, 0, 1]:\n",
    "                    for l in [-1, 0, 1]:\n",
    "                        if 0 <= i + k < n and 0 <= j + l < n:\n",
    "                            q.append((i + k, j + l, d + 1))\n",
    "                            grid[i][j] = 1\n",
    "        return -1\n"
   ]
  },
  {
   "cell_type": "markdown",
   "metadata": {
    "tags": [
     "exo"
    ]
   },
   "source": [
    "**Exercice** : [Nombre d'îles](https://leetcode.com/problems/number-of-islands)  \n",
    "Il s'agit de trouver le nombre de composante connexes d'un graphe (avec DFS ou BFS).  \n",
    "Pour vous aider, vous pouvez compléter le code suivant :"
   ]
  },
  {
   "cell_type": "code",
   "execution_count": 3,
   "metadata": {},
   "outputs": [],
   "source": [
    "class Solution:\n",
    "    def numIslands(self, grid) -> int:\n",
    "        n, p = ... # dimensions de la matrice\n",
    "        visited = ... # création d'une matrice n*p remplie de False\n",
    "        def dfs(i, j): # fait un parcourir en profondeur depuis la case (i, j)\n",
    "            # marquer (i, j) comme étant visité\n",
    "            for (k, l) in [(i - 1, j), (i + 1, j), (i, j - 1), (i, j + 1)]:\n",
    "                # pour tous les voisins possibles de (i, j)\n",
    "                if ...: # si (k, l) ne sort pas de la matrice, est de la terre et n'a pas été visité\n",
    "                    dfs(k, l) # visiter (k, l)\n",
    "        # appeler dfs(i, j) pour chaque case non encore visité et contenant de la terre\n",
    "        # renvoyer le nombre d' appels à dfs"
   ]
  },
  {
   "cell_type": "code",
   "execution_count": 5,
   "metadata": {
    "tags": [
     "cor"
    ]
   },
   "outputs": [],
   "source": [
    "class Solution:\n",
    "    def numIslands(self, grid) -> int:\n",
    "        n, p = len(grid), len(grid[0])\n",
    "        visited = [[False]*p for _ in range(n)]\n",
    "        def dfs(i, j):\n",
    "            visited[i][j] = True\n",
    "            for (k, l) in [(i - 1, j), (i + 1, j), (i, j - 1), (i, j + 1)]:\n",
    "                if 0 <= k < n and 0 <= l < p and not visited[k][l] and grid[k][l] == \"1\":\n",
    "                    dfs(k, l)\n",
    "        r = 0\n",
    "        for i in range(n):\n",
    "            for j in range(p):\n",
    "                if not visited[i][j] and grid[i][j] == \"1\":\n",
    "                    dfs(i, j)\n",
    "                    r += 1\n",
    "        return r"
   ]
  },
  {
   "cell_type": "markdown",
   "metadata": {
    "tags": [
     "exo"
    ]
   },
   "source": [
    "**Exercice** : [Carrés parfaits](https://leetcode.com/problems/perfect-squares)\n",
    "\n",
    "Vous pouvez utiliser un BFS où les sommets sont des entiers et où il y a une arête d'un entier $n$ à un entier $p$ si $n - p$ est un carré parfait.  \n",
    "Il faut alors chercher la distance de $n$ à $0$.  \n",
    "Remarque : Il n'est pas nécessaire de construire le graphe en entier. On ne calcule les voisins d'un entier qu'au moment où on en a besoin."
   ]
  }
 ],
 "metadata": {
  "celltoolbar": "Tags",
  "interpreter": {
   "hash": "949777d72b0d2535278d3dc13498b2535136f6dfe0678499012e853ee9abcab1"
  },
  "kernelspec": {
   "display_name": "Python 3 (ipykernel)",
   "language": "python",
   "name": "python3"
  },
  "language_info": {
   "codemirror_mode": {
    "name": "ipython",
    "version": 3
   },
   "file_extension": ".py",
   "mimetype": "text/x-python",
   "name": "python",
   "nbconvert_exporter": "python",
   "pygments_lexer": "ipython3",
   "version": "3.10.4"
  }
 },
 "nbformat": 4,
 "nbformat_minor": 2
}
