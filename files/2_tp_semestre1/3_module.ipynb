{
 "cells": [
  {
   "cell_type": "markdown",
   "metadata": {},
   "source": [
    "# <center><a href='https://colab.research.google.com/github/cpge-itc/itc1/blob/main/files/2_tp_semestre1/3_module.ipynb'>TP 3 : Modules et packages en Python <img src=https://colab.research.google.com/assets/colab-badge.svg width=100></a></center>\n",
    "\n",
    "Un module est un fichier Python qui contient des définitions de fonctions et variables, réunies autour d'un même thème. Un package réunit plusieurs modules.  \n",
    "Une des forces de Python et son grand nombre de modules disponibles, et notamment dans les domaines scientifiques.  \n",
    "Par exemple, `math` est un module qui existe déjà lorsque vous installez Python et qui permet d'utiliser des fonctions mathématiques. Pour pouvoir l'utiliser, il faut l'importer :"
   ]
  },
  {
   "cell_type": "code",
   "execution_count": 7,
   "metadata": {},
   "outputs": [],
   "source": [
    "import math"
   ]
  },
  {
   "cell_type": "markdown",
   "metadata": {},
   "source": [
    "Ensuite, on peut utiliser les fonctions de `math` en les préfixant par `math` (ce qui sert à distinguer une fonction de `math` avec une fonction de l'utilisateur qui aurait le même nom) :"
   ]
  },
  {
   "cell_type": "code",
   "execution_count": 5,
   "metadata": {},
   "outputs": [
    {
     "data": {
      "text/plain": [
       "2.718281828459045"
      ]
     },
     "execution_count": 5,
     "metadata": {},
     "output_type": "execute_result"
    }
   ],
   "source": [
    "math.exp(1)  # fonction exponentielle"
   ]
  },
  {
   "cell_type": "markdown",
   "metadata": {},
   "source": [
    "## SciPy\n",
    "\n",
    "[SciPy](https://docs.scipy.org/doc/scipy/reference/index.html) est un package Python pour les mathématiques et la science. Il possède plusieurs sous-modules intéressants.  \n",
    "\n",
    "### Intégration"
   ]
  },
  {
   "cell_type": "markdown",
   "metadata": {},
   "source": [
    "`scipy.integrate` permet d'intégrer des fonctions. "
   ]
  },
  {
   "cell_type": "code",
   "execution_count": 2,
   "metadata": {},
   "outputs": [
    {
     "data": {
      "text/plain": [
       "(1.5, 1.6653345369377348e-14)"
      ]
     },
     "execution_count": 2,
     "metadata": {},
     "output_type": "execute_result"
    }
   ],
   "source": [
    "from scipy import integrate\n",
    "\n",
    "def f(x): # la fonction qu'on va intégrer\n",
    "    return x\n",
    "\n",
    "integrate.quad(f, 1, 2)"
   ]
  },
  {
   "cell_type": "markdown",
   "metadata": {},
   "source": [
    "`scipy.integrate.quad(f, a, b)` donne la valeur de $\\int_a^b f(x) dx$, avec une estimation de l'erreur sur le résultat.  \n",
    "Ainsi, sur l'exemple ci-dessus, on apprend que $\\int_1^2 xdx = 1.5 ~(= \\frac{3}{2})$"
   ]
  },
  {
   "cell_type": "markdown",
   "metadata": {
    "tags": [
     "exo"
    ]
   },
   "source": [
    "**Exercice** : Calculer avec SciPy la valeur de $\\int_1^2 \\frac{1}{x}dx$ et retrouver le résultat en utilisant `math.ln`."
   ]
  },
  {
   "cell_type": "code",
   "execution_count": 3,
   "metadata": {
    "tags": [
     "cor"
    ]
   },
   "outputs": [
    {
     "name": "stdout",
     "output_type": "stream",
     "text": [
      "(0.6931471805599454, 7.695479593116622e-15)\n"
     ]
    },
    {
     "ename": "NameError",
     "evalue": "name 'math' is not defined",
     "output_type": "error",
     "traceback": [
      "\u001b[0;31m---------------------------------------------------------------------------\u001b[0m",
      "\u001b[0;31mNameError\u001b[0m                                 Traceback (most recent call last)",
      "\u001b[0;32m<ipython-input-3-14d72a1a305b>\u001b[0m in \u001b[0;36m<module>\u001b[0;34m\u001b[0m\n\u001b[1;32m      3\u001b[0m \u001b[0;34m\u001b[0m\u001b[0m\n\u001b[1;32m      4\u001b[0m \u001b[0mprint\u001b[0m\u001b[0;34m(\u001b[0m\u001b[0mintegrate\u001b[0m\u001b[0;34m.\u001b[0m\u001b[0mquad\u001b[0m\u001b[0;34m(\u001b[0m\u001b[0mf\u001b[0m\u001b[0;34m,\u001b[0m \u001b[0;36m1\u001b[0m\u001b[0;34m,\u001b[0m \u001b[0;36m2\u001b[0m\u001b[0;34m)\u001b[0m\u001b[0;34m)\u001b[0m\u001b[0;34m\u001b[0m\u001b[0;34m\u001b[0m\u001b[0m\n\u001b[0;32m----> 5\u001b[0;31m \u001b[0mmath\u001b[0m\u001b[0;34m.\u001b[0m\u001b[0mlog\u001b[0m\u001b[0;34m(\u001b[0m\u001b[0;36m2\u001b[0m\u001b[0;34m)\u001b[0m\u001b[0;34m\u001b[0m\u001b[0;34m\u001b[0m\u001b[0m\n\u001b[0m",
      "\u001b[0;31mNameError\u001b[0m: name 'math' is not defined"
     ]
    }
   ],
   "source": [
    "def f(x):\n",
    "    return 1/x\n",
    "\n",
    "print(integrate.quad(f, 1, 2))\n",
    "math.log(2)"
   ]
  },
  {
   "cell_type": "markdown",
   "metadata": {},
   "source": [
    "### Statistiques\n",
    "\n",
    "`scipy.stats` permet d'utiliser des fonctions statistiques. Par exemple, la loi normale :  "
   ]
  },
  {
   "cell_type": "code",
   "execution_count": 7,
   "metadata": {},
   "outputs": [
    {
     "data": {
      "text/plain": [
       "(array(0.), array(1.))"
      ]
     },
     "execution_count": 7,
     "metadata": {},
     "output_type": "execute_result"
    }
   ],
   "source": [
    "from scipy import stats\n",
    "\n",
    "gaussienne = stats.norm()\n",
    "gaussienne.stats()  # renvoie moyenne et variance"
   ]
  },
  {
   "cell_type": "markdown",
   "metadata": {},
   "source": [
    "<center><img src=https://upload.wikimedia.org/wikipedia/commons/thumb/0/01/Gauss_reduite.svg/1280px-Gauss_reduite.svg.png width=400></center>"
   ]
  },
  {
   "cell_type": "markdown",
   "metadata": {
    "tags": [
     "exo"
    ]
   },
   "source": [
    "**Exercice** : Réécrire des fonctions `moyenne` et `variance` pour calculer la moyenne et la variance d'une liste de nombres."
   ]
  },
  {
   "cell_type": "markdown",
   "metadata": {},
   "source": [
    "## SymPy\n",
    "\n",
    "On étudie dans cette partie le module `sympy`, qui permet de faire du calcul formel.  "
   ]
  },
  {
   "cell_type": "markdown",
   "metadata": {
    "tags": [
     "exo"
    ]
   },
   "source": [
    "1. Importer `sympy`.\n",
    "2. Écrire `from sympy.abc import x, y`. Ceci permet ensuite d'utiliser `x` et `y` comme variables indéterminées."
   ]
  },
  {
   "cell_type": "markdown",
   "metadata": {
    "tags": []
   },
   "source": [
    "### Manipulations simples"
   ]
  },
  {
   "cell_type": "markdown",
   "metadata": {
    "tags": [
     "exo"
    ]
   },
   "source": [
    "1. `expand` permet de développer une expression. Essayer avec `expand((x+y)**5)`.  \n",
    "2. `expand` permet aussi de développer une expression trigonométrique en utilisant l'option `trig = True`. Essayer avec `expand(cos(2*x), trig = True)` et vérifier la réponse mathématiquement (les fonctions classiques `cos`, `sin`, `tan`, `ln`, `exp`... sont définies dans `sympy`).  \n",
    "3. Retrouver aussi les formules pour $\\cos(x+y)$ et $\\sin(x+y)$.\n",
    "4. `factor` permet de factoriser une expression. Factoriser $x^3 - x^2 + x - 1$ à la main en trouvant une racine évidente, puis vérifier en écrivant `factor(x**3 - x**2 + x - 1)`.\n",
    "5. `simplify` permet de simplifier une expression, par exemple en mettant au même dénominateur. Essayer avec `simplify(5*x/(2*x**3) + 4/(3*x))` et vérifier la réponse."
   ]
  },
  {
   "cell_type": "markdown",
   "metadata": {},
   "source": [
    "### Limites, dérivées"
   ]
  },
  {
   "cell_type": "markdown",
   "metadata": {
    "tags": [
     "exo"
    ]
   },
   "source": [
    "1. `limit` permet de calculer une limite. Par exemple, `limit(sin(x)/x, x, 0)` calcule $\\lim_{x\\longrightarrow0} \\frac{\\sin(x)}{x}$. Essayer et vérifier le résultat mathématiquement.  \n",
    "2. Calculer $\\lim_{x\\longrightarrow0} x^x$ mathématiquement et vérifier avec Python.  \n",
    "3. $\\infty$ est représenté par `oo` avec `sympy`. Calculer $\\lim_{x\\longrightarrow\\infty} \\frac{x}{\\ln(x)}$ avec Python.  \n",
    "4. `diff` permet de calculer la dérivée d'une expression. Essayer par exemple `diff(cos(x), x)`.  \n",
    "5. Les fonctions $\\arccos$, $\\arcsin$... existent dans `sympy` sous les noms `acos`, `asin`. Retrouver les dérivées de $\\arccos$ et $\\arcsin$ avec Python.  \n",
    "6. Calculer la dérivée de $x \\longmapsto \\arctan(x) + \\arctan(\\frac{1}{x})$ avec Python (on pourra utiliser `simplify` pour simplifier la dérivée obtenue) et en déduire que $\\forall x > 0$, $\\arctan(x) + \\arctan(\\frac{1}{x}) = \\frac{\\pi}{2}$.  \n",
    "7. `integrate` permet de trouver une primitive d'une expression. Essayer par exemple `integrate(1/x, x)`.  \n",
    "8. Trouver une primitive de $\\ln$, de $\\frac{1}{x\\ln(x)}$, de $x \\exp(x)$.  \n",
    "9. On peut aussi calculer une intégrale avec `integrate`, en précisant les bornes. Par exemple, $\\int_{-1}^1 x^2 \\sin(x)dx$ se calcule en écrivant `integrate(x**2 * sin(x), (x, -1, 1))`. Essayer puis expliquer comment on aurait pu trouver immédiatement ce résultat.\n",
    "10. Calculer $\\int_{-\\infty}^{\\infty} e^{-x^2} dx$ (intégrale de Gauss).  "
   ]
  },
  {
   "cell_type": "markdown",
   "metadata": {},
   "source": [
    "### Résolution d'équations"
   ]
  },
  {
   "cell_type": "markdown",
   "metadata": {
    "tags": [
     "exo"
    ]
   },
   "source": [
    "1. On peut résoudre une équation du type $f(x) = 0$ en écrivant `solve(f(x), x)`, qui renvoie la liste des solutions. Par exemple, on peut écrire `solve(x**2 - x - 1, x)` pour résoudre $x^2 - x - 1 = 0$. Essayer et retrouver le résultat mathématiquement.  \n",
    "2. On peut aussi résoudre des systèmes d'équations linéaires à plusieurs inconnues. Par exemple, \\\\`solve([x + 5*y - 2, -3*x + 6*y - 15], [x, y])` permet de résoudre le système:\n",
    "$$x + 5y - 2 = 0$$\n",
    "$$-3x + 6y - 15 = 0$$\n",
    "Vérifier à la main la solution renvoyée par Python."
   ]
  },
  {
   "cell_type": "markdown",
   "metadata": {},
   "source": [
    "### Séries\n",
    "\n",
    "`series` permet de trouver le developpement limité d'une fonction. Par exemple, `series(cos(x), x, 0, 8)` donne le développement limité en 0 de $\\cos$, à l'ordre 8. "
   ]
  },
  {
   "cell_type": "markdown",
   "metadata": {
    "tags": [
     "exo"
    ]
   },
   "source": [
    "1. Retrouver les développements limités en 0 usuels: $\\ln(1+x)$, $\\sqrt{1+x}$, $\\tan(x)$...\n",
    "2. `apart` permet de développer une fraction en éléments simples. Essayer `apart(1/(x*(x+1)))` et vérifier le résultat."
   ]
  },
  {
   "cell_type": "markdown",
   "metadata": {
    "tags": [
     "hide"
    ]
   },
   "source": [
    "## `matplotlib`\n",
    "\n",
    "Par exemple, `matplotlib` est un package pour réaliser des affichages graphiques. J'ai déjà installé `matplotlib` sur Binder et Jupyterlite, mais, si vous avez un autre éditeur (Pyzo par exemple), il faut l'installer en écrivant, dans le shell :  \n",
    "```bash\n",
    "pip install matplotlib\n",
    "```\n",
    "`pip` est le gestionnaire de packages officiel de Python.  \n",
    "Ensuite, vous pouvez utiliser `matplotlib` :"
   ],
   "transient": {
    "remove_source": true
   }
  },
  {
   "cell_type": "markdown",
   "metadata": {
    "tags": [
     "hide"
    ]
   },
   "source": [
    "Un"
   ],
   "transient": {
    "remove_source": true
   }
  }
 ],
 "metadata": {
  "interpreter": {
   "hash": "31f2aee4e71d21fbe5cf8b01ff0e069b9275f58929596ceb00d14d90e3e16cd6"
  },
  "kernelspec": {
   "display_name": "Python 3",
   "language": "python",
   "name": "python3"
  },
  "language_info": {
   "codemirror_mode": {
    "name": "ipython",
    "version": 3
   },
   "file_extension": ".py",
   "mimetype": "text/x-python",
   "name": "python",
   "nbconvert_exporter": "python",
   "pygments_lexer": "ipython3",
   "version": "3.8.10"
  }
 },
 "nbformat": 4,
 "nbformat_minor": 4
}
