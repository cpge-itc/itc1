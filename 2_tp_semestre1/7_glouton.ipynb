{
 "cells": [
  {
   "cell_type": "markdown",
   "metadata": {},
   "source": [
    "# <center><a href='https://colab.research.google.com/github/cpge-itc/itc1/blob/main/2_tp_semestre1/7_glouton.ipynb'>TP 7 : Algorithmes gloutons <img src=https://colab.research.google.com/assets/colab-badge.svg width=100></a></center>"
   ]
  },
  {
   "cell_type": "markdown",
   "metadata": {},
   "source": [
    "Voici plusieurs méthodes algorithmiques très utilisés en informatique :  \n",
    "- Algorithmes gloutons  \n",
    "- Programmation dynamique  \n",
    "- Diviser pour régner\n",
    "- ...\n",
    "\n",
    "Dans ce TP, on s'intéresse aux **algorithmes gloutons**, qui s'utilisent souvent sur des problèmes d'optimisation (où on cherche à maximiser quelque chose avec des contraintes). \n",
    "> Un algorithme est glouton lorsqu'il effectue, à chaque étape, le choix qui semble le meilleur à ce moment-là et qui ne revient jamais sur sa décision.\n",
    "\n",
    "La notion d'algorithme glouton est donc assez vague : nous allons l'illustrer avec quelques exemples."
   ]
  },
  {
   "cell_type": "markdown",
   "metadata": {},
   "source": [
    "## Petits exercices de rappel\n",
    "\n",
    "Cette partie est seulement pour les élèves en difficulté. Les autres peuvent la passer."
   ]
  },
  {
   "cell_type": "markdown",
   "metadata": {
    "tags": [
     "exo"
    ]
   },
   "source": [
    "**Exercice** : Écrire une fonction pour calculer la somme des éléments d'une liste."
   ]
  },
  {
   "cell_type": "code",
   "execution_count": 1,
   "metadata": {
    "tags": [
     "cor"
    ]
   },
   "outputs": [],
   "source": [
    "def somme(L):\n",
    "    s = 0\n",
    "    for i in L:\n",
    "        s += i\n",
    "    return s"
   ]
  },
  {
   "cell_type": "markdown",
   "metadata": {
    "tags": [
     "exo"
    ]
   },
   "source": [
    "**Exercice** : Écrire une fonction pour déterminer si une liste est triée dans l'ordre croissant."
   ]
  },
  {
   "cell_type": "code",
   "execution_count": 2,
   "metadata": {
    "tags": [
     "cor"
    ]
   },
   "outputs": [],
   "source": [
    "def croissant(L):\n",
    "    for i in range(len(L)-1):\n",
    "        if L[i] > L[i+1]:\n",
    "            return False\n",
    "    return True"
   ]
  },
  {
   "cell_type": "markdown",
   "metadata": {},
   "source": [
    "## Rendu de monnaie\n",
    "\n",
    "On suppose avoir des pièces de valeur $p_1$, ..., $p_n$ et on veut rendre la monnaie sur $c$ euros, avec le nombre minimum de pièces. Chaque pièce est disponible en quantité infinie.  \n",
    "Par exemple, si on a des pièces de valeur 1, 2, 4, alors on a plusieurs possibilités pour rendre $c = 6$€ : $4 + 2$, $4 + 1 + 1$, $2 + 2 + 2$... La meilleure solution est $4 + 2$, puisqu'elle utilise le nombre minimum de pièces.  \n",
    "On s'intéresse à l'algorithme glouton qui consiste à rendre utiliser la plus grande pièce à chaque fois.  \n",
    "Par exemple, pour rendre $9$€ avec des pièces de $1$, $2$ et $4$ :\n",
    "1. On rend une pièce de $4$€, il reste $5$€ à rendre.  \n",
    "2. On rend une pièce de $4$€, il reste $1$€.  \n",
    "3. On ne peut pas rendre $4$€ (qui est supérieur à $1$).\n",
    "4. On ne peut pas rendre $2$€ (qui est supérieur à $1$).\n",
    "5. On rend $1$€, il reste $0$€ et on a terminé (en utilisant $3$ pièces)."
   ]
  },
  {
   "cell_type": "markdown",
   "metadata": {
    "tags": [
     "exo"
    ]
   },
   "source": [
    "**Exercice** : Écrire une fonction `rendre_monnaie(c, pieces)` qui rend une liste des pièces obtenues avec l'algorithme glouton pour rendre la valeur $c$ avec des pièces dans la liste `pieces`.  \n",
    "Par exemple, `rendre_monnaie(6, [1, 2, 4])` doit renvoyer `[4, 2]` et `rendre_monnaie(5, [1, 3, 7])` doit renvoyer `[3, 1, 1]`.  \n",
    "On pourra s'inspirer du code suivant :\n",
    "```python\n",
    "def rendre_monnaie(c, pieces):\n",
    "    pieces.sort(key=lambda x: -x) # tri par ordre décroissant\n",
    "    rendu = [] # liste des pièces utilisées par l'algo. glouton\n",
    "    for ...: # parcours de la liste pieces\n",
    "        ... # à compléter\n",
    "    return rendu\n",
    "```"
   ]
  },
  {
   "cell_type": "code",
   "execution_count": 26,
   "metadata": {
    "tags": [
     "cor"
    ]
   },
   "outputs": [
    {
     "data": {
      "text/plain": [
       "[3, 1, 1]"
      ]
     },
     "execution_count": 26,
     "metadata": {},
     "output_type": "execute_result"
    }
   ],
   "source": [
    "def rendre_monnaie(c, pieces):\n",
    "    pieces.sort(key=lambda x: -x)\n",
    "    rendu = []\n",
    "    for p in pieces:\n",
    "        while p <= c:\n",
    "            rendu.append(p)\n",
    "            c -= p\n",
    "    return rendu\n",
    "\n",
    "rendre_monnaie(5, [1, 3, 7])"
   ]
  },
  {
   "cell_type": "markdown",
   "metadata": {
    "tags": [
     "exo"
    ]
   },
   "source": [
    "**Exercice** : Trouver un exemple simple dans lequel l'algorithme glouton n'est pas optimal.  \n",
    "Il faut donc trouver des valeurs de pièces $p_1$, ..., $p_n$ et de $c$ tel que le nombre de pièces utilisées par l'algorithme glouton n'est pas le minimum possible."
   ]
  },
  {
   "cell_type": "markdown",
   "metadata": {
    "tags": [
     "cor"
    ]
   },
   "source": [
    "On considère des pièces $1, 3, 4$ et $c = 6$. Alors l'algorithme glouton va rendre $4 + 1 + 1$ alors que l'optimum est $4 + 2$. "
   ]
  },
  {
   "cell_type": "markdown",
   "metadata": {},
   "source": [
    "**Remarque** : Un système de monnaie est dit canonique si cet algorithme glouton est optimal. La quasi-totalité des monnaies utilisées dans le monde sont canoniques."
   ]
  },
  {
   "cell_type": "markdown",
   "metadata": {},
   "source": [
    "## Allocation de salles pour des cours\n",
    "\n",
    "Dans ce problème, on doit construire un emploi du temps. Il faut assigner une salle à chaque cours de façon à ne pas avoir 2 cours qui se déroulent dans la même salle au même moment.\n",
    "\n",
    "En Python, chaque cours sera un couple $(d, f)$ avec $d$ l'heure de début et $f$ de fin et une salle sera un entier. On rappelle que si `c` est un couple, on accède à son premier élément avec `c[0]` et aux deuxième avec `c[1]`."
   ]
  },
  {
   "cell_type": "markdown",
   "metadata": {
    "tags": [
     "exo"
    ]
   },
   "source": [
    "**Exercice** : Écrire une fonction `intersecte` pour déterminer si deux cours se chevauchent.  \n",
    "Par exemple, `intersecte((1, 3), (2, 4))` doit renvoyer `True` mais `intersecte((1, 2), (3, 5))` doit renvoyer `False`."
   ]
  },
  {
   "cell_type": "code",
   "execution_count": 8,
   "metadata": {
    "tags": [
     "cor"
    ]
   },
   "outputs": [],
   "source": [
    "def intersecte(c1, c2):\n",
    "    return (c1[0] <= c2[0] and c1[1] >= c2[0]) or (c2[0] <= c1[0] and c2[1] >= c1[0])\n",
    "\n",
    "assert intersecte((1, 3), (2, 4)) and not intersecte((1, 2), (3, 5))"
   ]
  },
  {
   "cell_type": "markdown",
   "metadata": {},
   "source": [
    "\n",
    "Voici un exemple de cours (où il y a un cours de $9$h à $11$h, un cours de $12$h à $15$h...) :\n",
    "<center><img src=https://github.com/fortierq/tikz/blob/master/graph/coloring/interval/interval.png?raw=true width=300></center>\n",
    "\n",
    "Voici un exemple d'assignement :\n",
    "<center><img src=https://github.com/fortierq/tikz/blob/master/graph/coloring/interval/interval_ex.png?raw=true width=300></center>\n",
    "\n",
    "Chaque couleur correspond à une salle : il y a donc $6$ salles en tout."
   ]
  },
  {
   "cell_type": "markdown",
   "metadata": {
    "tags": [
     "exo"
    ]
   },
   "source": [
    "**Exercice** : Trouver une solution avec $4$ classes seulement (c'est l'optimum)."
   ]
  },
  {
   "cell_type": "markdown",
   "metadata": {},
   "source": [
    "\n",
    "On s'intéresse à un algorithme glouton qui consiste à :  \n",
    "1. Trier les cours par ordre de début croissant\n",
    "2. Pour chaque cours $c$ : utiliser pour $c$ une salle déjà existante si possible, et utiliser une nouvelle salle sinon.\n",
    "\n",
    "Ainsi, sur l'exemple ci-dessus, on considère les cours dans l'ordre $2, 0, 4, 7, 5, 9, 6, 8, 3$ (si $2$ cours commencent en même temps, on les prends dans un ordre quelconque). On commence donc d'abord par le cours $2$, qu'on assigne à la salle $0$, puis on considère le cours $0$ qu'on assigne à la salle $1$ (car le cours $0$ intersecte le cours $1$ donc on ne peut pas les mettre dans la même salle)...\n",
    "\n",
    "**Remarque** : On pourrait montrer que cet algorithme glouton renvoie l'optimum."
   ]
  },
  {
   "cell_type": "markdown",
   "metadata": {
    "tags": [
     "exo"
    ]
   },
   "source": [
    "**Exercice** : Écrire une fonction `intersecte_list` telle que, si `c` est un cours et `L` est une liste de cours, `intersecte_list(c, L)` renvoie `True` si `c` chevauche un des cours de `L`.  \n",
    "Par exemple, `intersecte_list((1, 3), [(2, 5), (4, 6)])` renvoie `True` mais `intersecte_list((1, 3), [(4, 6), (5, 7)])` renvoie `False`."
   ]
  },
  {
   "cell_type": "code",
   "execution_count": 9,
   "metadata": {
    "tags": [
     "cor"
    ]
   },
   "outputs": [],
   "source": [
    "def intersecte_list(c, L):\n",
    "    for cours in L:\n",
    "        if intersecte(c, cours):\n",
    "            return True\n",
    "    return False\n",
    "\n",
    "assert intersecte_list((1, 3), [(2, 5), (4, 6)]) and not intersecte_list((1, 3), [(4, 6), (5, 7)])"
   ]
  },
  {
   "cell_type": "markdown",
   "metadata": {},
   "source": [
    "Pour stocker les assignations de salle à chaque cours, on utilisera une liste `salles` telle que, si `i` est un numéro de salle, `salles[i]` est une liste contenant les cours qui se déroulent dans la salle `i`.  \n",
    "Par exemple, dans l'exemple de la figure ci-dessus, si `0` correspond à la salle jaune, `salles[0]` est égale à `[(9, 11), (12, 15)]`."
   ]
  },
  {
   "cell_type": "markdown",
   "metadata": {
    "tags": [
     "exo"
    ]
   },
   "source": [
    "**Exercice** : Écrire une fonction `choisir_salle` telle que, si `c` est un cours, `choisir_salle(c, salles)` renvoie une salle disponible pour `c`, ou `-1` si aucune salle n'est disponible.  \n",
    "Par exemple, `choisir_salle((7, 10), [[(9, 11)], [(12, 15)]])` doit renvoyer `1` mais `choisir_salle((7, 10), [[(8, 10)], [(9, 12)]])` doit renvoyer `-1`."
   ]
  },
  {
   "cell_type": "code",
   "execution_count": 10,
   "metadata": {
    "tags": [
     "cor"
    ]
   },
   "outputs": [],
   "source": [
    "def choisir_salle(c, salles):\n",
    "    for s in range(len(salles)):\n",
    "        if not intersecte_list(c, salles[s]):\n",
    "            return s\n",
    "    return -1\n",
    "\n",
    "assert choisir_salle((7, 10), [[(9, 11)], [(12, 15)]]) == 1\n",
    "assert choisir_salle((7, 10), [[(8, 10)], [(9, 12)]]) == -1"
   ]
  },
  {
   "cell_type": "markdown",
   "metadata": {
    "tags": [
     "exo"
    ]
   },
   "source": [
    "**Exercice** : Écrire une fonction `allocation_salles(cours)` qui renvoie une liste des salles utilisées par les cours de la liste `cours` en appliquant l'algorithme glouton.  \n",
    "On pourra compléter le code suivant :  "
   ]
  },
  {
   "cell_type": "code",
   "execution_count": 11,
   "metadata": {},
   "outputs": [
    {
     "ename": "SyntaxError",
     "evalue": "invalid syntax (<ipython-input-11-e933b66f0ca1>, line 6)",
     "output_type": "error",
     "traceback": [
      "\u001b[0;36m  File \u001b[0;32m\"<ipython-input-11-e933b66f0ca1>\"\u001b[0;36m, line \u001b[0;32m6\u001b[0m\n\u001b[0;31m    if ... # si on peut mettre le cours c en salle s\u001b[0m\n\u001b[0m           ^\u001b[0m\n\u001b[0;31mSyntaxError\u001b[0m\u001b[0;31m:\u001b[0m invalid syntax\n"
     ]
    }
   ],
   "source": [
    "def allocation_salles(cours):\n",
    "    cours.sort(key=lambda c: c[0]) # trie les cours par ordre de début croissant\n",
    "    salles = []\n",
    "    for c in cours: # parcours de la liste cours\n",
    "        for s in range(len(salles)): # teste si on peut mettre le cours c en salle s\n",
    "            if ... # si on peut mettre le cours c en salle s\n",
    "                salles[s].append(c) # on ajoute le cours c à la liste des cours de la salle s\n",
    "                break # on sort de la boucle for\n",
    "    \n",
    "    return salles"
   ]
  },
  {
   "cell_type": "code",
   "execution_count": 12,
   "metadata": {
    "tags": [
     "cor"
    ]
   },
   "outputs": [
    {
     "data": {
      "text/plain": [
       "[[(8, 11), (12, 14)], [(9, 10), (11, 15)]]"
      ]
     },
     "execution_count": 12,
     "metadata": {},
     "output_type": "execute_result"
    }
   ],
   "source": [
    "def allocation_salles(cours):\n",
    "    cours.sort(key=lambda c: c[0]) # trie les cours par ordre de début croissant\n",
    "    salles = []\n",
    "    for c in cours: # parcours de la liste cours\n",
    "        s = choisir_salle(c, salles)\n",
    "        if s == -1:\n",
    "            salles.append([c])\n",
    "        else:\n",
    "            salles[s].append(c)\n",
    "    return salles\n",
    "\n",
    "allocation_salles([(8, 11), (9, 10), (12, 14), (11, 15)])"
   ]
  },
  {
   "cell_type": "markdown",
   "metadata": {},
   "source": [
    "## Sélection d'activités (*Interval scheduling*)\n",
    "\n",
    "Dans ce problème, on considère un ensemble d'intervalles (des activités) et on veut en sélectionner le plus possible sans avoir aucune intersection entre les intervalles.  \n",
    "Par exemple, si on utilise les mêmes intervalles que pour l'exercice précédent, on peut choisir au plus $4$ intervalles de temps qui ne se chevauchent pas ($7, 5, 1, 3$ par exemple) :\n",
    "<center><img src=https://github.com/fortierq/tikz/blob/master/graph/coloring/interval/interval.png?raw=true width=300></center>\n"
   ]
  },
  {
   "cell_type": "markdown",
   "metadata": {},
   "source": [
    "On admet que l'algorithme glouton suivant est optimal :  \n",
    "1. Trier les intervalles par ordre de **fin croissante** (sur l'exemple ci-dessus, on considère les intervalles dans l'ordre $7, 0, 5, 2, 4, 1, 9, 6, 3, 8$)  \n",
    "2. On considère chaque itervalle dans cet ordre et on le sélectionne s'il n'intersecte pas les autres intervalles déjà choisis.  \n",
    "\n",
    "**Remarque** : À nouveau, on peut montrer que cet algorithme glouton est optimal."
   ]
  },
  {
   "cell_type": "markdown",
   "metadata": {
    "tags": [
     "exo"
    ]
   },
   "source": [
    "**Exercice** : Écrire cet algorithme glouton en Python."
   ]
  }
 ],
 "metadata": {
  "interpreter": {
   "hash": "31f2aee4e71d21fbe5cf8b01ff0e069b9275f58929596ceb00d14d90e3e16cd6"
  },
  "kernelspec": {
   "display_name": "Python 3",
   "language": "python",
   "name": "python3"
  },
  "language_info": {
   "codemirror_mode": {
    "name": "ipython",
    "version": 3
   },
   "file_extension": ".py",
   "mimetype": "text/x-python",
   "name": "python",
   "nbconvert_exporter": "python",
   "pygments_lexer": "ipython3",
   "version": "3.8.10"
  }
 },
 "nbformat": 4,
 "nbformat_minor": 4
}
