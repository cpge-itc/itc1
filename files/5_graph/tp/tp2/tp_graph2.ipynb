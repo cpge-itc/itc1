{
 "cells": [
  {
   "cell_type": "markdown",
   "metadata": {},
   "source": [
    "# <center><a href='https://notebook.basthon.fr/?from=https://raw.githubusercontent.com/fortierq/itc1/master/files/5_graph/tp/tp2/tp_graph2.ipynb'>TP Graphe 2 : Représentation par matrice d'adjacence <img src=https://framagit.org/uploads/-/system/project/avatar/55763/basthon_shadow.png width=100></a></center>\n",
    "\n",
    "\n",
    "Si nécessaire, [revoir le cours sur les graphes](https://fortierq.github.io/itc1/files/5_graph/1_definition/1_graph) et notamment les notions de sommet, arête, voisin, degré, matrice d'adjacence..."
   ]
  },
  {
   "cell_type": "markdown",
   "metadata": {},
   "source": [
    "## Représentation par matrice d'adjacence"
   ]
  },
  {
   "cell_type": "markdown",
   "metadata": {
    "tags": [
     "exo"
    ]
   },
   "source": [
    "**Exercice** : Définir une fonction `make_matrix` telle que `make_matrix(n)` renvoie une matrice $n\\times n$ avec que des $0$. On rappelle qu'une matrice est définie par une liste de listes, où chaque sous-liste représente une ligne de la matrice."
   ]
  },
  {
   "cell_type": "markdown",
   "metadata": {
    "tags": [
     "exo"
    ]
   },
   "source": [
    "**Exercice** : Définir dans une variable `G` la matrice d'adjacence du graphe suivant (on pourra éventuellement utiliser la fonction précédente) :\n",
    "<center><img src=https://github.com/fortierq/itc1/raw/4be1ee8d9679ffae521c506ad54acb9e6099c614/files/5_graph/tp/tp2/g.png width=200></center>"
   ]
  },
  {
   "cell_type": "markdown",
   "metadata": {
    "tags": [
     "exo"
    ]
   },
   "source": [
    "**Exercice** : Écrire une fonction `n_aretes` pour calculer le nombre d'arêtes d'un graphe donné par matrice d'adjacence. Tester avec le graphe `G` précédent. On rappelle qu'il faut 2 indices $i$ et $j$ (et donc deux boucles `for`) pour parcourir les éléments d'une matrice."
   ]
  },
  {
   "cell_type": "markdown",
   "metadata": {
    "tags": [
     "exo"
    ]
   },
   "source": [
    "**Exercice** : Définir une fonction `voisins` telle que `voisins(G, v)` renvoie la liste des voisins du sommet `v`.  \n",
    "Vérifier que les voisins du sommet $2$ dans le graphe ci-dessus sont les sommets $1$, $4$, $5$."
   ]
  },
  {
   "cell_type": "markdown",
   "metadata": {},
   "source": [
    "**Exercice** : En déduire une fonction `deg` telle que `deg(G, v)` renvoie le degré du sommet `v`."
   ]
  },
  {
   "cell_type": "markdown",
   "metadata": {},
   "source": [
    "## Puissance de la matrice d'adjacence"
   ]
  },
  {
   "cell_type": "markdown",
   "metadata": {
    "tags": [
     "exo"
    ]
   },
   "source": [
    "**Exercice** : Écrire une fonction `produit` telle que, si `A` et `B` sont deux matrices compatibles, `produit(A, B)` renvoie une matrice contenant le produit `AB` de `A` et `B`.  \n",
    "On rappelle que, si $A = (a_{i, k})$ est de taille $n\\times p$ et $B = (b_{k, j})$ de taille $p\\times q$ alors $AB$ est de taille $n\\times q$ et :\n",
    "$$AB = (c_{i, k}), ~\\text{ où } c_{i, k} = \\sum_{j = 0}^{p - 1} a_{i, j} b_{j, k}$$\n",
    "Tester avec deux matrices $2\\times 3$ et $3\\times 2$ de votre choix et vérifier en faisant aussi le produit à la main."
   ]
  },
  {
   "cell_type": "markdown",
   "metadata": {
    "tags": [
     "exo"
    ]
   },
   "source": [
    "**Exercice** : En déduire une fonction `puissance` telle que `puissance(A, k)` renvoie $A^k$. Vérifier sur un exemple."
   ]
  },
  {
   "cell_type": "markdown",
   "metadata": {},
   "source": [
    "**Exercice** : Quelle est la complexité de `puissance(A, k)`, pour une matrice `A` de taille $n\\times n$ ?  \n",
    "M'appeler pour que je puisse vérifier."
   ]
  },
  {
   "cell_type": "markdown",
   "metadata": {
    "tags": [
     "exo"
    ]
   },
   "source": [
    "**Exercice** : Soit $A = (a_{i, j})$ la matrice d'adjacence d'un graphe $G$. Soit $A^k = A\\times ... \\times A$. On note $a^k_{i, j}$ le coefficient ligne $i$, colonne $j$ de $A^k$.  \n",
    "Montrer par récurrence sur $k$ que $a^k_{i, j}$ est égal au nombre de chemins de longueur $k$ du graphe $G$.  \n",
    "On pourra commencer par donner une équation de récurrence sur $a^k_{i, j}$.  \n",
    "Merci de m'appeler pour que je vérifie votre raisonnement."
   ]
  },
  {
   "cell_type": "markdown",
   "metadata": {
    "tags": [
     "exo"
    ]
   },
   "source": [
    "**Exercice** : En utilisant la question précédente et la fonction `puissance`, trouver le nombre de chemins du sommet $0$ au sommet $2$ dans le graphe suivant :\n",
    "<center><img src=https://github.com/fortierq/itc1/raw/master/files/5_graph/tp/tp2/gdir.png width=230></center>"
   ]
  },
  {
   "cell_type": "markdown",
   "metadata": {
    "tags": [
     "exo"
    ]
   },
   "source": [
    "**Exercice** : Retrouver mathématiquement le résultat précédent, en utilisant seulement du dénombrement (pas de matrice d'adjacence)."
   ]
  },
  {
   "cell_type": "markdown",
   "metadata": {
    "tags": [
     "exo"
    ]
   },
   "source": [
    "**Exercice** : Réécrire `puissance(A, k)` de façon à avoir une complexité O($n^3\\log(k)$), où `A` est de taille $n\\times n$.  \n",
    "On pourra utiliser la technique de [l'exponentiation rapide du TP dichotomie du 1er semestre](https://fortierq.github.io/itc1/files/2_tp_semestre1/4_dichotomie/#exponentiation-rapide)."
   ]
  },
  {
   "cell_type": "markdown",
   "metadata": {
    "tags": [
     "exo"
    ]
   },
   "source": [
    "**Exercice** : Pour ceux qui auraient fini le TP, voici d'autres questions plus théoriques/difficiles :  \n",
    "1. Montrer que dans tout graphe avec au moins 2 sommets, il existe 2 sommets de même degré.  \n",
    "2. Si $G = (V, E)$ est un graphe on définit ${}^c G = (V, {}^c{E})$ (le graphe complémentaire, contenant les arêtes qui n'existent pas dans $G$). Montrer que $G$ ou ${}^c G$ est connexe. Est-il possible que les deux soient connexes?"
   ]
  }
 ],
 "metadata": {
  "interpreter": {
   "hash": "31f2aee4e71d21fbe5cf8b01ff0e069b9275f58929596ceb00d14d90e3e16cd6"
  },
  "kernelspec": {
   "display_name": "Python 3",
   "language": "python",
   "name": "python3"
  },
  "language_info": {
   "codemirror_mode": {
    "name": "ipython",
    "version": 3
   },
   "file_extension": ".py",
   "mimetype": "text/x-python",
   "name": "python",
   "nbconvert_exporter": "python",
   "pygments_lexer": "ipython3",
   "version": "3.9.7"
  }
 },
 "nbformat": 4,
 "nbformat_minor": 4
}
