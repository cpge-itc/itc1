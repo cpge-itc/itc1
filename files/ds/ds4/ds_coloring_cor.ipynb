{
 "cells": [
  {
   "cell_type": "markdown",
   "metadata": {},
   "source": [
    "# <center><a href='https://colab.research.google.com/github/fortierq/itc1/blob/master/files/ds/ds4/ds_coloring_cor.ipynb'>DS 4 Corrigé : Coloriage de graphe <img src=https://colab.research.google.com/assets/colab-badge.svg width=100></a></center>\n",
    "\n",
    "## Définitions (/4)"
   ]
  },
  {
   "cell_type": "code",
   "execution_count": 16,
   "metadata": {},
   "outputs": [],
   "source": [
    "# 1. (/1)\n",
    "G1 = [[1, 3], [0, 2, 4, 5], [1, 5], [0, 4], [3, 1, 5], [4, 1, 2]]"
   ]
  },
  {
   "cell_type": "markdown",
   "metadata": {},
   "source": [
    "Q2. (/0.5) Exemple de 3-coloriage possible :\n",
    " \n",
    "| Sommet | 0 | 1 | 2 | 3 | 4 | 5 |\n",
    "|---|---|---|---|---|---|---|\n",
    "| Couleur | 0 | 1 | 0 | 1 | 0 | 2 |"
   ]
  },
  {
   "cell_type": "markdown",
   "metadata": {},
   "source": [
    "Q3. (/0.5) Les 3 sommets 1, 2, 5 sont tous reliés entre eux donc doivent être de couleurs différentes. D'où la nécessité d'avoir au moins 3 couleurs.  \n",
    "\n",
    "Q4. (/0.5) Il suffit de colorier chaque sommet avec une couleur différente."
   ]
  },
  {
   "cell_type": "code",
   "execution_count": 32,
   "metadata": {},
   "outputs": [
    {
     "data": {
      "text/plain": [
       "True"
      ]
     },
     "execution_count": 32,
     "metadata": {},
     "output_type": "execute_result"
    }
   ],
   "source": [
    "# Q5 (/1.5)\n",
    "def valid(G, C):\n",
    "    for u in range(len(G)):\n",
    "        for v in G[u]:\n",
    "            if C[u] == C[v]:\n",
    "                return False\n",
    "    return True\n",
    "\n",
    "not valid(G1, [0, 0, 1, 2, 3, 4]) and valid(G1, [3, 0, 1, 0, 3, 4])"
   ]
  },
  {
   "cell_type": "markdown",
   "metadata": {},
   "source": [
    "## Degré (/5)"
   ]
  },
  {
   "cell_type": "code",
   "execution_count": 33,
   "metadata": {},
   "outputs": [],
   "source": [
    "# 1. (/0.5)\n",
    "def deg(G, v):\n",
    "    return len(G[v])"
   ]
  },
  {
   "cell_type": "code",
   "execution_count": 34,
   "metadata": {},
   "outputs": [
    {
     "data": {
      "text/plain": [
       "3"
      ]
     },
     "execution_count": 34,
     "metadata": {},
     "output_type": "execute_result"
    }
   ],
   "source": [
    "# 2. (/1.5)\n",
    "def deg_max(G):\n",
    "    maxi = 0\n",
    "    for v in range(len(G)):\n",
    "        d = deg(G, v)\n",
    "        if d > maxi:\n",
    "            maxi = d\n",
    "    return maxi\n",
    "\n",
    "deg_max(G1)"
   ]
  },
  {
   "cell_type": "code",
   "execution_count": 35,
   "metadata": {},
   "outputs": [
    {
     "data": {
      "text/plain": [
       "[0, 1, 0, 1, 0, 2]"
      ]
     },
     "execution_count": 35,
     "metadata": {},
     "output_type": "execute_result"
    }
   ],
   "source": [
    "# 3. (/3)\n",
    "def delta_color(G):\n",
    "    n = len(G)\n",
    "    colors = [-1]*n\n",
    "    for u in range(n):\n",
    "        colors_u = [False]*n\n",
    "        for v in G[u]:\n",
    "            if colors[v] != -1:\n",
    "                colors_u[colors[v]] = True\n",
    "        for i in range(n):\n",
    "            if colors_u[i] == False:\n",
    "                colors[u] = i\n",
    "                break\n",
    "    return colors\n",
    "\n",
    "delta_color(G1)"
   ]
  },
  {
   "cell_type": "markdown",
   "metadata": {},
   "source": [
    "## Clique (/2.5)\n",
    "\n",
    "Q1. (/0.5) Tous les sommets d'une clique doivent être de couleur différente."
   ]
  },
  {
   "cell_type": "code",
   "execution_count": 24,
   "metadata": {},
   "outputs": [],
   "source": [
    "# 2. (/2)\n",
    "def is_clique(G, V):\n",
    "    for u in V:\n",
    "        for v in V:\n",
    "            if u != v and G[u][v] == 0:\n",
    "                return False\n",
    "    return True"
   ]
  },
  {
   "cell_type": "markdown",
   "metadata": {},
   "source": [
    "## 2-coloration par parcours en profondeur (/3.5)"
   ]
  },
  {
   "cell_type": "code",
   "execution_count": 29,
   "metadata": {},
   "outputs": [
    {
     "data": {
      "text/plain": [
       "False"
      ]
     },
     "execution_count": 29,
     "metadata": {},
     "output_type": "execute_result"
    }
   ],
   "source": [
    "# 1. (/2.5)\n",
    "def color2(G):\n",
    "    C = [-1]*len(G)\n",
    "    def aux(v, c): # parcours en profondeur sur v, en lui donnant la couleur c\n",
    "        if C[v] == 1 - c:\n",
    "            return False\n",
    "        if C[v] == c:\n",
    "            return True\n",
    "        C[v] = c\n",
    "        for w in G[v]:\n",
    "            if not aux(w, 1 - c):\n",
    "                return False\n",
    "        return True\n",
    "    if not aux(0, 0):\n",
    "        return False\n",
    "    return C\n",
    "\n",
    "color2(G1)"
   ]
  },
  {
   "cell_type": "code",
   "execution_count": 30,
   "metadata": {},
   "outputs": [
    {
     "data": {
      "text/plain": [
       "False"
      ]
     },
     "execution_count": 30,
     "metadata": {},
     "output_type": "execute_result"
    }
   ],
   "source": [
    "# 2. (/1)\n",
    "def color2(G):\n",
    "    C = [-1]*len(G)\n",
    "    def aux(v, c): # parcours en profondeur sur v, en lui donnant la couleur c\n",
    "        if C[v] == 1 - c:\n",
    "            return False\n",
    "        if C[v] == c:\n",
    "            return True\n",
    "        C[v] = c\n",
    "        for w in G[v]:\n",
    "            if not aux(w, 1 - c):\n",
    "                return False\n",
    "        return True\n",
    "    for i in range(len(G)):\n",
    "        if not aux(i, 0):\n",
    "            return False\n",
    "    return C\n",
    "\n",
    "color2(G1)"
   ]
  },
  {
   "cell_type": "markdown",
   "metadata": {},
   "source": [
    "## Comptage du nombre de couleurs (/5.5)"
   ]
  },
  {
   "cell_type": "code",
   "execution_count": 25,
   "metadata": {},
   "outputs": [
    {
     "data": {
      "text/plain": [
       "3"
      ]
     },
     "execution_count": 25,
     "metadata": {},
     "output_type": "execute_result"
    }
   ],
   "source": [
    "# 1. (/1.5)\n",
    "def ncolor1(C):\n",
    "    L = []\n",
    "    for c in C:\n",
    "        if c not in L:\n",
    "            L.append(c)\n",
    "    return len(L)\n",
    "\n",
    "ncolor1([1, 4, 0, 4, 1])"
   ]
  },
  {
   "cell_type": "code",
   "execution_count": 26,
   "metadata": {},
   "outputs": [
    {
     "data": {
      "text/plain": [
       "3"
      ]
     },
     "execution_count": 26,
     "metadata": {},
     "output_type": "execute_result"
    }
   ],
   "source": [
    "# 2. (/2)\n",
    "def ncolor2(C):\n",
    "    C.sort()\n",
    "    n = 1\n",
    "    for i in range(len(C) - 1):\n",
    "        if C[i] != C[i + 1]:\n",
    "            n += 1\n",
    "    return n\n",
    "\n",
    "ncolor2([1, 4, 0, 4, 1])"
   ]
  },
  {
   "cell_type": "code",
   "execution_count": 28,
   "metadata": {},
   "outputs": [
    {
     "data": {
      "text/plain": [
       "3"
      ]
     },
     "execution_count": 28,
     "metadata": {},
     "output_type": "execute_result"
    }
   ],
   "source": [
    "# 3. (/2)\n",
    "def ncolor3(C):\n",
    "    B = [False]*len(C)\n",
    "    for c in C:\n",
    "        B[c] = True\n",
    "    n = 0\n",
    "    for i in range(len(B)):\n",
    "        if B[i]:\n",
    "            n += 1\n",
    "    return n\n",
    "\n",
    "ncolor3([1, 4, 0, 4, 1])"
   ]
  }
 ],
 "metadata": {
  "interpreter": {
   "hash": "73a7628e7fbe50a71e811baaf24b93be3ca0f9147b8f95081f8bab36bc67b220"
  },
  "kernelspec": {
   "display_name": "Python 3.10.4 64-bit",
   "language": "python",
   "name": "python3"
  },
  "language_info": {
   "codemirror_mode": {
    "name": "ipython",
    "version": 3
   },
   "file_extension": ".py",
   "mimetype": "text/x-python",
   "name": "python",
   "nbconvert_exporter": "python",
   "pygments_lexer": "ipython3",
   "version": "3.10.4"
  }
 },
 "nbformat": 4,
 "nbformat_minor": 2
}
